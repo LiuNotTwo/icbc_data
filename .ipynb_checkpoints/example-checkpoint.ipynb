{
 "cells": [
  {
   "cell_type": "code",
   "execution_count": 51,
   "id": "reported-briefs",
   "metadata": {},
   "outputs": [],
   "source": [
    "from database import database\n",
    "client = database.readdata(uri=\"POLL.json\")\n",
    "data = client.filedata()"
   ]
  },
  {
   "cell_type": "code",
   "execution_count": 52,
   "id": "genuine-optics",
   "metadata": {},
   "outputs": [
    {
     "data": {
      "text/plain": [
       "list"
      ]
     },
     "execution_count": 52,
     "metadata": {},
     "output_type": "execute_result"
    }
   ],
   "source": [
    "type(data)"
   ]
  },
  {
   "cell_type": "code",
   "execution_count": 54,
   "id": "checked-greensboro",
   "metadata": {},
   "outputs": [
    {
     "data": {
      "text/plain": [
       "[{'code': '0',\n",
       "  'down_time': '0',\n",
       "  'all_time': '162',\n",
       "  'dect_ip': '240e:604:204:900::4',\n",
       "  'monitor': '240e:735:214:1:0:0:0:b2',\n",
       "  'file_size': '131',\n",
       "  'redirect_time': '0',\n",
       "  'ssl_time': '91',\n",
       "  'dns_time': '3',\n",
       "  'dns_ip': '61.178.0.93',\n",
       "  'port': '443',\n",
       "  'connect_time': '40',\n",
       "  'dest_ip': '240e:604:204:900::4',\n",
       "  'host': 'fee.icbc.com.cn',\n",
       "  'response_time': '28',\n",
       "  'collect_time': '1669219192000',\n",
       "  'status': '200',\n",
       "  'collect_date': '2022-11-23'}]"
      ]
     },
     "execution_count": 54,
     "metadata": {},
     "output_type": "execute_result"
    }
   ],
   "source": [
    "data[:1]"
   ]
  },
  {
   "cell_type": "markdown",
   "id": "worldwide-program",
   "metadata": {},
   "source": [
    "### 1. FastWhois"
   ]
  },
  {
   "cell_type": "code",
   "execution_count": 3,
   "id": "identical-output",
   "metadata": {},
   "outputs": [],
   "source": [
    "import importlib"
   ]
  },
  {
   "cell_type": "code",
   "execution_count": 10,
   "id": "duplicate-mathematics",
   "metadata": {},
   "outputs": [],
   "source": [
    "from cachedipinfo import fastwhois\n",
    "importlib.reload(fastwhois)\n",
    "FastWhois = fastwhois.fastwhois()"
   ]
  },
  {
   "cell_type": "code",
   "execution_count": 55,
   "id": "silver-tomato",
   "metadata": {},
   "outputs": [
    {
     "data": {
      "text/plain": [
       "dict"
      ]
     },
     "execution_count": 55,
     "metadata": {},
     "output_type": "execute_result"
    }
   ],
   "source": [
    "type(FastWhois.localData)"
   ]
  },
  {
   "cell_type": "code",
   "execution_count": 191,
   "id": "periodic-elite",
   "metadata": {},
   "outputs": [
    {
     "data": {
      "text/plain": [
       "['2402:f000:2:3001:a255:5616:4cd7:b102', '183.172.53.106', '8.8.8.8']"
      ]
     },
     "execution_count": 191,
     "metadata": {},
     "output_type": "execute_result"
    }
   ],
   "source": [
    "list(FastWhois.localData.keys())[:3]"
   ]
  },
  {
   "cell_type": "code",
   "execution_count": 56,
   "id": "green-groove",
   "metadata": {},
   "outputs": [
    {
     "data": {
      "text/plain": [
       "{'ip_seg': '8.8.8.0/24',\n",
       " 'net_name': 'LVLT-GOGL-8-8-8',\n",
       " 'inetnum': '8.8.8.0-8.8.8.255',\n",
       " 'geo': '美国'}"
      ]
     },
     "execution_count": 56,
     "metadata": {},
     "output_type": "execute_result"
    }
   ],
   "source": [
    "FastWhois.localData['8.8.8.8']"
   ]
  },
  {
   "cell_type": "code",
   "execution_count": 192,
   "id": "threatened-arctic",
   "metadata": {},
   "outputs": [],
   "source": [
    "i = 0\n",
    "for key in list(FastWhois.localData.keys()):\n",
    "    i += 1\n",
    "    #print(i, end = \", \")\n",
    "    if FastWhois.localData[key][\"ip_seg\"] == \"0.0.0.0\":\n",
    "        print(i, key, end = \", \")\n",
    "        #print(FastWhois.localData[key])\n",
    "#         FastWhois.localData2[key] = FastWhois.onlineWhois2(key)\n",
    "#         FastWhois.localData2[key]['geo'] = FastWhois.localData[key]['geo']\n"
   ]
  },
  {
   "cell_type": "code",
   "execution_count": 193,
   "id": "confirmed-calvin",
   "metadata": {},
   "outputs": [
    {
     "name": "stdout",
     "output_type": "stream",
     "text": [
      "{'ip_seg': '2402:f000::/32', 'net_name': 'CERNET2-TSINGHUA6-20080418', 'inetnum': '2402:f000::-2402:f000:ffff:ffff:ffff:ffff:ffff:ffff', 'geo': '中国\\t北京市'}\n",
      "\n",
      "{'ip_seg': '183.172.0.0/14', 'net_name': 'BJR-CERNET', 'inetnum': '183.172.0.0-183.175.255.255', 'geo': '北京市'}\n",
      "\n",
      "{'ip_seg': '8.8.8.0/24', 'net_name': 'LVLT-GOGL-8-8-8', 'inetnum': '8.8.8.0-8.8.8.255', 'geo': '美国'}\n",
      "\n",
      "{'ip_seg': '114.114.0.0/16', 'net_name': 'XFInfo', 'inetnum': '114.114.0.0-114.114.255.255', 'geo': '江苏省南京市'}\n",
      "\n",
      "{'ip_seg': '114.114.0.0/16', 'net_name': 'XFInfo', 'inetnum': '114.114.0.0-114.114.255.255', 'geo': '中国'}\n",
      "\n"
     ]
    }
   ],
   "source": [
    "for key in list(FastWhois.localData.keys())[:5]:\n",
    "    print(FastWhois.localData[key])\n",
    "    print()"
   ]
  },
  {
   "cell_type": "code",
   "execution_count": 194,
   "id": "incoming-tamil",
   "metadata": {},
   "outputs": [
    {
     "data": {
      "text/plain": [
       "{'ip_seg': '', 'net_name': '', 'inetnum': '', 'geo': 'IANA保留地址'}"
      ]
     },
     "execution_count": 194,
     "metadata": {},
     "output_type": "execute_result"
    }
   ],
   "source": [
    "FastWhois.localData[\"fec0::2021:1124:5\"]"
   ]
  },
  {
   "cell_type": "code",
   "execution_count": 195,
   "id": "breathing-norman",
   "metadata": {},
   "outputs": [
    {
     "data": {
      "text/plain": [
       "{'ip_seg': '100.128.0.0/9',\n",
       " 'net_name': 'CORE2',\n",
       " 'inetnum': '100.128.0.0-100.255.255.255',\n",
       " 'geo': '美国'}"
      ]
     },
     "execution_count": 195,
     "metadata": {},
     "output_type": "execute_result"
    }
   ],
   "source": [
    "FastWhois.localData[\"100.191.0.249\"]"
   ]
  },
  {
   "cell_type": "code",
   "execution_count": 209,
   "id": "coordinate-labor",
   "metadata": {},
   "outputs": [
    {
     "data": {
      "text/plain": [
       "{'ip_seg': '123.16.0.0/12',\n",
       " 'net_name': 'VNPT-VN',\n",
       " 'inetnum': '123.16.0.0-123.31.255.255',\n",
       " 'geo': '越南'}"
      ]
     },
     "execution_count": 209,
     "metadata": {},
     "output_type": "execute_result"
    }
   ],
   "source": [
    "FastWhois.query(\"123.22.11.15\")"
   ]
  },
  {
   "cell_type": "code",
   "execution_count": 60,
   "id": "fleet-vitamin",
   "metadata": {},
   "outputs": [
    {
     "data": {
      "text/plain": [
       "'北京市'"
      ]
     },
     "execution_count": 60,
     "metadata": {},
     "output_type": "execute_result"
    }
   ],
   "source": [
    "FastWhois.IPGeo(\"183.172.51.83\")"
   ]
  },
  {
   "cell_type": "code",
   "execution_count": 64,
   "id": "adapted-trunk",
   "metadata": {},
   "outputs": [],
   "source": [
    "FastWhois.update()"
   ]
  },
  {
   "cell_type": "code",
   "execution_count": 62,
   "id": "wanted-barcelona",
   "metadata": {},
   "outputs": [
    {
     "data": {
      "text/plain": [
       "2714"
      ]
     },
     "execution_count": 62,
     "metadata": {},
     "output_type": "execute_result"
    }
   ],
   "source": [
    "len(FastWhois.localData)"
   ]
  },
  {
   "cell_type": "code",
   "execution_count": 201,
   "id": "satellite-oracle",
   "metadata": {},
   "outputs": [
    {
     "data": {
      "text/plain": [
       "{'ip_seg': '183.172.0.0/14',\n",
       " 'net_name': 'BJR-CERNET',\n",
       " 'inetnum': '183.172.0.0-183.175.255.255',\n",
       " 'geo': '北京市'}"
      ]
     },
     "execution_count": 201,
     "metadata": {},
     "output_type": "execute_result"
    }
   ],
   "source": [
    "FastWhois.localData['183.172.53.106']"
   ]
  },
  {
   "cell_type": "code",
   "execution_count": 202,
   "id": "french-norfolk",
   "metadata": {},
   "outputs": [
    {
     "data": {
      "text/plain": [
       "{'ip_seg': '0.0.0.0/0',\n",
       " 'net_name': 'IANA-BLOCK',\n",
       " 'inetnum': '0.0.0.0-255.255.255.255'}"
      ]
     },
     "execution_count": 202,
     "metadata": {},
     "output_type": "execute_result"
    }
   ],
   "source": [
    "FastWhois.onlineWhois(\"104.112.3.141\")"
   ]
  },
  {
   "cell_type": "code",
   "execution_count": 57,
   "id": "actual-questionnaire",
   "metadata": {},
   "outputs": [
    {
     "data": {
      "text/plain": [
       "{'ip_seg': '8.8.8.0/24',\n",
       " 'net_name': 'LVLT-GOGL-8-8-8',\n",
       " 'inetnum': '8.8.8.0-8.8.8.255',\n",
       " 'geo': '美国'}"
      ]
     },
     "execution_count": 57,
     "metadata": {},
     "output_type": "execute_result"
    }
   ],
   "source": [
    "# 本地查询\n",
    "FastWhois.localQuery(\"8.8.8.8\")"
   ]
  },
  {
   "cell_type": "code",
   "execution_count": 58,
   "id": "agreed-librarian",
   "metadata": {},
   "outputs": [
    {
     "data": {
      "text/plain": [
       "{'ip_seg': '8.0.0.0/8',\n",
       " 'net_name': 'IANA-NETBLOCK-8',\n",
       " 'inetnum': '8.0.0.0-8.255.255.255'}"
      ]
     },
     "execution_count": 58,
     "metadata": {},
     "output_type": "execute_result"
    }
   ],
   "source": [
    "# 在线whois查询\n",
    "FastWhois.onlineWhois(\"8.8.8.8\")"
   ]
  },
  {
   "cell_type": "code",
   "execution_count": 166,
   "id": "provincial-ranking",
   "metadata": {},
   "outputs": [
    {
     "data": {
      "text/plain": [
       "{'ip_seg': '8.8.8.0/24',\n",
       " 'net_name': 'LVLT-GOGL-8-8-8',\n",
       " 'inetnum': '8.8.8.0-8.8.8.255',\n",
       " 'geo': '美国'}"
      ]
     },
     "execution_count": 166,
     "metadata": {},
     "output_type": "execute_result"
    }
   ],
   "source": [
    "# 查询：优先本地，本地无再进行线上查询 （默认使用）\n",
    "FastWhois.query(\"8.8.8.8\")"
   ]
  },
  {
   "cell_type": "code",
   "execution_count": 63,
   "id": "overhead-helping",
   "metadata": {},
   "outputs": [
    {
     "data": {
      "text/plain": [
       "'8.8.8.0/24'"
      ]
     },
     "execution_count": 63,
     "metadata": {},
     "output_type": "execute_result"
    }
   ],
   "source": [
    "# 所属网段查询，在本地缓存网段中使用二分查找方式进行查询\n",
    "FastWhois.localSegSearch(\"8.8.8.8\")"
   ]
  },
  {
   "cell_type": "markdown",
   "id": "fifty-sight",
   "metadata": {},
   "source": [
    "### 2. 数据聚合"
   ]
  },
  {
   "cell_type": "code",
   "execution_count": 65,
   "id": "turned-produce",
   "metadata": {},
   "outputs": [],
   "source": [
    "from dataagg import aggregation\n",
    "importlib.reload(aggregation)\n",
    "Aggregation = aggregation.aggregation(datauri=\"POLL.json\", alldata=True)\n",
    "#针对\"all_time\"指标，求聚合均值\n",
    "time_val = Aggregation.overallAgg(metric=\"all_time\")"
   ]
  },
  {
   "cell_type": "code",
   "execution_count": 68,
   "id": "musical-marketplace",
   "metadata": {},
   "outputs": [
    {
     "name": "stdout",
     "output_type": "stream",
     "text": [
      "[(1669132950, 180.27050997782706), (1669133250, 182.43270300333705), (1669133550, 163.45413870246085)]\n"
     ]
    }
   ],
   "source": [
    "print(time_val[:3])"
   ]
  },
  {
   "cell_type": "code",
   "execution_count": 42,
   "id": "cleared-console",
   "metadata": {},
   "outputs": [],
   "source": [
    "import numpy as np\n",
    "time_val = np.array(time_val)"
   ]
  },
  {
   "cell_type": "code",
   "execution_count": 43,
   "id": "large-neutral",
   "metadata": {},
   "outputs": [
    {
     "data": {
      "text/plain": [
       "[<matplotlib.lines.Line2D at 0x7f822aaddbe0>]"
      ]
     },
     "execution_count": 43,
     "metadata": {},
     "output_type": "execute_result"
    },
    {
     "data": {
      "image/png": "[encoded data removed]",
      "text/plain": [
       "<Figure size 432x288 with 1 Axes>"
      ]
     },
     "metadata": {
      "needs_background": "light"
     },
     "output_type": "display_data"
    }
   ],
   "source": [
    "from matplotlib import pyplot as plt\n",
    "plt.plot(time_val[:, 0], time_val[:, 1])"
   ]
  },
  {
   "cell_type": "code",
   "execution_count": 217,
   "id": "joined-norman",
   "metadata": {},
   "outputs": [],
   "source": [
    "time_val = Aggregation.overallAgg(metric=\"dns_time\")"
   ]
  },
  {
   "cell_type": "code",
   "execution_count": 218,
   "id": "pacific-israeli",
   "metadata": {},
   "outputs": [
    {
     "data": {
      "text/plain": [
       "[<matplotlib.lines.Line2D at 0x7fde910def98>]"
      ]
     },
     "execution_count": 218,
     "metadata": {},
     "output_type": "execute_result"
    },
    {
     "data": {
      "image/png": "[encoded data removed]",
      "text/plain": [
       "<Figure size 432x288 with 1 Axes>"
      ]
     },
     "metadata": {
      "needs_background": "light"
     },
     "output_type": "display_data"
    }
   ],
   "source": [
    "import numpy as np\n",
    "time_val = np.array(time_val)\n",
    "from matplotlib import pyplot as plt\n",
    "plt.plot(time_val[:, 0], time_val[:, 1])"
   ]
  },
  {
   "cell_type": "code",
   "execution_count": 219,
   "id": "frank-boutique",
   "metadata": {},
   "outputs": [
    {
     "data": {
      "text/plain": [
       "[<matplotlib.lines.Line2D at 0x7fde901a0668>]"
      ]
     },
     "execution_count": 219,
     "metadata": {},
     "output_type": "execute_result"
    },
    {
     "data": {
      "image/png": "[encoded data removed]",
      "text/plain": [
       "<Figure size 432x288 with 1 Axes>"
      ]
     },
     "metadata": {
      "needs_background": "light"
     },
     "output_type": "display_data"
    }
   ],
   "source": [
    "# 聚合范围：探针IP属地为北京的测量数据\n",
    "time_val_bj = Aggregation.regionAgg(metric=\"dns_time\", ipversion=4, region=\"北京\")\n",
    "time_val_bj = np.array(time_val_bj)\n",
    "plt.plot(time_val_bj[:, 0], time_val_bj[:, 1])"
   ]
  },
  {
   "cell_type": "code",
   "execution_count": 220,
   "id": "operating-colombia",
   "metadata": {},
   "outputs": [
    {
     "data": {
      "text/plain": [
       "[<matplotlib.lines.Line2D at 0x7fde90151710>]"
      ]
     },
     "execution_count": 220,
     "metadata": {},
     "output_type": "execute_result"
    },
    {
     "data": {
      "image/png": "[encoded data removed]",
      "text/plain": [
       "<Figure size 432x288 with 1 Axes>"
      ]
     },
     "metadata": {
      "needs_background": "light"
     },
     "output_type": "display_data"
    }
   ],
   "source": [
    "# 聚合范围：端到端测量数据  (优化：部分参数放在方法中而不是类中，这样使用起来更加灵活)\n",
    "time_val_e2e = Aggregation.e2eAgg(sip='240e:928:101:0:0:0:0:d', dip='240e:604:204:900::1e', metric=\"connect_time\")\n",
    "time_val_e2e = np.array(time_val_e2e)\n",
    "plt.plot(time_val_e2e[:, 0], time_val_e2e[:, 1])"
   ]
  },
  {
   "cell_type": "code",
   "execution_count": 69,
   "id": "stable-aquatic",
   "metadata": {},
   "outputs": [
    {
     "name": "stdout",
     "output_type": "stream",
     "text": [
      "[(1669133085, '0'), (1669133096, '0'), (1669133096, '0'), (1669133382, '0'), (1669133396, '0'), (1669133396, '0'), (1669133684, '0'), (1669133696, '0'), (1669133696, '0'), (1669133984, '0')]\n"
     ]
    }
   ],
   "source": [
    "codes = Aggregation.codeSequence()\n",
    "print(codes['118.213.93.172-218.95.139.32'][:10])"
   ]
  },
  {
   "cell_type": "markdown",
   "id": "occupied-candy",
   "metadata": {},
   "source": [
    "### 3. 拓扑构建"
   ]
  },
  {
   "cell_type": "code",
   "execution_count": 70,
   "id": "proud-equilibrium",
   "metadata": {},
   "outputs": [],
   "source": [
    "from nettopo import topobuild\n",
    "importlib.reload(topobuild)\n",
    "NetTopo = topobuild.topobuild()"
   ]
  },
  {
   "cell_type": "code",
   "execution_count": 223,
   "id": "processed-prison",
   "metadata": {},
   "outputs": [
    {
     "data": {
      "text/plain": [
       "{'monitor': '125.77.139.20',\n",
       " 'port': '443',\n",
       " 'route_info': 'bXRyPVN0YXJ0OiBXZWQgTm92IDIzIDIzOjU4OjI4IDIwMjIKSE9TVDogZmotcXVhbnpob3UtZHgtZmVsLTAwMDEubm92YWxvY2FsIExvc3MlICAgU250ICAgTGFzdCAgIEF2ZyAgQmVzdCAgV3JzdCBTdERldgogIDEufC0tIDEyNS43Ny4xMjkuMSAgICAgICAgICAgICAgICAgICAgICA2Mi4wJSAgICA1MCAgICA1LjAgIDEwLjYgICAzLjAgIDg0LjQgIDE4LjMKICAyLnwtLSAxNzIuMTcuMTI4LjI5ICAgICAgICAgICAgICAgICAgICAgMjQuMCUgICAgNTAgICAgMi44ICAgNC44ICAgMi4yICAxNy42ICAgNC4yCiAgMy58LS0gMTAuNTAuMC40MSAgICAgICAgICAgICAgICAgICAgICAgIDYwLjAlICAgIDUwICAgIDUuNiAgIDQuMSAgIDIuNCAgMTYuOSAgIDMuMgogIDQufC0tIDEyNS43Ny4xMjguODkgICAgICAgICAgICAgICAgICAgICAgMC4wJSAgICA1MCAgICAxLjEgICAyLjUgICAwLjggIDE3LjEgICAzLjEKICA1LnwtLSAxMTcuMjQuMi4yNSAgICAgICAgICAgICAgICAgICAgICAgMzguMCUgICAgNTAgICAgMy4wICAxNC40ICAgMy4wIDE1NC4xICAzMi4zCiAgNi58LS0gMjAyLjk3LjIyLjc3ICAgICAgICAgICAgICAgICAgICAgIDc0LjAlICAgIDUwICAgMjQuMCAgMTguNSAgMTYuOCAgMjQuMyAgIDIuNQogIDcufC0tIDEwMS45NS44OS45NyAgICAgICAgICAgICAgICAgICAgICA3MC4wJSAgICA1MCAgIDE3LjggIDIwLjcgIDE3LjYgIDMxLjkgICA0LjcKICA4LnwtLSAxMDEuOTUuODkuNDYgICAgICAgICAgICAgICAgICAgICAgMjguMCUgICAgNTAgICAyMy4zICAyMC4wICAxNy4zICAzNS4xICAgNC40CiAgOS58LS0gMTAxLjk1Ljk1LjEwICAgICAgICAgICAgICAgICAgICAgIDEyLjAlICAgIDUwICAgMTcuNyAgMjAuMiAgMTcuNiAgMzMuMSAgIDMuNwogMTAufC0tIDEyNC43NC41NC4xNzggICAgICAgICAgICAgICAgICAgICAgMC4wJSAgICA0OSAgIDE4LjYgIDE5LjMgIDE3LjggIDMyLjggICAzLjUKIDExLnwtLSA1OC40MC45Ny4xMzQgICAgICAgICAgICAgICAgICAgICAgIDAuMCUgICAgNDkgICAyMC4wICAyMi43ICAxOS45ICA0Ny41ICAgNC44CiAxMi58LS0gPz8/ICAgICAgICAgICAgICAgICAgICAgICAgICAgICAgIDEwMC4wICAgIDQ4ICAgIDAuMCAgIDAuMCAgIDAuMCAgIDAuMCAgIDAuMAogMTMufC0tID8/PyAgICAgICAgICAgICAgICAgICAgICAgICAgICAgICAxMDAuMCAgICA0OCAgICAwLjAgICAwLjAgICAwLjAgICAwLjAgICAwLjAKIDE0LnwtLSAxODAuMTY5LjgwLjU1ICAgICAgICAgICAgICAgICAgICAgIDAuMCUgICAgNDggICAxOC40ICAyMS4wICAxOC4zICA4OS4zICAxMC41Cg==',\n",
       " 'dest_ip': '180.169.80.55',\n",
       " 'host': 'myebank2.icbc.com.cn',\n",
       " 'collect_time': '1669219107000',\n",
       " 'collect_date': '2022-11-23',\n",
       " 'error_type': ''}"
      ]
     },
     "execution_count": 223,
     "metadata": {},
     "output_type": "execute_result"
    }
   ],
   "source": [
    "import json\n",
    "with open(\"MTR.json\") as f:\n",
    "    mtr = json.load(f)\n",
    "mtr[2]"
   ]
  },
  {
   "cell_type": "code",
   "execution_count": 224,
   "id": "dangerous-enough",
   "metadata": {},
   "outputs": [],
   "source": [
    "NetTopo.mtr2topo(mtr[2])\n",
    "NetTopo.update()"
   ]
  },
  {
   "cell_type": "code",
   "execution_count": 225,
   "id": "underlying-classification",
   "metadata": {},
   "outputs": [
    {
     "data": {
      "text/plain": [
       "{'124.74.54.178': 1669603169000,\n",
       " '125.77.129.1': 1669603169000,\n",
       " '101.95.89.45': 1669574306000,\n",
       " '10.50.0.41': 1669603169000,\n",
       " '172.17.128.29': 1669603169000,\n",
       " '117.24.2.25': 1669603169000,\n",
       " '180.169.80.55': 1669603169000,\n",
       " '58.40.97.134': 1669603169000,\n",
       " '101.95.89.46': 1669603169000,\n",
       " '125.77.128.89': 1669603169000,\n",
       " '202.97.100.217': 1669574306000,\n",
       " '101.95.95.10': 1669603169000,\n",
       " '101.95.89.33': 1669585110000,\n",
       " '202.97.22.77': 1669603169000,\n",
       " '101.95.89.97': 1669603169000,\n",
       " '101.95.89.37': 1669464259000,\n",
       " '101.95.89.41': 1669384113000,\n",
       " '125.77.128.93': 1669171727000,\n",
       " '101.95.95.82': 1669010306000,\n",
       " '101.95.89.150': 1668974920000,\n",
       " '124.74.54.174': 1668974920000}"
      ]
     },
     "execution_count": 225,
     "metadata": {},
     "output_type": "execute_result"
    }
   ],
   "source": [
    "NetTopo.query(monitor=\"125.77.139.20\", dest=\"180.169.80.55\")\n",
    "# {'124.74.54.178': 1669603169000,\n",
    "#  '125.77.129.1': 1669603169000,\n",
    "#  '101.95.89.45': 1669574306000,\n",
    "#  '10.50.0.41': 1669603169000,\n",
    "#  '172.17.128.29': 1669603169000,\n",
    "#  '117.24.2.25': 1669603169000,\n",
    "#  '180.169.80.55': 1669603169000,\n",
    "#  '58.40.97.134': 1669603169000,\n",
    "#  '101.95.89.46': 1669603169000,\n",
    "#  '125.77.128.89': 1669603169000,\n",
    "#  '202.97.100.217': 1669574306000,\n",
    "#  '101.95.95.10': 1669603169000,\n",
    "#  '101.95.89.33': 1669585110000,\n",
    "#  '202.97.22.77': 1669603169000,\n",
    "#  '101.95.89.97': 1669603169000,\n",
    "#  '101.95.89.37': 1669464259000,\n",
    "#  '101.95.89.41': 1669384113000,\n",
    "#  '125.77.128.93': 1669171727000,\n",
    "#  '101.95.95.82': 1669010306000,\n",
    "#  '101.95.89.150': 1668974920000,\n",
    "#  '124.74.54.174': 1668974920000}"
   ]
  },
  {
   "cell_type": "code",
   "execution_count": 226,
   "id": "determined-minister",
   "metadata": {},
   "outputs": [
    {
     "data": {
      "text/plain": [
       "{'124.74.54.178': 1669603169000,\n",
       " '125.77.129.1': 1669603169000,\n",
       " '101.95.89.45': 1669574306000,\n",
       " '10.50.0.41': 1669603169000,\n",
       " '172.17.128.29': 1669603169000,\n",
       " '117.24.2.25': 1669603169000,\n",
       " '180.169.80.55': 1669603169000,\n",
       " '58.40.97.134': 1669603169000,\n",
       " '101.95.89.46': 1669603169000,\n",
       " '125.77.128.89': 1669603169000,\n",
       " '202.97.100.217': 1669574306000,\n",
       " '101.95.95.10': 1669603169000,\n",
       " '101.95.89.33': 1669585110000,\n",
       " '202.97.22.77': 1669603169000,\n",
       " '101.95.89.97': 1669603169000,\n",
       " '101.95.89.37': 1669464259000,\n",
       " '101.95.89.41': 1669384113000,\n",
       " '125.77.128.93': 1669171727000,\n",
       " '101.95.95.82': 1669010306000,\n",
       " '101.95.89.150': 1668974920000,\n",
       " '124.74.54.174': 1668974920000}"
      ]
     },
     "execution_count": 226,
     "metadata": {},
     "output_type": "execute_result"
    }
   ],
   "source": [
    "NetTopo.localData[\"125.77.139.20-180.169.80.55\"]"
   ]
  },
  {
   "cell_type": "code",
   "execution_count": 7,
   "id": "minor-country",
   "metadata": {},
   "outputs": [
    {
     "name": "stdout",
     "output_type": "stream",
     "text": [
      "223.111.4.6221.183.79.122183.203.110.17183.203.110.153221.183.59.117172.16.1.41221.183.42.133183.201.234.1\n"
     ]
    }
   ],
   "source": [
    "flag = True\n",
    "for key in NetTopo.localData:\n",
    "    s = \"\"\n",
    "    for hop in NetTopo.localData[key]:\n",
    "        s += hop\n",
    "    if flag:\n",
    "        print(s)\n",
    "        flag = False\n",
    "    if \".\" in s and \":\" in s:\n",
    "        print(key, NetTopo.localData[key])\n",
    "        print()"
   ]
  },
  {
   "cell_type": "code",
   "execution_count": 180,
   "id": "mysterious-buffer",
   "metadata": {},
   "outputs": [
    {
     "data": {
      "text/plain": [
       "{'10.0.0.0/8',\n",
       " '101.80.0.0/12',\n",
       " '117.24.0.0/13',\n",
       " '124.74.0.0/16',\n",
       " '125.77.128.0/19',\n",
       " '172.0.0.0/8',\n",
       " '180.160.0.0/12',\n",
       " '202.97.0.0/19',\n",
       " '202.97.96.0/19',\n",
       " '58.40.0.0/16'}"
      ]
     },
     "execution_count": 180,
     "metadata": {},
     "output_type": "execute_result"
    }
   ],
   "source": [
    "NetTopo.pathnets[\"125.77.139.20-180.169.80.55\"]\n",
    "# {'10.0.0.0/8',\n",
    "#  '101.80.0.0/12',\n",
    "#  '117.24.0.0/13',\n",
    "#  '124.74.0.0/16',\n",
    "#  '125.77.128.0/19',\n",
    "#  '172.0.0.0/8',\n",
    "#  '180.160.0.0/12',\n",
    "#  '202.97.0.0/19',\n",
    "#  '202.97.96.0/19',\n",
    "#  '58.40.0.0/16'}"
   ]
  },
  {
   "cell_type": "code",
   "execution_count": 71,
   "id": "hairy-textbook",
   "metadata": {},
   "outputs": [
    {
     "name": "stderr",
     "output_type": "stream",
     "text": [
      "100%|██████████| 5227/5227 [01:05<00:00, 80.09it/s] \n"
     ]
    }
   ],
   "source": [
    "NetTopo.repathnets(starttime = -1)"
   ]
  },
  {
   "cell_type": "code",
   "execution_count": 11,
   "id": "amino-honolulu",
   "metadata": {},
   "outputs": [
    {
     "data": {
      "text/plain": [
       "True"
      ]
     },
     "execution_count": 11,
     "metadata": {},
     "output_type": "execute_result"
    }
   ],
   "source": [
    "NetTopo.classify()\n",
    "FastWhois.localSegSearch(\"125.77.139.20\") in NetTopo.monitorNets4"
   ]
  },
  {
   "cell_type": "code",
   "execution_count": 13,
   "id": "choice-edmonton",
   "metadata": {},
   "outputs": [
    {
     "data": {
      "text/plain": [
       "False"
      ]
     },
     "execution_count": 13,
     "metadata": {},
     "output_type": "execute_result"
    }
   ],
   "source": [
    "FastWhois.localSegSearch(\"8.8.8.8\") in NetTopo.destNets4"
   ]
  },
  {
   "cell_type": "code",
   "execution_count": null,
   "id": "registered-boards",
   "metadata": {},
   "outputs": [],
   "source": []
  },
  {
   "cell_type": "markdown",
   "id": "imported-lingerie",
   "metadata": {},
   "source": [
    "### 4. 时序异常检测"
   ]
  },
  {
   "cell_type": "code",
   "execution_count": 72,
   "id": "french-implement",
   "metadata": {},
   "outputs": [],
   "source": [
    "from anomalydetection import detection\n",
    "importlib.reload(detection)\n",
    "Detection = detection.timingdetection(metric=\"all_time\")"
   ]
  },
  {
   "cell_type": "code",
   "execution_count": 76,
   "id": "waiting-worse",
   "metadata": {},
   "outputs": [
    {
     "name": "stdout",
     "output_type": "stream",
     "text": [
      "[('113.62.126.138-180.169.80.76', 1669133613, 1669218813, '9', 151), ('113.62.126.138-61.129.111.66', 1669133014, 1669219113, '9', 137), ('58.241.55.24-39.170.86.48', 1669160839, 1669161444, '9', 3)]\n"
     ]
    }
   ],
   "source": [
    "#codes\n",
    "errorcode = Detection.errorCode(codes, thresh=3, code=\"9\")\n",
    "print(errorcode)"
   ]
  },
  {
   "cell_type": "code",
   "execution_count": 73,
   "id": "dynamic-fellow",
   "metadata": {},
   "outputs": [],
   "source": [
    "tooBig, tooSmall = Detection.gaussDetect(time_val)"
   ]
  },
  {
   "cell_type": "code",
   "execution_count": 74,
   "id": "apart-single",
   "metadata": {},
   "outputs": [
    {
     "name": "stdout",
     "output_type": "stream",
     "text": [
      "The following are the too big measurements (mean:179.05661192630689, std:12.322249482956686):\n",
      "2022-11-23 21:07:30: all_time is 230.06013363028953\n",
      "2022-11-23 21:17:30: all_time is 227.57700892857142\n",
      "2022-11-23 21:32:30: all_time is 225.5351170568562\n"
     ]
    }
   ],
   "source": [
    "Detection.tooBigInfo(tooBig) # 参数调整至类参数中\n",
    "# The following are the too big measurements (mean:179.05661192630689, std:12.322249482956686):\n",
    "# 2022-11-23 21:07:30: all_time is 230.06013363028953\n",
    "# 2022-11-23 21:17:30: all_time is 227.57700892857142\n",
    "# 2022-11-23 21:32:30: all_time is 225.5351170568562"
   ]
  },
  {
   "cell_type": "code",
   "execution_count": 75,
   "id": "enhanced-terrorist",
   "metadata": {},
   "outputs": [
    {
     "name": "stdout",
     "output_type": "stream",
     "text": [
      "The following are the too small measurements (mean:179.05661192630689, std:12.322249482956686):\n"
     ]
    }
   ],
   "source": [
    "Detection.tooSmallInfo(tooSmall) # 参数调整至类参数中\n",
    "# The following are the too small measurements (mean:179.05661192630689, std:12.322249482956686):"
   ]
  },
  {
   "cell_type": "markdown",
   "id": "hispanic-elevation",
   "metadata": {},
   "source": [
    "### 5. 断层扫描模块"
   ]
  },
  {
   "cell_type": "code",
   "execution_count": 78,
   "id": "interesting-ghost",
   "metadata": {},
   "outputs": [],
   "source": [
    "from tomography import dataprocess\n",
    "importlib.reload(dataprocess)\n",
    "data = dataprocess.pathperf([\"POLL.json\"])"
   ]
  },
  {
   "cell_type": "code",
   "execution_count": 79,
   "id": "uniform-mentor",
   "metadata": {},
   "outputs": [],
   "source": [
    "statusCnt = data.countCode(errorCodes={})"
   ]
  },
  {
   "cell_type": "code",
   "execution_count": 81,
   "id": "relative-irrigation",
   "metadata": {},
   "outputs": [
    {
     "name": "stdout",
     "output_type": "stream",
     "text": [
      "{'118.213.93.172-218.95.139.32': [864, 0], '221.178.32.205-117.131.126.141': [143, 1], '221.178.32.205-218.205.182.40': [143, 0], '221.178.32.205-223.86.68.122': [864, 0], '27.148.141.218-27.152.189.96': [72, 0], '113.24.194.115-60.247.99.91': [151, 0], '113.24.194.115-113.24.195.103': [1151, 1], '113.24.194.115-219.142.91.146': [149, 0], '111.47.221.239-120.204.111.44': [288, 0], '113.201.239.228-113.201.242.22': [583, 0], '111.47.221.239-120.226.55.11': [429, 0], '112.67.249.81-180.169.119.141': [149, 0], '111.161.116.140-111.200.33.56': [145, 0], '111.161.116.140-111.161.123.186': [167, 0], '117.156.244.206-111.12.223.168': [169, 0], '111.161.116.140-111.161.123.176': [288, 0], '49.71.73.122-58.220.73.193': [244, 0], '113.201.239.228-114.255.206.166': [156, 0], '117.156.244.206-117.131.49.151': [149, 0], '111.161.116.140-114.255.206.166': [161, 0], '111.47.221.239-117.131.49.177': [146, 0], '111.47.221.239-117.184.126.16': [152, 0], '111.47.221.239-117.131.49.151': [288, 0], '49.71.73.122-122.228.17.102': [97, 0], '49.71.73.122-180.169.119.62': [288, 0], '36.99.184.121-223.151.245.72': [219, 0], '113.201.239.228-202.108.88.19': [141, 0], '180.95.228.155-180.95.228.254': [574, 0], '42.157.197.76-202.99.30.221': [288, 0], '36.99.184.121-219.142.91.83': [131, 0], '125.77.139.20-61.129.111.44': [148, 0], '42.243.147.52-119.84.87.107': [116, 0], '211.142.197.29-111.6.241.2': [1003, 1], '211.142.197.29-218.205.188.16': [147, 0], '103.254.188.26-60.247.99.50': [151, 0], '36.99.184.121-113.240.70.141': [371, 0], '116.178.68.198-116.178.68.149': [1152, 0], '113.62.126.138-60.247.99.136': [159, 0], '113.62.126.138-218.95.139.31': [985, 1], '111.132.37.134-120.204.111.141': [106, 2], '111.132.37.134-111.62.90.176': [185, 1], '111.132.37.134-111.31.17.174': [190, 0], '111.132.37.134-117.131.49.151': [236, 0], '111.27.126.90-39.155.173.20': [138, 1], '111.27.126.90-218.205.182.38': [288, 0], '60.13.100.48-60.13.100.64': [1151, 1], '218.95.139.6-219.142.91.113': [140, 0], '103.254.188.26-60.247.99.136': [146, 0], '218.95.139.6-219.142.91.146': [140, 0], '218.95.139.6-60.247.99.56': [143, 0], '113.62.126.138-180.169.80.76': [0, 151], '103.254.188.26-60.247.99.56': [150, 0], '103.254.188.26-124.236.25.236': [288, 0], '120.240.97.95-117.131.49.177': [130, 0], '120.240.97.95-120.204.111.44': [263, 0], '120.240.97.95-117.131.49.151': [264, 0], '111.132.37.134-117.184.157.10': [122, 0], '111.27.126.90-111.27.127.43': [801, 0], '120.240.97.95-120.240.100.161': [124, 0], '42.243.147.52-118.112.241.103': [133, 0], '42.243.147.52-180.169.80.55': [152, 0], '60.13.100.48-112.64.230.51': [288, 0], '113.207.0.11-113.207.4.13': [422, 0], '112.67.249.81-117.27.241.13': [135, 0], '36.99.184.121-180.169.80.76': [160, 0], '36.99.184.121-219.142.91.113': [139, 0], '36.99.184.121-219.142.91.146': [154, 0], '113.125.206.78-218.63.8.88': [135, 0], '218.95.139.6-218.95.139.31': [448, 0], '218.95.139.6-117.33.164.240': [150, 0], '182.91.255.63-182.91.255.13': [1151, 1], '61.163.109.145-140.206.54.93': [145, 0], '211.142.197.29-117.131.126.141': [133, 0], '211.142.197.29-39.155.173.20': [143, 0], '61.163.109.145-202.99.30.221': [140, 0], '211.142.197.29-218.205.182.38': [288, 0], '61.163.109.145-218.29.49.118': [571, 2], '61.163.109.145-219.157.114.23': [298, 0], '61.163.109.145-202.108.88.19': [138, 0], '211.142.197.29-117.131.49.151': [288, 0], '182.91.255.63-140.206.54.71': [139, 0], '103.254.188.26-60.247.99.91': [147, 0], '120.240.97.95-117.184.157.10': [137, 0], '125.77.139.20-180.169.119.69': [288, 0], '125.77.139.20-222.79.76.102': [232, 0], '125.77.139.20-222.79.66.78': [151, 0], '125.77.139.20-117.27.241.153': [206, 0], '120.240.97.95-117.184.157.7': [141, 0], '116.178.68.198-123.127.121.186': [163, 0], '116.178.68.198-202.99.30.221': [147, 0], '112.67.249.81-180.169.119.62': [288, 0], '150.138.105.143-202.108.88.19': [288, 0], '110.188.68.204-117.27.241.13': [63, 0], '182.91.255.63-58.246.164.177': [147, 1], '60.13.100.48-140.206.54.68': [146, 0], '111.42.84.72-117.131.49.151': [288, 0], '111.42.84.72-117.184.157.95': [153, 0], '111.27.126.90-117.131.49.151': [287, 0], '36.99.184.121-124.232.174.223': [208, 0], '111.42.84.72-218.205.188.16': [131, 0], '60.13.100.48-58.246.164.177': [141, 0], '150.138.105.143-123.127.121.186': [44, 0], '218.60.20.86-123.127.121.186': [130, 0], '113.201.239.228-123.127.121.21': [131, 0], '119.6.234.51-112.64.230.51': [288, 0], '183.214.0.163-117.184.126.16': [32, 0], '113.207.0.11-202.108.88.19': [147, 0], '183.214.0.163-211.142.197.65': [136, 0], '61.164.117.143-182.106.174.225': [175, 0], '61.164.117.143-122.228.17.102': [163, 0], '112.67.249.81-180.169.80.58': [135, 0], '113.194.59.163-211.95.81.51': [140, 0], '113.194.59.163-118.212.74.98': [425, 0], '111.29.28.159-112.47.27.20': [1151, 1], '61.164.117.143-58.220.70.58': [156, 0], '124.236.25.233-180.169.80.76': [150, 1], '124.236.25.233-219.142.91.186': [141, 0], '124.236.25.233-103.254.189.29': [414, 0], '117.180.226.17-117.131.49.151': [288, 0], '116.131.160.141-110.242.21.37': [319, 0], '111.174.13.139-111.174.8.178': [524, 0], '111.42.84.72-111.43.178.191': [160, 0], '150.138.105.143-150.138.104.37': [564, 0], '119.6.234.51-113.207.4.13': [173, 0], '116.131.160.141-111.200.33.56': [149, 0], '116.131.160.141-221.193.246.133': [266, 0], '116.131.160.141-202.99.30.221': [136, 0], '113.201.239.228-116.177.234.57': [271, 0], '119.6.234.51-14.205.40.182': [180, 0], '113.125.206.78-116.236.244.251': [140, 0], '113.125.206.78-180.169.119.69': [288, 0], '119.6.234.51-112.64.230.61': [288, 0], '113.125.206.78-61.129.111.44': [140, 0], '112.67.249.81-180.169.119.69': [288, 0], '111.42.84.72-111.27.127.43': [437, 0], '111.31.114.94-39.155.173.20': [141, 0], '113.194.59.163-58.246.164.177': [142, 1], '116.131.160.141-114.255.206.166': [139, 0], '113.125.206.78-180.169.119.62': [288, 0], '111.42.84.72-218.205.182.38': [288, 0], '113.142.165.143-118.213.93.199': [379, 0], '221.178.32.205-117.131.49.151': [288, 0], '42.49.116.141-112.64.230.61': [288, 0], '117.180.226.17-111.51.75.108': [864, 0], '117.180.226.17-39.155.173.26': [155, 0], '124.236.25.233-219.142.91.83': [135, 0], '42.49.116.141-110.53.72.36': [336, 1], '182.96.95.83-61.129.111.44': [144, 0], '150.138.105.143-115.223.7.201': [301, 0], '113.194.59.163-112.64.230.61': [288, 0], '113.194.59.163-118.212.74.159': [726, 1], '112.29.202.106-120.204.111.141': [137, 0], '117.180.226.17-111.19.227.153': [263, 0], '111.31.114.94-111.6.241.2': [122, 0], '42.49.116.141-112.64.230.51': [288, 0], '112.29.202.106-223.111.139.100': [115, 0], '42.157.197.76-103.126.1.226': [288, 0], '42.101.79.20-219.142.91.83': [150, 0], '125.74.23.163-219.142.91.186': [145, 0], '125.74.23.163-118.213.93.199': [710, 0], '42.157.197.76-117.131.126.141': [41, 1], '42.81.152.37-60.247.99.50': [141, 0], '42.81.152.37-60.247.99.91': [136, 0], '42.81.152.37-103.254.188.51': [168, 0], '42.157.197.76-14.29.116.16': [195, 0], '42.157.197.76-121.12.91.108': [198, 0], '42.101.79.20-60.247.99.136': [141, 0], '42.81.152.37-60.247.99.136': [137, 1], '42.81.152.37-113.24.195.103': [173, 0], '111.22.49.94-111.7.109.55': [295, 0], '125.74.23.163-180.169.80.76': [149, 0], '118.213.93.172-218.95.139.31': [202, 0], '183.201.236.121-111.62.90.176': [88, 0], '42.81.152.37-42.81.147.86': [456, 0], '42.49.116.141-110.52.56.139': [295, 1], '42.49.116.141-211.95.81.48': [149, 0], '118.213.93.172-60.247.99.50': [152, 1], '183.201.236.121-218.205.182.38': [288, 0], '60.221.209.103-114.255.206.166': [132, 0], '60.221.209.103-123.127.121.186': [144, 0], '60.221.209.103-123.127.121.21': [153, 0], '60.221.209.103-111.161.123.186': [211, 0], '60.221.209.103-60.221.184.11': [477, 0], '111.22.49.94-120.204.111.44': [288, 0], '111.22.49.94-111.6.241.2': [286, 0], '111.22.49.94-211.142.197.65': [571, 0], '110.188.68.204-180.169.80.55': [147, 0], '121.57.82.55-60.247.99.91': [155, 0], '121.57.82.55-27.152.189.96': [834, 0], '222.132.143.148-211.95.81.196': [150, 0], '222.132.143.148-123.127.121.186': [153, 0], '222.132.143.148-202.99.30.221': [143, 0], '222.132.143.148-112.81.238.245': [288, 0], '222.132.143.148-118.212.74.159': [138, 0], '222.132.143.148-123.127.121.56': [146, 0], '36.136.93.64-36.136.93.3': [285, 0], '36.136.93.64-120.240.100.161': [436, 0], '36.250.86.42-211.95.81.48': [156, 0], '36.136.93.64-117.131.49.151': [288, 0], '36.250.86.42-112.64.230.51': [288, 0], '110.188.68.204-27.148.154.14': [287, 1], '118.213.93.172-60.247.99.136': [151, 0], '121.57.82.55-219.142.91.83': [140, 0], '221.178.32.205-39.155.173.20': [145, 0], '221.178.32.205-218.205.182.38': [288, 0], '36.250.86.42-112.64.230.61': [288, 0], '42.101.79.20-123.184.58.198': [276, 0], '111.19.227.144-218.205.182.40': [157, 0], '111.19.227.144-218.205.182.38': [287, 0], '111.19.227.144-111.19.227.153': [1054, 0], '123.125.10.50-221.193.246.133': [104, 0], '111.62.172.60-111.7.109.55': [59, 0], '111.22.49.94-117.184.157.10': [148, 0], '111.22.49.94-117.131.49.151': [288, 0], '180.130.108.149-14.205.40.182': [716, 0], '111.22.49.94-117.184.157.7': [154, 0], '118.213.93.172-180.169.80.76': [146, 1], '118.213.93.172-219.142.91.83': [132, 0], '223.113.216.104-120.221.23.14': [149, 1], '180.130.108.149-112.64.230.141': [145, 2], '117.187.214.237-111.10.29.157': [719, 0], '113.6.77.12-113.8.150.120': [578, 0], '223.113.216.104-120.204.111.141': [157, 1], '223.113.216.104-117.184.126.13': [130, 0], '111.31.114.94-218.205.182.38': [288, 0], '180.130.108.149-180.130.108.15': [436, 0], '113.194.59.163-112.64.230.51': [288, 0], '111.31.114.94-39.155.173.26': [145, 0], '180.130.108.149-112.64.230.51': [288, 0], '112.48.167.83-117.131.49.177': [144, 0], '112.48.167.83-120.204.111.44': [288, 0], '112.48.167.83-117.131.49.151': [288, 0], '42.243.147.52-180.169.119.141': [133, 0], '42.243.147.52-61.129.111.47': [146, 0], '42.243.147.52-180.169.119.69': [288, 0], '42.243.147.52-118.123.235.47': [117, 0], '42.243.147.52-218.63.8.120': [397, 0], '42.243.147.52-183.66.107.44': [143, 0], '42.243.147.52-180.169.119.62': [288, 0], '112.50.111.66-112.47.27.20': [1107, 1], '222.246.138.134-116.236.244.251': [149, 0], '222.246.138.134-113.240.70.141': [590, 2], '222.246.138.134-180.169.80.55': [121, 0], '183.216.189.8-117.184.126.16': [93, 0], '183.216.189.8-117.184.126.13': [97, 0], '183.216.189.8-117.131.49.151': [191, 0], '111.6.241.196-117.184.157.95': [41, 0], '111.6.241.196-111.6.241.2': [226, 0], '106.3.215.12-140.206.239.45': [544, 10], '120.221.66.167-223.111.139.100': [128, 0], '111.6.241.196-117.131.49.151': [63, 0], '36.136.93.64-117.184.157.7': [143, 0], '106.3.215.12-58.246.164.177': [134, 4], '106.3.215.12-140.206.54.68': [151, 0], '183.66.107.126-61.129.111.66': [136, 0], '211.95.52.190-118.212.74.159': [278, 0], '211.95.52.190-112.64.230.51': [288, 0], '117.180.226.17-218.205.182.38': [289, 0], '117.180.226.17-117.184.157.95': [141, 0], '183.66.107.126-219.142.91.186': [153, 0], '183.66.107.126-60.247.99.91': [128, 0], '183.66.107.126-218.63.8.88': [150, 0], '183.66.107.126-60.247.99.136': [140, 0], '183.66.107.126-219.142.91.83': [146, 0], '211.95.52.190-112.64.230.61': [288, 0], '211.95.52.190-140.206.54.68': [140, 0], '117.149.145.89-117.131.49.177': [138, 0], '211.95.52.190-58.246.164.177': [144, 0], '211.95.52.190-211.95.81.51': [146, 0], '117.149.145.89-117.184.126.16': [144, 0], '117.149.145.89-120.204.111.44': [286, 0], '117.149.145.89-223.111.139.100': [108, 0], '117.149.145.89-112.15.3.28': [287, 0], '117.149.145.89-36.156.38.147': [159, 0], '117.149.145.89-117.131.49.151': [287, 0], '117.149.145.89-223.111.17.145': [116, 0], '221.180.208.131-221.180.208.159': [761, 1], '36.104.136.183-61.129.111.66': [139, 0], '111.161.116.140-123.127.121.21': [143, 0], '111.161.116.140-111.202.83.90': [127, 0], '211.95.52.190-118.212.74.98': [598, 1], '183.66.107.126-119.84.87.107': [279, 0], '183.66.107.126-183.66.110.217': [149, 0], '117.156.244.206-218.205.182.38': [69, 0], '117.156.244.206-111.51.75.108': [167, 1], '106.74.11.79-123.127.121.116': [143, 0], '221.180.208.131-39.155.173.26': [151, 0], '117.156.244.206-111.6.241.2': [86, 0], '36.104.136.183-60.247.99.56': [132, 0], '221.180.208.131-117.131.49.151': [288, 0], '117.187.214.237-120.204.111.44': [288, 0], '117.187.214.237-117.184.157.7': [146, 0], '106.74.11.79-123.127.121.56': [150, 0], '180.95.228.155-116.177.234.57': [284, 0], '125.77.139.20-180.169.119.62': [288, 0], '61.163.109.145-125.44.105.19': [281, 0], '113.62.126.138-219.142.91.83': [141, 0], '61.163.109.145-123.127.121.116': [149, 0], '36.99.184.121-36.99.198.133': [354, 0], '116.178.68.198-140.206.54.93': [146, 0], '113.62.126.138-219.142.91.146': [129, 0], '218.95.139.6-60.247.99.91': [148, 0], '116.178.68.198-123.127.121.116': [155, 0], '112.67.249.81-117.27.241.153': [141, 0], '113.125.206.78-119.84.87.107': [437, 0], '211.142.197.29-117.184.157.95': [155, 0], '211.142.197.29-218.205.182.40': [145, 0], '218.95.139.6-218.95.139.32': [553, 1], '36.104.136.183-219.142.91.146': [147, 0], '182.91.255.63-211.95.81.51': [149, 0], '36.104.136.183-42.101.79.17': [304, 0], '103.254.188.26-61.129.111.66': [131, 0], '103.254.188.26-219.142.91.113': [141, 0], '103.254.188.26-103.254.191.194': [163, 0], '103.254.188.26-103.254.191.34': [289, 0], '103.254.188.26-103.254.188.51': [133, 0], '125.77.139.20-180.169.80.58': [147, 0], '125.77.139.20-27.148.141.126': [137, 0], '116.178.68.198-123.127.121.21': [141, 0], '116.178.68.198-123.127.121.56': [161, 0], '112.67.249.81-222.79.76.102': [145, 0], '60.13.100.48-211.95.81.48': [142, 0], '111.42.84.72-39.155.173.20': [145, 0], '111.29.28.159-120.204.111.44': [288, 0], '111.42.84.72-39.155.173.26': [157, 0], '113.207.0.11-211.95.81.196': [144, 1], '218.60.20.86-139.215.227.112': [354, 0], '111.42.84.72-221.180.208.159': [427, 0], '112.67.249.81-112.67.249.76': [449, 0], '112.67.249.81-180.169.80.55': [148, 0], '183.214.0.163-117.131.49.151': [64, 0], '112.81.238.118-112.240.60.102': [134, 0], '218.60.20.86-202.108.88.19': [148, 0], '123.125.10.50-202.108.88.19': [147, 0], '183.214.0.163-117.131.49.177': [32, 0], '60.13.100.48-112.64.230.61': [288, 0], '36.104.136.183-123.184.58.198': [248, 0], '36.104.136.183-36.104.136.191': [599, 1], '182.91.255.63-112.64.230.61': [288, 0], '111.174.13.139-124.232.174.223': [206, 0], '111.174.13.139-61.129.111.44': [133, 0], '111.174.13.139-180.169.119.62': [288, 0], '123.125.10.50-111.202.83.90': [389, 1], '113.207.0.11-114.255.206.166': [143, 0], '113.125.206.78-180.169.119.141': [147, 1], '113.125.206.78-180.169.80.58': [136, 0], '113.125.206.78-119.84.87.18': [155, 0], '113.125.206.78-180.169.80.55': [148, 0], '36.104.136.183-219.142.91.186': [149, 0], '113.125.206.78-183.66.110.217': [134, 0], '112.30.216.177-183.216.189.61': [33, 0], '123.244.41.72-219.142.91.83': [159, 0], '112.30.216.177-117.184.126.16': [35, 0], '61.132.231.90-61.132.231.40': [272, 0], '112.30.216.177-112.17.30.232': [27, 0], '123.125.10.50-140.206.54.93': [151, 0], '113.201.239.228-123.127.121.186': [142, 0], '124.236.25.233-60.247.99.136': [157, 0], '113.24.194.115-219.142.91.83': [127, 0], '113.142.165.143-39.155.173.20': [44, 0], '112.29.202.106-111.12.223.168': [288, 0], '113.142.165.143-117.33.164.240': [331, 0], '112.29.202.106-117.184.126.13': [137, 0], '112.29.202.106-117.131.49.151': [288, 0], '111.12.180.126-218.205.182.38': [288, 0], '113.194.59.163-140.206.54.68': [148, 0], '101.227.98.94-182.106.175.12': [30, 0], '123.103.115.81-60.247.99.50': [141, 0], '101.227.98.94-180.169.119.141': [157, 1], '111.174.13.139-61.129.111.47': [147, 0], '101.227.98.94-27.148.154.14': [38, 0], '111.29.28.159-117.184.126.13': [153, 0], '111.174.13.139-223.151.245.72': [210, 0], '119.6.234.51-58.246.164.177': [150, 0], '112.30.216.177-117.131.49.177': [35, 1], '119.6.234.51-140.206.54.71': [152, 0], '61.132.231.90-180.169.80.58': [141, 0], '61.132.231.90-58.220.73.193': [138, 0], '61.132.231.90-61.129.111.44': [128, 0], '218.60.20.86-211.95.81.196': [160, 0], '42.101.79.20-61.129.111.66': [149, 1], '222.218.186.60-27.152.189.96': [859, 0], '123.103.115.81-103.254.188.51': [140, 0], '112.29.202.106-183.216.189.61': [84, 0], '123.244.41.72-61.129.111.66': [137, 1], '222.218.186.60-180.169.80.55': [142, 0], '123.244.41.72-123.184.58.198': [709, 0], '111.174.13.139-180.169.119.141': [170, 1], '123.125.10.50-101.28.252.16': [94, 0], '111.29.28.159-117.131.49.177': [133, 0], '125.74.23.163-117.33.164.240': [439, 0], '222.132.143.148-113.194.58.133': [140, 0], '112.30.216.177-39.170.86.48': [33, 0], '112.30.216.177-111.12.223.168': [75, 0], '222.132.143.148-114.255.206.166': [145, 0], '42.49.116.141-58.246.164.177': [138, 0], '113.142.165.143-140.206.54.93': [41, 0], '112.29.202.106-120.204.111.44': [288, 0], '123.103.115.81-103.254.191.194': [140, 1], '113.142.165.143-103.126.1.226': [200, 0], '123.244.41.72-36.104.136.191': [443, 0], '59.80.43.51-111.200.33.56': [16, 0], '59.80.43.51-180.130.108.15': [199, 0], '59.80.43.51-59.80.43.60': [509, 1], '59.80.43.51-211.95.81.48': [115, 0], '59.80.43.51-202.108.88.19': [31, 0], '59.80.43.51-119.6.234.42': [230, 0], '61.242.183.130-110.52.56.139': [743, 2], '112.29.202.106-223.111.198.87': [135, 0], '111.12.180.126-117.184.157.95': [152, 0], '42.81.152.37-219.142.91.113': [152, 0], '182.96.95.83-106.225.224.118': [165, 0], '123.244.41.72-60.247.99.136': [139, 0], '116.172.75.50-114.255.206.166': [148, 0], '61.242.183.130-112.64.230.51': [288, 0], '182.96.95.83-180.169.119.62': [288, 0], '111.29.28.159-117.131.49.151': [288, 0], '111.31.114.94-117.131.126.141': [144, 0], '111.31.114.94-111.62.90.170': [288, 0], '111.31.114.94-117.131.49.151': [288, 0], '182.96.95.83-61.180.32.112': [482, 0], '27.148.141.218-117.27.241.153': [67, 0], '183.201.236.121-111.7.109.55': [57, 0], '111.12.180.126-111.12.223.168': [288, 0], '117.187.214.237-117.131.49.177': [121, 0], '117.187.214.237-221.178.32.218': [433, 0], '111.31.114.94-183.201.234.75': [151, 0], '116.172.75.50-123.127.121.21': [141, 0], '116.172.75.50-180.95.228.254': [579, 1], '116.172.75.50-116.177.234.57': [281, 0], '222.132.143.148-123.127.121.21': [145, 0], '222.132.143.148-202.108.88.19': [142, 0], '36.136.93.64-112.47.27.20': [143, 1], '116.172.75.50-43.242.167.132': [291, 0], '112.29.202.106-117.184.126.16': [150, 0], '113.24.194.115-219.142.91.113': [137, 0], '27.148.141.218-180.169.119.62': [96, 0], '111.62.172.60-111.62.90.170': [163, 0], '123.125.10.50-106.74.11.40': [101, 0], '116.172.75.50-140.206.54.93': [156, 0], '110.188.68.204-180.169.119.69': [288, 0], '101.227.98.94-180.169.119.69': [288, 0], '110.188.68.204-180.169.119.62': [288, 0], '116.172.75.50-123.127.121.186': [147, 0], '116.172.75.50-202.108.88.19': [149, 0], '183.201.236.121-39.155.173.20': [151, 0], '36.250.86.42-36.249.126.203': [1152, 0], '111.22.49.94-120.204.111.141': [145, 1], '113.6.77.12-123.127.121.186': [143, 0], '113.6.77.12-123.127.121.21': [152, 0], '113.6.77.12-122.142.16.162': [298, 0], '118.213.93.172-60.247.99.56': [156, 0], '223.113.216.104-39.170.86.48': [171, 14], '113.6.77.12-123.127.121.56': [148, 0], '113.6.77.12-211.95.81.196': [156, 0], '27.148.141.218-116.236.244.251': [37, 0], '27.148.141.218-180.169.80.58': [48, 0], '27.148.141.218-180.169.119.69': [95, 0], '27.148.141.218-27.148.141.126': [40, 0], '27.148.141.218-61.129.111.44': [46, 0], '36.250.86.42-112.64.230.141': [139, 0], '223.113.216.104-117.184.157.10': [139, 0], '223.113.216.104-117.184.157.7': [158, 0], '180.130.108.149-211.95.81.48': [143, 0], '121.57.82.55-180.169.80.76': [130, 0], '183.216.189.8-117.184.157.10': [98, 0], '183.216.189.8-112.15.3.28': [128, 0], '120.221.66.167-223.111.17.145': [118, 0], '101.227.98.94-180.169.80.58': [148, 0], '113.142.165.143-218.95.139.32': [216, 0], '223.86.68.104-117.131.49.177': [153, 0], '223.86.68.104-117.184.126.16': [150, 0], '223.86.68.104-120.204.111.44': [288, 0], '223.86.68.104-221.178.32.218': [277, 1], '223.86.68.104-111.10.29.157': [582, 0], '223.86.68.104-117.184.126.13': [150, 0], '223.86.68.104-117.131.49.151': [288, 0], '111.47.221.239-120.226.49.245': [575, 2], '112.67.249.81-116.236.244.251': [138, 1], '111.161.116.140-123.127.121.186': [143, 0], '111.161.116.140-106.74.11.40': [135, 0], '49.71.73.122-58.220.70.58': [234, 0], '49.71.73.122-58.220.73.196': [83, 0], '106.74.11.79-202.108.88.19': [138, 0], '111.161.116.140-202.108.88.19': [147, 0], '111.47.221.239-211.142.197.65': [145, 1], '49.71.73.122-61.129.111.44': [151, 0], '113.201.239.228-123.127.121.56': [146, 0], '111.132.37.134-120.204.111.44': [242, 0], '111.27.126.90-117.184.157.95': [136, 0], '125.77.139.20-180.169.80.55': [140, 0], '36.99.184.121-60.247.99.50': [162, 0], '211.142.197.29-39.155.173.26': [141, 0], '116.178.68.198-211.95.81.196': [141, 1], '111.27.126.90-218.205.182.40': [149, 0], '111.27.126.90-218.205.188.16': [148, 0], '120.240.97.95-120.204.111.141': [133, 1], '36.99.184.121-60.247.99.136': [134, 0], '113.125.206.78-183.66.107.44': [146, 0], '120.240.97.95-111.29.28.12': [353, 0], '180.95.228.155-211.95.81.196': [144, 0], '180.95.228.155-123.127.121.21': [145, 0], '180.95.228.155-113.201.242.22': [294, 0], '180.95.228.155-123.127.121.56': [151, 0], '113.194.59.163-140.206.54.71': [148, 0], '61.164.117.143-115.223.11.3': [196, 0], '111.19.227.144-117.131.126.141': [151, 0], '112.81.238.118-112.64.230.141': [146, 1], '112.81.238.118-112.64.230.61': [288, 0], '112.81.238.118-222.132.143.158': [143, 0], '112.81.238.118-112.81.238.245': [444, 0], '112.81.238.118-113.194.58.133': [146, 0], '123.125.10.50-123.127.121.56': [141, 0], '113.125.206.78-61.129.111.47': [152, 0], '36.147.17.79-117.131.49.151': [273, 0], '182.91.255.63-140.206.54.68': [142, 0], '182.91.255.63-112.64.230.51': [288, 0], '119.6.234.51-59.80.43.60': [152, 0], '61.132.231.90-122.228.17.11': [283, 0], '119.6.234.51-119.6.234.42': [460, 1], '119.6.234.51-140.206.54.68': [160, 0], '112.30.216.177-117.184.157.10': [40, 0], '112.30.216.177-223.111.17.145': [31, 0], '113.24.194.115-180.169.80.76': [133, 1], '123.125.10.50-114.255.206.166': [166, 0], '123.125.10.50-111.161.123.186': [82, 0], '124.236.25.233-60.247.99.56': [152, 0], '42.157.197.76-121.12.91.107': [375, 0], '183.201.236.121-117.131.49.151': [288, 0], '42.49.116.141-116.162.189.41': [229, 0], '42.157.197.76-111.200.33.56': [44, 0], '218.60.20.86-113.194.58.133': [49, 0], '36.147.17.79-36.147.17.81': [1151, 1], '36.147.17.79-117.184.157.7': [125, 0], '119.6.234.51-112.64.230.141': [137, 1], '111.31.114.94-36.156.38.147': [194, 0], '42.49.116.141-140.206.54.71': [136, 0], '42.49.116.141-112.64.230.141': [149, 1], '123.244.41.72-219.142.91.113': [135, 0], '42.157.197.76-61.129.111.66': [44, 1], '42.81.152.37-219.142.91.186': [147, 0], '111.12.180.126-111.51.75.108': [862, 0], '111.12.180.126-218.205.188.16': [150, 0], '27.148.141.218-180.169.80.55': [49, 0], '112.48.167.83-117.184.126.16': [144, 0], '112.48.167.83-112.47.27.20': [1152, 0], '112.48.167.83-117.184.157.7': [158, 1], '121.57.82.55-219.142.91.186': [132, 0], '121.57.82.55-60.247.99.136': [144, 0], '180.130.108.149-140.206.54.71': [142, 0], '180.130.108.149-112.64.230.61': [288, 0], '223.113.216.104-120.204.111.44': [288, 0], '223.113.216.104-183.216.189.61': [183, 0], '223.113.216.104-117.131.49.151': [288, 0], '117.145.179.251-218.205.182.40': [144, 0], '117.145.179.251-218.205.182.38': [288, 0], '222.246.138.134-180.169.119.69': [288, 0], '111.31.114.94-218.205.188.16': [143, 0], '42.243.147.52-116.236.244.251': [153, 2], '42.243.147.52-180.169.80.58': [142, 0], '183.216.189.8-112.17.30.232': [117, 0], '117.145.179.251-221.181.52.87': [713, 1], '117.145.179.251-117.131.49.151': [288, 0], '183.216.189.8-120.204.111.44': [191, 0], '222.246.138.134-180.169.80.58': [137, 0], '222.246.138.134-124.232.174.223': [559, 1], '120.221.66.167-112.17.30.232': [133, 0], '120.221.66.167-223.111.198.87': [117, 0], '120.221.66.167-117.131.49.151': [288, 0], '101.227.98.94-58.220.73.196': [188, 0], '112.50.111.66-120.204.111.141': [146, 1], '117.184.37.79-117.184.157.7': [123, 0], '111.6.241.196-218.205.182.38': [62, 0], '111.174.13.139-180.169.119.69': [289, 0], '120.221.66.167-117.184.157.95': [155, 0], '120.221.66.167-39.155.173.20': [151, 0], '120.221.66.167-218.205.182.38': [289, 0], '120.221.66.167-39.155.173.26': [143, 0], '112.50.111.66-120.204.111.44': [277, 0], '42.101.79.20-42.101.79.17': [586, 2], '211.95.52.190-211.95.81.48': [148, 0], '211.95.52.190-140.206.54.71': [142, 0], '125.74.23.163-60.247.99.56': [124, 0], '117.149.145.89-120.221.23.14': [109, 0], '61.242.183.130-112.64.230.61': [288, 0], '61.242.183.130-61.242.183.196': [407, 0], '211.95.52.190-113.194.58.133': [275, 0], '117.156.244.206-117.184.157.10': [63, 0], '150.138.105.143-202.99.30.221': [288, 0], '117.156.244.206-120.204.111.44': [80, 0], '117.156.244.206-111.19.227.153': [84, 0], '59.80.43.51-112.64.230.61': [236, 0], '211.142.197.29-211.142.197.65': [148, 0], '111.132.37.134-117.131.126.141': [9, 0], '111.132.37.134-117.161.202.123': [157, 0], '125.77.139.20-180.169.119.141': [152, 0], '116.178.68.198-111.200.33.56': [125, 0], '125.77.139.20-27.152.189.96': [231, 0], '110.188.68.204-116.236.244.251': [151, 2], '110.188.68.204-218.63.8.88': [65, 0], '182.91.255.63-112.64.230.141': [140, 0], '124.236.25.233-124.236.25.236': [734, 0], '150.138.105.143-103.126.1.226': [288, 0], '60.13.100.48-112.64.230.141': [147, 0], '150.138.105.143-111.200.33.56': [41, 0], '180.95.228.155-123.127.121.116': [168, 0], '117.180.226.17-218.205.182.40': [138, 0], '61.164.117.143-115.223.7.201': [155, 0], '112.67.249.81-61.129.111.47': [153, 0], '61.132.231.90-116.236.244.251': [147, 2], '60.13.100.48-211.95.81.51': [148, 0], '124.236.25.233-61.129.111.66': [135, 1], '124.236.25.233-60.247.99.91': [142, 0], '111.19.227.144-39.155.173.26': [139, 0], '111.174.13.139-113.240.70.141': [212, 0], '111.174.13.139-180.169.80.55': [155, 0], '123.125.10.50-211.95.81.196': [136, 1], '113.142.165.143-218.205.182.40': [38, 0], '117.180.226.17-218.205.188.16': [133, 0], '112.29.202.106-117.184.157.7': [151, 0], '112.30.216.177-117.184.126.13': [41, 0], '113.24.194.115-60.247.99.56': [161, 0], '123.103.115.81-219.142.91.186': [147, 0], '112.29.202.106-117.131.49.177': [150, 1], '60.221.209.103-140.206.54.93': [151, 0], '218.60.20.86-118.212.74.98': [61, 0], '61.164.117.143-180.169.80.55': [148, 0], '218.60.20.86-116.162.181.144': [55, 0], '218.60.20.86-140.206.54.93': [127, 1], '42.101.79.20-180.169.80.76': [138, 0], '36.147.17.79-117.184.157.10': [137, 0], '112.29.202.106-120.221.23.14': [104, 0], '113.201.239.228-140.206.54.93': [153, 0], '221.178.32.205-111.10.29.157': [287, 1], '221.178.32.205-39.155.173.26': [148, 0], '123.244.41.72-180.169.80.76': [144, 0], '42.49.116.141-211.95.81.51': [152, 0], '113.142.165.143-218.95.139.31': [225, 0], '113.142.165.143-202.108.88.19': [208, 0], '36.147.17.79-180.169.119.141': [13, 0], '123.244.41.72-60.247.99.50': [143, 0], '36.147.17.79-180.169.119.69': [20, 0], '111.12.180.126-117.131.126.141': [136, 0], '182.96.95.83-61.129.111.47': [134, 0], '182.96.95.83-180.169.119.69': [288, 0], '42.81.152.37-42.81.61.39': [148, 0], '182.96.95.83-182.106.175.12': [171, 0], '111.62.172.60-221.180.208.159': [72, 0], '113.6.77.12-123.127.121.116': [144, 0], '118.213.93.172-219.142.91.186': [135, 0], '111.12.180.126-39.155.173.20': [135, 0], '27.148.141.218-222.79.78.178': [77, 0], '222.132.143.148-111.200.33.56': [135, 0], '222.132.143.148-222.132.143.158': [141, 0], '110.188.68.204-180.169.80.58': [157, 0], '110.188.68.204-222.79.78.178': [61, 0], '223.113.216.104-223.111.13.147': [160, 1], '113.6.77.12-202.108.88.19': [140, 0], '121.57.82.55-42.81.147.86': [144, 0], '110.188.68.204-118.123.235.47': [59, 0], '223.113.216.104-117.184.126.16': [149, 0], '117.145.179.251-117.131.126.141': [138, 0], '117.145.179.251-39.155.173.20': [144, 0], '117.145.179.251-117.145.179.15': [438, 0], '36.136.93.64-117.184.126.16': [141, 0], '101.227.98.94-58.220.70.58': [31, 0], '183.216.189.8-117.131.49.177': [96, 0], '183.216.189.8-223.111.17.145': [191, 0], '183.216.189.8-183.216.189.61': [329, 0], '42.101.79.20-36.104.136.191': [287, 1], '120.221.66.167-120.221.23.14': [409, 1], '120.221.66.167-218.205.188.16': [146, 0], '183.66.107.126-180.169.80.76': [152, 0], '42.101.79.20-60.247.99.91': [155, 0], '106.3.215.12-112.64.230.61': [284, 4], '106.3.215.12-112.64.230.51': [282, 6], '117.180.226.17-117.131.126.141': [147, 0], '111.32.130.195-36.156.38.147': [59, 0], '183.66.107.126-219.142.91.146': [148, 0], '183.66.107.126-118.123.235.47': [151, 0], '125.74.23.163-219.142.91.83': [164, 0], '117.149.145.89-117.184.157.10': [144, 0], '112.81.238.118-140.206.54.71': [136, 0], '36.104.136.183-219.142.91.113': [153, 0], '125.74.23.163-219.142.91.113': [151, 0], '111.161.116.140-140.206.54.93': [130, 0], '117.187.214.237-117.184.126.13': [142, 0], '111.47.221.239-117.184.157.10': [136, 0], '59.80.43.51-140.206.54.93': [23, 0], '111.132.37.134-111.62.90.170': [167, 0], '111.27.126.90-39.155.173.26': [140, 0], '218.95.139.6-60.247.99.136': [148, 0], '218.95.139.6-219.142.91.83': [145, 0], '61.163.109.145-211.95.81.196': [143, 0], '111.42.84.72-117.131.126.141': [134, 1], '180.95.228.155-114.255.206.166': [120, 0], '180.95.228.155-202.108.88.19': [137, 0], '111.19.227.144-218.205.188.16': [149, 0], '61.132.231.90-180.169.119.141': [138, 1], '112.81.238.118-118.212.74.98': [142, 0], '111.42.84.72-111.42.180.222': [128, 0], '113.201.239.228-180.95.228.254': [298, 0], '119.6.234.51-180.130.108.15': [186, 0], '61.132.231.90-180.169.119.62': [288, 0], '150.138.105.143-117.184.157.95': [42, 2], '113.201.239.228-111.200.33.56': [146, 0], '113.142.165.143-219.142.91.186': [62, 0], '218.60.20.86-124.134.126.126': [62, 0], '218.60.20.86-111.161.123.186': [68, 0], '61.164.117.143-116.236.244.251': [136, 0], '61.164.117.143-180.169.119.69': [288, 0], '61.164.117.143-180.169.119.62': [288, 0], '113.207.0.11-111.200.33.56': [152, 0], '42.101.79.20-60.247.99.56': [138, 0], '112.29.202.106-223.111.13.147': [108, 1], '27.148.141.218-61.129.111.47': [48, 0], '111.62.172.60-117.131.126.141': [70, 1], '111.62.172.60-222.35.77.123': [64, 0], '36.250.86.42-58.246.164.177': [149, 0], '36.250.86.42-140.206.54.71': [138, 0], '121.57.82.55-60.247.99.50': [156, 0], '36.136.93.64-183.240.117.188': [287, 0], '180.130.108.149-211.95.81.51': [146, 0], '121.57.82.55-61.129.111.66': [158, 0], '36.136.93.64-117.184.157.10': [147, 0], '122.228.93.212-61.180.32.112': [4, 0], '42.243.147.52-218.63.8.88': [119, 0], '42.243.147.52-183.66.110.217': [127, 0], '218.60.20.99-123.127.121.186': [92, 0], '218.60.20.99-124.134.126.126': [61, 0], '218.60.20.99-122.142.16.162': [52, 0], '218.60.20.99-110.52.56.139': [49, 0], '183.216.189.8-117.184.157.7': [94, 0], '36.136.93.64-120.204.111.141': [141, 2], '36.136.93.64-120.204.111.44': [288, 0], '106.3.215.12-112.64.230.141': [149, 1], '106.3.215.12-211.95.81.51': [147, 1], '106.3.215.12-112.81.238.245': [584, 14], '117.149.145.89-117.184.157.7': [149, 0], '111.12.180.126-117.131.49.151': [288, 0], '120.221.66.167-183.216.189.61': [142, 0], '183.66.107.126-60.247.99.56': [142, 0], '117.149.145.89-120.204.111.141': [149, 1], '223.86.68.104-120.204.111.141': [135, 0], '223.86.68.104-117.184.157.10': [138, 0], '223.86.68.104-36.147.17.81': [292, 0], '117.156.244.206-218.205.182.40': [15, 0], '111.161.116.140-60.221.184.11': [134, 0], '183.66.107.126-183.66.107.44': [275, 0], '49.71.73.122-180.169.119.141': [149, 0], '49.71.73.122-58.220.70.56': [103, 0], '111.47.221.239-120.204.111.141': [142, 0], '218.95.139.6-61.129.111.66': [135, 2], '59.80.43.51-123.127.121.21': [33, 0], '111.47.221.239-117.184.126.13': [167, 0], '113.62.126.138-113.62.123.16': [166, 0], '59.80.43.51-112.64.230.141': [120, 3], '111.27.126.90-117.149.139.184': [78, 0], '111.27.126.90-111.43.178.191': [104, 0], '36.99.184.121-60.247.99.91': [149, 0], '61.163.109.145-123.127.121.21': [148, 0], '61.163.109.145-123.127.121.56': [150, 0], '103.254.188.26-42.81.61.39': [127, 0], '125.77.139.20-116.236.244.251': [136, 0], '125.77.139.20-61.129.111.47': [141, 0], '125.77.139.20-222.79.78.178': [195, 0], '110.188.68.204-180.169.119.141': [135, 0], '218.60.20.86-123.127.121.56': [140, 0], '124.236.25.233-60.247.99.50': [146, 0], '124.236.25.233-219.142.91.113': [145, 0], '116.131.160.141-123.127.121.21': [152, 0], '61.132.231.90-122.228.17.102': [309, 0], '111.31.114.94-218.205.182.40': [147, 0], '116.131.160.141-123.127.121.116': [149, 0], '113.194.59.163-112.64.230.141': [145, 0], '42.157.197.76-121.12.91.94': [182, 0], '183.201.236.121-117.131.126.141': [147, 0], '183.201.236.121-111.6.241.2': [83, 0], '42.81.152.37-61.129.111.66': [161, 0], '42.81.152.37-219.142.91.83': [164, 0], '101.227.98.94-150.138.105.27': [29, 0], '111.174.13.139-180.169.80.58': [141, 0], '101.227.98.94-101.227.98.207': [169, 0], '61.164.117.143-180.169.119.141': [151, 1], '61.164.117.143-180.169.80.58': [152, 0], '218.60.20.86-110.52.56.139': [58, 0], '218.60.20.86-124.134.127.17': [63, 0], '112.30.216.177-120.204.111.141': [39, 0], '61.132.231.90-61.129.111.47': [147, 0], '119.6.234.51-211.95.81.51': [136, 0], '123.103.115.81-42.81.61.39': [149, 0], '183.201.236.121-111.62.90.170': [357, 1], '183.201.236.121-218.205.188.16': [132, 0], '222.218.186.60-61.129.111.44': [145, 0], '221.178.32.205-218.205.188.16': [140, 0], '117.187.214.237-117.184.157.10': [150, 0], '123.103.115.81-103.254.189.29': [151, 0], '42.157.197.76-211.95.81.196': [43, 0], '42.81.152.37-219.142.91.146': [150, 0], '111.31.114.94-117.184.157.95': [144, 0], '111.29.28.159-117.184.157.10': [154, 0], '42.49.116.141-140.206.54.68': [139, 0], '60.221.209.103-202.108.88.19': [134, 0], '222.218.186.60-180.169.119.69': [281, 0], '121.57.82.55-219.142.91.113': [133, 0], '222.132.143.148-140.206.54.93': [137, 1], '112.29.202.106-117.184.157.10': [138, 0], '118.213.93.172-219.142.91.146': [137, 0], '123.125.10.50-110.242.21.37': [98, 0], '110.188.68.204-27.152.189.96': [71, 0], '111.22.49.94-117.184.126.16': [140, 0], '111.22.49.94-117.131.49.177': [141, 1], '118.213.93.172-61.129.111.66': [141, 0], '113.6.77.12-139.215.227.112': [276, 0], '223.113.216.104-117.149.139.184': [191, 0], '180.130.108.149-58.246.164.177': [140, 1], '110.188.68.204-183.66.110.217': [74, 0], '223.113.216.104-112.17.30.232': [155, 0], '36.250.86.42-211.95.81.51': [150, 0], '122.228.93.212-180.169.119.141': [4, 0], '101.227.98.94-180.169.80.55': [141, 0], '101.227.98.94-180.169.119.62': [288, 0], '222.246.138.134-180.169.119.141': [138, 1], '218.60.20.99-36.249.126.203': [43, 0], '218.60.20.99-114.255.206.166': [93, 0], '222.246.138.134-180.169.119.62': [288, 0], '218.60.20.99-110.53.72.36': [46, 0], '112.50.111.66-117.184.157.7': [145, 0], '111.32.130.195-111.62.90.170': [143, 1], '117.184.37.79-117.184.126.13': [165, 0], '106.3.215.12-140.206.54.71': [135, 5], '117.149.145.89-117.184.126.13': [138, 0], '125.74.23.163-60.247.99.136': [140, 0], '111.32.130.195-218.205.188.16': [38, 0], '42.101.79.20-219.142.91.186': [145, 0], '111.32.130.195-222.35.77.123': [78, 0], '183.66.107.126-219.142.91.113': [160, 0], '49.71.73.122-115.223.7.201': [100, 0], '49.71.73.122-122.228.17.11': [82, 0], '117.156.244.206-117.131.49.177': [69, 0], '113.62.126.138-219.142.91.186': [152, 0], '111.27.126.90-117.131.126.141': [150, 2], '113.62.126.138-60.247.99.91': [130, 0], '113.62.126.138-60.247.99.56': [147, 0], '59.80.43.51-211.95.81.196': [20, 0], '36.156.38.108-117.131.49.177': [123, 0], '36.104.136.183-60.247.99.136': [141, 0], '150.138.105.143-39.155.173.20': [42, 0], '60.13.100.48-140.206.54.71': [140, 0], '112.81.238.118-58.246.164.177': [141, 0], '183.201.236.121-223.111.139.100': [67, 0], '42.157.197.76-60.247.99.50': [48, 0], '182.96.95.83-180.169.80.55': [144, 0], '101.227.98.94-115.223.11.3': [33, 0], '60.221.209.103-211.95.81.196': [137, 0], '61.164.117.143-61.129.111.44': [140, 0], '36.147.17.79-117.184.126.13': [149, 0], '101.227.98.94-115.223.7.201': [43, 0], '36.147.17.79-117.184.126.16': [124, 0], '61.164.117.143-122.228.17.11': [175, 0], '113.207.0.11-123.127.121.186': [136, 0], '116.131.160.141-211.95.81.196': [138, 1], '116.131.160.141-101.28.252.16': [567, 0], '42.49.116.141-116.162.181.144': [290, 0], '113.142.165.143-60.247.99.136': [42, 0], '36.147.17.79-117.131.49.177': [126, 0], '123.103.115.81-180.169.80.76': [154, 0], '36.147.17.79-120.204.111.44': [268, 0], '123.103.115.81-103.254.191.34': [285, 0], '42.157.197.76-180.169.80.76': [48, 0], '113.6.77.12-114.255.206.166': [144, 0], '118.213.93.172-117.33.164.240': [86, 0], '61.242.183.130-58.246.164.177': [141, 1], '60.221.209.103-124.167.217.13': [233, 0], '113.24.194.115-60.247.99.50': [160, 0], '123.103.115.81-60.247.99.91': [140, 0], '123.103.115.81-60.247.99.136': [144, 0], '113.24.194.115-60.247.99.136': [139, 0], '123.103.115.81-219.142.91.83': [141, 0], '111.19.227.144-117.131.49.151': [287, 0], '110.188.68.204-118.123.235.57': [65, 0], '113.6.77.12-202.99.30.221': [136, 0], '110.188.68.204-183.66.107.44': [68, 0], '117.145.179.251-218.205.188.16': [138, 0], '218.60.20.99-111.200.33.56': [117, 0], '218.60.20.99-123.127.121.116': [117, 0], '218.60.20.99-202.108.88.19': [107, 0], '218.60.20.99-222.163.80.181': [46, 0], '101.227.98.94-61.129.111.47': [140, 0], '36.136.93.64-117.184.126.13': [144, 1], '106.3.215.12-211.95.81.48': [135, 2], '218.60.20.99-140.206.54.93': [104, 0], '183.66.107.126-60.247.99.50': [135, 0], '223.86.68.104-117.184.157.7': [138, 0], '116.178.68.198-114.255.206.166': [133, 0], '180.95.228.155-140.206.54.93': [144, 0], '36.156.38.108-120.204.111.44': [252, 0], '36.156.38.108-39.170.86.48': [162, 0], '36.156.38.108-223.111.13.147': [129, 0], '116.178.68.198-202.108.88.19': [127, 0], '113.207.0.11-140.206.54.93': [142, 1], '113.207.0.11-14.205.40.182': [287, 1], '117.180.226.17-39.155.173.20': [150, 0], '112.81.238.118-118.212.74.159': [143, 0], '112.67.249.81-61.129.111.44': [140, 0], '61.164.117.143-61.180.32.112': [132, 0], '182.91.255.63-211.95.81.48': [146, 0], '36.104.136.183-60.247.99.50': [139, 0], '218.60.20.86-222.163.80.181': [57, 0], '123.244.41.72-60.247.99.56': [127, 0], '113.24.194.115-61.129.111.66': [153, 1], '123.125.10.50-123.127.121.116': [122, 0], '123.125.10.50-124.167.217.13': [82, 0], '42.81.152.37-124.236.25.236': [189, 0], '42.157.197.76-219.142.91.186': [49, 0], '183.201.236.121-117.161.202.123': [134, 0], '61.164.117.143-61.129.111.47': [136, 0], '218.60.20.86-113.8.150.120': [59, 0], '111.29.28.159-117.184.157.7': [135, 0], '183.201.236.121-39.155.173.26': [156, 0], '112.29.202.106-112.17.30.232': [119, 0], '113.201.239.228-211.95.81.196': [135, 0], '111.31.114.94-222.35.77.123': [146, 0], '59.80.43.51-123.127.121.116': [25, 0], '59.80.43.51-123.127.121.56': [20, 0], '59.80.43.51-113.207.4.13': [201, 0], '116.172.75.50-123.127.121.116': [140, 0], '116.172.75.50-202.99.30.221': [147, 0], '111.19.227.144-39.155.173.20': [130, 0], '116.172.75.50-211.95.81.196': [131, 1], '116.172.75.50-111.200.33.56': [140, 1], '27.148.141.218-222.79.76.102': [71, 0], '111.62.172.60-39.155.173.26': [59, 0], '183.216.189.8-120.204.111.141': [94, 1], '117.145.179.251-39.155.173.26': [150, 0], '222.246.138.134-61.129.111.47': [151, 0], '36.136.93.64-117.131.49.177': [143, 2], '112.50.111.66-117.184.157.10': [128, 0], '112.50.111.66-117.184.126.13': [132, 0], '218.60.20.99-118.212.74.98': [39, 0], '218.60.20.99-211.95.81.196': [105, 0], '61.132.231.90-180.169.119.69': [288, 0], '111.32.130.195-117.184.157.7': [28, 0], '42.101.79.20-219.142.91.113': [133, 0], '117.149.145.89-223.111.13.147': [111, 0], '117.156.244.206-117.184.126.16': [66, 0], '36.104.136.183-219.142.91.83': [156, 0], '111.161.116.140-124.167.217.13': [171, 0], '222.218.186.60-180.169.119.62': [277, 0], '221.180.208.131-218.205.182.38': [288, 0], '221.180.208.131-111.42.180.222': [96, 0], '111.161.116.140-123.127.121.56': [141, 0], '111.132.37.134-111.132.38.197': [287, 1], '218.95.139.6-180.169.80.76': [149, 2], '49.71.73.122-180.169.80.58': [146, 0], '111.132.37.134-123.127.121.21': [2, 0], '222.218.186.60-116.236.244.251': [147, 0], '218.95.139.6-60.247.99.50': [134, 0], '113.62.126.138-219.142.91.113': [158, 0], '36.156.38.108-117.184.157.10': [144, 0], '36.156.38.108-183.216.189.61': [163, 0], '36.156.38.108-117.184.157.7': [123, 0], '150.138.105.143-61.129.111.66': [45, 0], '42.81.152.37-180.169.80.76': [127, 0], '183.201.236.121-183.242.79.12': [75, 1], '36.147.17.79-61.129.111.47': [17, 0], '117.187.214.237-117.184.126.16': [138, 0], '113.142.165.143-180.169.80.76': [78, 0], '222.132.143.148-124.134.127.17': [153, 0], '36.147.17.79-120.204.111.141': [131, 1], '42.101.79.20-219.142.91.146': [147, 0], '111.62.172.60-117.184.157.95': [73, 0], '111.62.172.60-183.242.79.12': [66, 0], '222.132.143.148-118.212.74.98': [142, 0], '111.22.49.94-117.184.126.13': [134, 0], '223.113.216.104-117.131.49.177': [129, 1], '112.48.167.83-117.184.157.10': [144, 0], '122.228.93.212-58.220.70.58': [3, 0], '218.60.20.99-139.215.227.112': [254, 0], '218.60.20.99-124.134.127.17': [45, 0], '218.60.20.99-123.127.121.56': [102, 0], '125.74.23.163-219.142.91.146': [148, 0], '117.149.145.89-183.216.189.61': [129, 0], '36.104.136.183-180.169.80.76': [149, 0], '112.81.238.118-211.95.81.51': [152, 0], '117.156.244.206-120.204.111.141': [68, 0], '49.71.73.122-180.169.119.69': [288, 0], '36.99.184.121-60.247.99.56': [157, 0], '36.99.184.121-219.142.91.186': [126, 0], '111.132.37.134-123.127.121.56': [13, 0], '103.254.188.26-219.142.91.146': [142, 0], '113.62.126.138-61.129.111.66': [0, 137], '103.254.188.26-103.254.189.29': [152, 0], '112.67.249.81-222.79.78.178': [128, 0], '150.138.105.143-219.142.91.186': [54, 0], '113.207.0.11-202.99.30.221': [148, 0], '116.131.160.141-123.127.121.186': [139, 0], '116.131.160.141-123.127.121.56': [144, 0], '150.138.105.143-211.95.81.196': [57, 0], '113.142.165.143-60.247.99.91': [89, 0], '222.218.186.60-180.169.80.58': [135, 0], '60.221.209.103-111.200.33.56': [144, 0], '222.218.186.60-150.138.104.37': [288, 0], '123.103.115.81-60.247.99.56': [147, 0], '36.250.86.42-140.206.54.68': [132, 0], '221.178.32.205-117.184.157.95': [144, 0], '110.188.68.204-119.84.87.107': [53, 0], '116.172.75.50-123.127.121.56': [139, 0], '112.48.167.83-117.184.126.13': [129, 0], '120.221.66.167-218.205.182.40': [138, 0], '221.180.208.131-117.184.157.95': [147, 0], '112.81.238.118-112.64.230.51': [288, 0], '221.180.208.131-39.155.173.20': [141, 0], '222.218.186.60-183.110.199.178': [2, 0], '111.161.116.140-211.95.81.196': [158, 0], '111.132.37.134-140.206.54.93': [8, 0], '111.132.37.134-183.201.234.75': [164, 0], '111.27.126.90-111.42.180.222': [104, 0], '103.254.188.26-219.142.91.83': [138, 0], '110.188.68.204-118.112.241.103': [72, 0], '113.194.59.163-211.95.81.48': [140, 0], '123.125.10.50-111.200.33.56': [155, 0], '101.227.98.94-45.124.125.17': [128, 0], '222.218.186.60-61.129.111.47': [142, 0], '113.142.165.143-202.99.30.221': [177, 0], '111.12.180.126-39.155.173.26': [138, 0], '121.57.82.55-60.247.99.56': [148, 0], '183.201.236.121-218.205.182.40': [137, 0], '27.148.141.218-180.169.119.141': [58, 0], '113.6.77.12-140.206.54.93': [131, 1], '121.57.82.55-103.254.191.194': [144, 0], '121.57.82.55-219.142.91.146': [144, 0], '222.246.138.134-61.129.111.44': [167, 0], '120.221.66.167-117.131.126.141': [134, 0], '112.81.238.118-140.206.54.68': [145, 0], '117.156.244.206-117.157.238.122': [89, 0], '61.163.109.145-114.255.206.166': [139, 0], '36.156.38.108-117.149.139.184': [155, 0], '36.156.38.108-117.184.126.13': [129, 0], '103.254.188.26-180.169.80.76': [156, 1], '180.95.228.155-111.200.33.56': [136, 0], '113.207.0.11-123.127.121.21': [140, 0], '113.207.0.11-59.80.43.60': [442, 0], '124.236.25.233-219.142.91.146': [130, 0], '183.201.236.121-117.184.157.95': [140, 1], '42.81.152.37-60.247.99.56': [124, 0], '123.125.10.50-123.127.121.186': [133, 0], '61.132.231.90-58.220.70.58': [150, 0], '112.30.216.177-120.221.23.14': [20, 0], '222.132.143.148-123.127.121.116': [143, 0], '123.244.41.72-219.142.91.186': [142, 0], '59.80.43.51-123.127.121.186': [28, 0], '59.80.43.51-140.206.54.68': [126, 0], '42.157.197.76-117.184.157.95': [70, 0], '182.96.95.83-116.236.244.251': [150, 1], '182.96.95.83-182.106.174.225': [178, 0], '61.242.183.130-140.206.54.68': [139, 0], '111.62.172.60-117.184.126.16': [13, 0], '183.201.236.121-223.111.17.145': [65, 0], '111.62.172.60-111.6.241.2': [67, 0], '117.187.214.237-120.204.111.141': [103, 0], '61.242.183.130-140.206.54.71': [147, 0], '113.24.194.115-219.142.91.186': [128, 0], '111.132.37.134-117.131.49.177': [124, 1], '116.131.160.141-202.108.88.19': [144, 0], '123.244.41.72-60.247.99.91': [150, 0], '59.80.43.51-140.206.54.71': [113, 0], '182.96.95.83-180.169.80.58': [154, 0], '182.96.95.83-61.180.32.113': [149, 0], '118.213.93.172-60.247.99.91': [135, 0], '60.221.209.103-222.163.80.181': [231, 0], '110.188.68.204-61.129.111.44': [141, 0], '111.12.180.126-218.205.182.40': [153, 0], '110.188.68.204-218.63.8.120': [75, 0], '117.145.179.251-117.184.157.95': [150, 0], '112.50.111.66-117.184.126.16': [149, 0], '218.60.20.99-202.99.30.221': [95, 0], '125.74.23.163-117.184.126.13': [1, 0], '117.149.145.89-223.111.198.87': [130, 0], '36.104.136.183-60.247.99.91': [135, 0], '221.180.208.131-117.131.126.141': [141, 0], '112.81.238.118-211.95.81.48': [143, 0], '113.201.239.228-123.127.121.116': [132, 0], '111.132.37.134-117.184.157.7': [114, 0], '61.163.109.145-123.127.121.186': [158, 0], '218.95.139.6-219.142.91.186': [153, 0], '59.80.43.51-202.99.30.221': [19, 0], '111.19.227.144-117.184.157.95': [137, 0], '112.30.216.177-223.111.139.100': [33, 0], '183.201.236.121-221.180.208.159': [72, 0], '111.31.114.94-117.161.202.123': [142, 0], '111.29.28.159-120.204.111.141': [155, 0], '123.103.115.81-124.236.25.236': [286, 0], '182.96.95.83-180.169.119.141': [137, 0], '61.242.183.130-211.95.81.48': [149, 0], '61.242.183.130-211.95.81.51': [141, 0], '111.62.172.60-117.184.126.13': [18, 0], '27.148.141.218-222.79.66.78': [55, 0], '101.227.98.94-61.129.111.44': [147, 0], '111.32.130.195-120.204.111.141': [24, 0], '111.6.241.196-218.205.182.40': [22, 0], '49.71.73.122-116.236.244.251': [137, 2], '221.180.208.131-223.109.43.159': [73, 0], '49.71.73.122-180.169.80.55': [137, 0], '150.138.105.143-218.205.182.40': [50, 0], '218.60.20.86-202.99.30.221': [144, 0], '42.157.197.76-121.12.91.109': [189, 0], '222.218.186.60-23.7.138.211': [1, 0], '125.74.23.163-61.129.111.66': [137, 2], '60.221.209.103-123.127.121.116': [156, 0], '222.132.143.148-112.240.60.102': [150, 0], '111.6.241.196-218.205.188.16': [30, 0], '111.6.241.196-39.155.173.20': [41, 0], '42.101.79.20-60.247.99.50': [143, 0], '211.95.52.190-112.64.230.141': [144, 0], '111.47.221.239-117.184.157.7': [121, 0], '111.132.37.134-117.184.126.16': [119, 1], '120.240.97.95-183.240.117.188': [23, 0], '36.99.184.121-61.129.111.66': [128, 0], '150.138.105.143-150.138.105.27': [287, 0], '218.60.20.86-111.200.33.56': [158, 0], '150.138.105.143-60.247.99.50': [57, 0], '180.95.228.155-123.127.121.186': [152, 0], '218.60.20.86-36.249.126.203': [68, 0], '218.60.20.86-114.255.206.166': [135, 0], '111.31.114.94-183.242.79.12': [109, 0], '123.125.10.50-60.221.184.11': [105, 0], '111.62.172.60-111.31.17.174': [56, 0], '123.103.115.81-219.142.91.113': [148, 0], '110.188.68.204-119.84.87.18': [75, 0], '111.62.172.60-218.205.188.16': [54, 0], '110.188.68.204-222.79.76.102': [63, 0], '218.60.20.99-113.8.150.120': [40, 0], '111.132.37.134-202.108.88.19': [34, 0], '42.243.147.52-61.129.111.44': [136, 0], '111.132.37.134-39.155.173.20': [12, 0], '113.207.0.11-123.127.121.56': [141, 0], '101.227.98.94-61.132.231.40': [48, 0], '183.201.236.121-223.111.13.147': [69, 0], '183.201.236.121-111.31.17.174': [82, 0], '222.218.186.60-184.85.235.191': [1, 0], '111.6.241.196-117.131.126.141': [22, 0], '125.74.23.163-60.247.99.91': [136, 0], '221.180.208.131-112.3.29.130': [58, 0], '180.95.228.155-202.99.30.221': [143, 0], '113.207.0.11-123.127.121.116': [145, 0], '218.60.20.86-110.53.72.36': [69, 0], '119.6.234.51-211.95.81.48': [128, 0], '116.131.160.141-140.206.54.93': [149, 0], '113.142.165.143-61.129.111.66': [70, 0], '113.142.165.143-60.247.99.56': [52, 0], '59.80.43.51-114.255.206.166': [22, 0], '118.213.93.172-219.142.91.113': [153, 0], '61.242.183.130-112.64.230.141': [146, 0], '123.103.115.81-219.142.91.146': [143, 1], '110.188.68.204-61.129.111.47': [131, 0], '183.66.107.126-119.84.87.18': [148, 0], '221.180.208.131-111.43.178.191': [83, 0], '111.132.37.134-202.99.30.221': [31, 0], '111.132.37.134-117.184.126.13': [123, 1], '113.142.165.143-60.247.99.50': [74, 0], '42.157.197.76-123.127.121.186': [49, 0], '36.147.17.79-180.169.80.55': [10, 0], '123.125.10.50-111.161.123.176': [96, 0], '123.244.41.72-219.142.91.146': [139, 0], '111.62.172.60-39.155.173.20': [72, 0], '218.60.20.99-111.161.123.186': [42, 0], '112.50.111.66-117.131.49.177': [130, 0], '113.62.126.138-60.247.99.50': [136, 0], '222.218.186.60-180.169.119.141': [132, 1], '218.60.20.86-101.28.252.16': [74, 0], '111.32.130.195-117.131.49.177': [26, 0], '111.32.130.195-39.155.173.26': [47, 0], '221.180.208.131-36.156.38.147': [80, 0], '111.132.37.134-103.126.1.226': [49, 0], '103.254.188.26-219.142.91.186': [137, 0], '112.67.249.81-27.152.189.96': [154, 0], '61.132.231.90-180.169.80.55': [160, 0], '111.174.13.139-116.236.244.251': [115, 2], '113.142.165.143-117.184.157.95': [34, 0], '59.80.43.51-112.64.230.51': [237, 0], '123.103.115.81-61.129.111.66': [134, 0], '111.62.172.60-117.184.157.10': [14, 0], '113.6.77.12-111.200.33.56': [145, 0], '49.71.73.122-49.79.233.100': [104, 0], '49.71.73.122-106.225.224.118': [105, 0], '113.142.165.143-117.131.126.141': [33, 0], '113.125.206.78-218.63.8.120': [145, 0], '42.157.197.76-218.205.182.40': [48, 0], '101.227.98.94-49.79.233.100': [31, 0], '101.227.98.94-218.63.8.120': [35, 0], '125.74.23.163-60.247.99.50': [143, 0], '106.74.11.79-140.206.54.93': [147, 0], '36.156.38.108-120.204.111.141': [128, 1], '36.156.38.108-117.184.126.16': [108, 0], '36.156.38.108-117.131.49.151': [252, 0], '150.138.105.143-180.169.80.76': [49, 0], '42.157.197.76-39.155.173.20': [50, 0], '111.62.172.60-117.161.202.123': [51, 0], '36.156.38.108-112.17.30.232': [137, 0], '101.227.98.94-122.228.17.11': [46, 0], '112.48.167.83-120.204.111.141': [143, 1], '120.221.66.167-223.111.13.147': [106, 0], '150.138.105.143-117.131.126.141': [52, 0], '101.227.98.94-106.225.224.118': [28, 0], '218.60.20.99-101.28.252.16': [41, 0], '59.80.43.51-58.246.164.177': [120, 2], '59.80.43.51-211.95.81.51': [131, 0], '36.147.17.79-180.169.119.62': [15, 0], '113.142.165.143-123.127.121.186': [34, 0], '101.227.98.94-116.236.244.251': [130, 0], '113.142.165.143-219.142.91.146': [46, 0], '113.142.165.143-219.142.91.83': [28, 0], '111.6.241.196-211.142.197.65': [23, 1], '36.147.17.79-61.129.111.44': [4, 0], '101.227.98.94-58.220.73.193': [35, 0], '101.227.98.94-61.180.32.113': [39, 0], '218.60.20.86-122.142.16.162': [55, 0], '101.227.98.94-61.180.32.112': [29, 0], '111.27.126.90-117.157.238.122': [6, 0], '101.227.98.94-122.228.17.102': [33, 0], '101.227.98.94-150.138.104.37': [40, 0], '112.29.202.106-223.111.17.145': [125, 1], '36.156.38.108-120.221.23.14': [139, 0], '101.227.98.94-122.228.26.64': [25, 0], '111.32.130.195-117.184.126.16': [38, 0], '113.142.165.143-111.200.33.56': [36, 0], '111.62.172.60-183.201.234.75': [54, 0], '111.132.37.134-117.184.157.95': [15, 0], '113.142.165.143-211.95.81.196': [32, 0], '27.152.188.101-27.148.141.126': [93, 0], '27.152.188.101-222.79.76.102': [141, 0], '27.152.188.101-180.169.119.62': [188, 0], '27.152.188.101-180.169.119.69': [188, 0], '27.152.188.101-180.169.80.55': [100, 0], '223.113.216.104-223.109.43.159': [5, 0], '111.62.172.60-117.131.49.177': [10, 0], '122.225.28.223-180.169.80.55': [54, 0], '122.225.28.223-122.228.17.11': [74, 0], '122.156.238.22-123.127.121.56': [48, 0], '122.156.238.22-122.142.16.162': [88, 0], '117.157.238.233-117.131.126.141': [76, 0], '122.156.238.22-111.200.33.56': [49, 0], '122.156.238.22-123.127.121.21': [43, 0], '122.156.238.22-113.8.150.120': [190, 0], '117.167.109.52-183.216.189.61': [97, 0], '111.19.227.144-117.157.238.122': [97, 0], '27.152.188.101-116.236.244.251': [87, 0], '117.180.226.17-117.157.238.122': [25, 0], '122.225.28.223-61.129.111.44': [58, 1], '117.157.238.233-111.51.75.108': [152, 0], '117.157.238.233-117.131.49.151': [140, 0], '111.132.37.134-60.247.99.91': [7, 0], '117.157.238.233-117.157.238.122': [73, 0], '117.157.238.233-111.6.241.2': [93, 0], '117.157.238.233-218.205.188.16': [72, 0], '27.152.188.101-180.169.80.58': [95, 0], '150.138.105.143-140.206.54.93': [41, 0], '27.152.188.101-180.169.119.141': [100, 1], '27.152.188.101-61.129.111.44': [88, 0], '122.156.238.22-139.215.227.112': [98, 0], '122.156.238.22-202.99.30.221': [51, 0], '122.156.238.22-211.95.81.196': [47, 0], '111.62.172.60-120.204.111.141': [9, 0], '117.157.238.233-39.155.173.20': [65, 0], '117.157.238.233-218.205.182.38': [140, 0], '117.157.238.233-39.155.173.26': [68, 0], '117.157.238.233-111.12.223.168': [163, 0], '120.240.97.95-183.232.10.42': [102, 0], '122.156.238.22-123.127.121.186': [45, 0], '36.147.17.79-116.236.244.251': [17, 0], '218.60.20.99-116.162.181.144': [37, 0], '122.225.28.223-180.169.119.141': [48, 0], '117.157.238.233-117.184.157.95': [64, 0], '122.225.28.223-116.236.244.251': [63, 2], '117.167.109.52-117.184.157.10': [42, 0], '223.113.156.92-120.204.111.44': [5, 0], '101.227.98.94-182.106.174.225': [34, 0], '218.60.20.99-113.194.58.133': [43, 0], '117.187.214.237-117.131.126.141': [25, 1], '117.156.244.206-140.206.54.93': [1, 0], '27.152.188.101-61.129.111.47': [92, 1], '122.225.28.223-115.223.11.3': [57, 0], '222.218.186.60-117.184.157.95': [2, 0], '27.152.188.101-222.79.78.178': [139, 0], '222.218.186.60-104.101.104.135': [3, 0], '27.152.188.101-222.79.66.78': [95, 0], '101.227.98.94-58.220.70.56': [39, 0], '122.225.28.223-115.223.7.201': [74, 0], '111.27.126.90-121.12.91.109': [15, 0], '111.132.37.134-61.129.111.66': [9, 0], '36.147.17.79-180.169.80.58': [10, 0], '42.157.197.76-140.206.54.93': [40, 0], '117.184.37.79-223.111.139.100': [84, 0], '111.132.37.134-211.95.81.196': [8, 0], '59.80.43.51-124.134.127.17': [3, 0], '113.142.165.143-219.142.91.113': [22, 0], '117.156.244.206-39.155.173.20': [5, 0], '112.29.202.106-39.170.86.48': [72, 0], '117.149.154.225-36.156.38.147': [38, 0], '222.218.186.60-104.71.157.205': [3, 0], '222.218.186.60-219.142.91.186': [5, 0], '117.149.154.225-120.204.111.141': [13, 0], '117.149.154.225-117.131.49.177': [26, 1], '222.218.186.60-23.215.47.191': [1, 0], '218.91.222.178-106.225.224.118': [6, 0], '218.91.222.178-116.236.244.251': [6, 0], '218.91.222.178-61.129.111.47': [6, 0], '111.12.180.126-117.157.238.122': [2, 0], '117.149.154.225-223.111.17.145': [4, 0], '117.187.214.237-117.184.157.95': [29, 0], '112.48.158.81-120.204.111.141': [3, 0], '59.80.43.51-222.132.143.158': [1, 0], '223.111.203.24-117.149.139.184': [4, 0], '223.111.203.24-117.131.49.151': [4, 0], '111.132.37.134-218.205.182.40': [12, 0], '123.244.41.72-202.99.30.221': [3, 0], '182.96.95.83-106.225.224.182': [7, 0], '111.132.37.134-218.205.182.38': [6, 0], '123.244.41.72-211.95.81.196': [3, 0], '223.87.86.89-117.184.126.16': [38, 0], '223.87.86.89-111.10.29.157': [113, 0], '223.87.86.89-117.184.157.7': [32, 0], '223.87.86.89-117.131.49.177': [28, 0], '221.180.208.127-218.205.182.38': [35, 0], '111.62.90.90-111.62.90.170': [126, 0], '111.62.90.90-39.155.173.26': [84, 0], '111.62.90.90-183.242.79.12': [47, 0], '101.70.156.3-112.64.230.61': [61, 0], '101.70.156.3-140.206.54.68': [22, 0], '101.70.156.3-112.64.230.141': [25, 0], '123.244.41.72-103.126.1.226': [10, 0], '101.70.156.3-112.81.238.245': [133, 0], '101.70.156.3-112.64.230.51': [61, 0], '101.70.156.3-140.206.239.45': [111, 0], '101.70.156.3-211.95.81.51': [35, 0], '111.62.90.90-218.205.182.38': [126, 0], '111.62.90.90-111.6.241.2': [51, 0], '111.62.90.90-117.184.157.95': [64, 0], '111.62.90.90-117.131.49.151': [126, 0], '111.62.90.90-111.7.109.55': [48, 0], '36.156.38.108-223.111.207.102': [119, 0], '111.62.90.90-39.155.173.20': [71, 0], '111.62.90.90-117.161.202.123': [88, 0], '123.244.41.72-140.206.54.93': [1, 0], '222.218.186.60-111.200.33.56': [3, 0], '223.87.86.89-36.147.17.81': [51, 0], '117.157.238.233-218.205.182.40': [75, 0], '223.113.216.104-223.111.207.102': [122, 0], '111.62.90.90-117.131.126.141': [62, 0], '111.62.90.90-221.180.208.159': [59, 0], '221.180.208.127-117.131.126.141': [17, 0], '221.180.208.127-39.155.173.20': [16, 0], '223.87.86.89-117.131.49.151': [61, 0], '223.87.86.89-221.178.32.218': [83, 0], '101.70.156.3-211.95.81.48': [39, 0], '223.87.86.89-117.184.157.10': [24, 0], '111.62.90.90-111.31.17.174': [40, 0], '223.87.86.89-120.204.111.141': [34, 0], '101.70.156.3-58.246.164.177': [36, 0], '59.80.43.51-112.81.238.245': [6, 0], '221.180.208.127-117.184.157.95': [18, 0], '221.180.208.127-112.3.29.130': [19, 0], '111.62.90.90-183.201.234.75': [45, 0], '111.62.90.90-218.205.188.16': [42, 0], '42.157.197.76-112.67.249.76': [13, 0], '123.244.41.72-39.155.173.20': [2, 0], '111.132.37.134-60.247.99.50': [5, 0], '123.244.41.72-218.205.182.40': [1, 0], '117.157.238.233-111.19.227.153': [79, 0], '101.70.156.3-140.206.54.71': [26, 0], '121.57.82.55-42.81.61.39': [4, 0], '121.57.82.55-113.24.195.103': [26, 0], '120.240.97.95-121.12.91.107': [5, 0], '222.218.186.60-123.127.121.186': [3, 0], '222.218.186.60-61.129.111.66': [1, 0], '111.132.37.134-219.142.91.186': [9, 0], '113.201.239.228-112.64.230.51': [1, 0], '222.218.186.60-104.101.104.180': [3, 0], '117.167.109.52-223.111.17.145': [97, 0], '111.132.37.134-180.169.80.76': [6, 0], '117.167.109.52-117.184.126.13': [46, 0], '117.167.109.52-117.131.49.177': [44, 0], '27.152.183.123-222.79.78.178': [1, 0], '27.152.183.123-180.169.119.69': [4, 0], '27.152.183.123-180.169.119.62': [4, 0], '117.187.214.237-140.206.54.93': [9, 0], '27.152.183.123-116.236.244.251': [2, 0], '111.27.126.90-121.12.91.108': [8, 0], '222.218.186.60-117.131.126.141': [1, 0], '222.218.186.60-104.101.104.81': [1, 0], '111.27.126.90-120.221.65.196': [2, 0], '218.95.139.6-123.127.121.186': [1, 0], '111.132.37.134-60.247.99.56': [5, 0], '111.132.37.134-111.200.33.56': [4, 0], '222.218.186.60-184.27.204.135': [1, 0], '111.27.126.90-223.111.205.236': [4, 0], '27.152.183.123-222.79.66.78': [1, 0], '27.152.183.123-180.169.119.141': [2, 0], '27.152.183.123-222.79.76.102': [3, 0], '111.27.126.90-221.180.208.159': [2, 0], '222.218.186.60-184.27.204.92': [1, 0], '222.218.186.60-103.126.1.226': [1, 0], '222.218.186.60-23.2.128.167': [1, 0], '111.132.37.134-39.155.173.26': [1, 0], '222.218.186.60-104.112.4.135': [1, 0], '111.132.37.134-123.127.121.186': [4, 0], '59.80.43.51-118.212.74.159': [1, 0], '101.227.98.94-106.225.224.182': [1, 0], '123.244.41.72-202.108.88.19': [2, 0], '111.27.126.90-112.15.3.28': [1, 0], '125.74.23.163-120.204.111.44': [1, 0], '222.218.186.60-23.47.123.178': [1, 0], '222.218.186.60-184.85.235.135': [2, 0], '59.80.43.51-118.212.74.98': [1, 0], '222.218.186.60-140.206.54.93': [1, 0], '222.218.186.60-180.169.80.76': [3, 0], '223.113.156.92-120.204.111.141': [1, 0], '222.218.186.60-104.101.104.92': [1, 0], '183.201.236.121-111.19.227.153': [1, 0]}\n"
     ]
    }
   ],
   "source": [
    "print(statusCnt)"
   ]
  },
  {
   "cell_type": "code",
   "execution_count": 35,
   "id": "suitable-arthritis",
   "metadata": {},
   "outputs": [],
   "source": [
    "for key in statusCnt:\n",
    "    if statusCnt[key][1] > 0:\n",
    "        print(statusCnt[key])\n"
   ]
  },
  {
   "cell_type": "code",
   "execution_count": 30,
   "id": "logical-avenue",
   "metadata": {},
   "outputs": [
    {
     "name": "stdout",
     "output_type": "stream",
     "text": [
      "[0, 151]\n",
      "[544, 10]\n",
      "[171, 14]\n",
      "[282, 6]\n",
      "[584, 14]\n",
      "[0, 137]\n"
     ]
    }
   ],
   "source": [
    "statusCnt = data.countCode(errorCodes={})\n",
    "for key in statusCnt:\n",
    "    if statusCnt[key][1] > 5:\n",
    "        print(statusCnt[key])"
   ]
  },
  {
   "cell_type": "code",
   "execution_count": 36,
   "id": "clinical-address",
   "metadata": {},
   "outputs": [
    {
     "data": {
      "text/plain": [
       "{'118.213.93.172-218.95.139.32': 0.0,\n",
       " '221.178.32.205-117.131.126.141': 0.006944444444444444,\n",
       " '221.178.32.205-218.205.182.40': 0.0,\n",
       " '221.178.32.205-223.86.68.122': 0.0,\n",
       " '113.24.194.115-60.247.99.91': 0.0,\n",
       " '113.24.194.115-113.24.195.103': 0.0008680555555555555,\n",
       " '113.24.194.115-219.142.91.146': 0.0,\n",
       " '111.47.221.239-120.204.111.44': 0.0,\n",
       " '113.201.239.228-113.201.242.22': 0.0,\n",
       " '111.47.221.239-120.226.55.11': 0.0,\n",
       " '112.67.249.81-180.169.119.141': 0.0,\n",
       " '111.161.116.140-111.200.33.56': 0.0,\n",
       " '111.161.116.140-111.161.123.186': 0.0,\n",
       " '117.156.244.206-111.12.223.168': 0.0,\n",
       " '111.161.116.140-111.161.123.176': 0.0,\n",
       " '49.71.73.122-58.220.73.193': 0.0,\n",
       " '113.201.239.228-114.255.206.166': 0.0,\n",
       " '117.156.244.206-117.131.49.151': 0.0,\n",
       " '111.161.116.140-114.255.206.166': 0.0,\n",
       " '111.47.221.239-117.131.49.177': 0.0,\n",
       " '111.47.221.239-117.184.126.16': 0.0,\n",
       " '111.47.221.239-117.131.49.151': 0.0,\n",
       " '49.71.73.122-180.169.119.62': 0.0,\n",
       " '36.99.184.121-223.151.245.72': 0.0,\n",
       " '113.201.239.228-202.108.88.19': 0.0,\n",
       " '180.95.228.155-180.95.228.254': 0.0,\n",
       " '42.157.197.76-202.99.30.221': 0.0,\n",
       " '36.99.184.121-219.142.91.83': 0.0,\n",
       " '125.77.139.20-61.129.111.44': 0.0,\n",
       " '42.243.147.52-119.84.87.107': 0.0,\n",
       " '211.142.197.29-111.6.241.2': 0.00099601593625498,\n",
       " '211.142.197.29-218.205.188.16': 0.0,\n",
       " '103.254.188.26-60.247.99.50': 0.0,\n",
       " '36.99.184.121-113.240.70.141': 0.0,\n",
       " '116.178.68.198-116.178.68.149': 0.0,\n",
       " '113.62.126.138-60.247.99.136': 0.0,\n",
       " '113.62.126.138-218.95.139.31': 0.0010141987829614604,\n",
       " '111.132.37.134-120.204.111.141': 0.018518518518518517,\n",
       " '111.132.37.134-111.62.90.176': 0.005376344086021506,\n",
       " '111.132.37.134-111.31.17.174': 0.0,\n",
       " '111.132.37.134-117.131.49.151': 0.0,\n",
       " '111.27.126.90-39.155.173.20': 0.007194244604316547,\n",
       " '111.27.126.90-218.205.182.38': 0.0,\n",
       " '60.13.100.48-60.13.100.64': 0.0008680555555555555,\n",
       " '218.95.139.6-219.142.91.113': 0.0,\n",
       " '103.254.188.26-60.247.99.136': 0.0,\n",
       " '218.95.139.6-219.142.91.146': 0.0,\n",
       " '218.95.139.6-60.247.99.56': 0.0,\n",
       " '113.62.126.138-180.169.80.76': 1.0,\n",
       " '103.254.188.26-60.247.99.56': 0.0,\n",
       " '103.254.188.26-124.236.25.236': 0.0,\n",
       " '120.240.97.95-117.131.49.177': 0.0,\n",
       " '120.240.97.95-120.204.111.44': 0.0,\n",
       " '120.240.97.95-117.131.49.151': 0.0,\n",
       " '111.132.37.134-117.184.157.10': 0.0,\n",
       " '111.27.126.90-111.27.127.43': 0.0,\n",
       " '120.240.97.95-120.240.100.161': 0.0,\n",
       " '42.243.147.52-118.112.241.103': 0.0,\n",
       " '42.243.147.52-180.169.80.55': 0.0,\n",
       " '60.13.100.48-112.64.230.51': 0.0,\n",
       " '113.207.0.11-113.207.4.13': 0.0,\n",
       " '112.67.249.81-117.27.241.13': 0.0,\n",
       " '36.99.184.121-180.169.80.76': 0.0,\n",
       " '36.99.184.121-219.142.91.113': 0.0,\n",
       " '36.99.184.121-219.142.91.146': 0.0,\n",
       " '113.125.206.78-218.63.8.88': 0.0,\n",
       " '218.95.139.6-218.95.139.31': 0.0,\n",
       " '218.95.139.6-117.33.164.240': 0.0,\n",
       " '182.91.255.63-182.91.255.13': 0.0008680555555555555,\n",
       " '61.163.109.145-140.206.54.93': 0.0,\n",
       " '211.142.197.29-117.131.126.141': 0.0,\n",
       " '211.142.197.29-39.155.173.20': 0.0,\n",
       " '61.163.109.145-202.99.30.221': 0.0,\n",
       " '211.142.197.29-218.205.182.38': 0.0,\n",
       " '61.163.109.145-218.29.49.118': 0.0034904013961605585,\n",
       " '61.163.109.145-219.157.114.23': 0.0,\n",
       " '61.163.109.145-202.108.88.19': 0.0,\n",
       " '211.142.197.29-117.131.49.151': 0.0,\n",
       " '182.91.255.63-140.206.54.71': 0.0,\n",
       " '103.254.188.26-60.247.99.91': 0.0,\n",
       " '120.240.97.95-117.184.157.10': 0.0,\n",
       " '125.77.139.20-180.169.119.69': 0.0,\n",
       " '125.77.139.20-222.79.76.102': 0.0,\n",
       " '125.77.139.20-222.79.66.78': 0.0,\n",
       " '125.77.139.20-117.27.241.153': 0.0,\n",
       " '120.240.97.95-117.184.157.7': 0.0,\n",
       " '116.178.68.198-123.127.121.186': 0.0,\n",
       " '116.178.68.198-202.99.30.221': 0.0,\n",
       " '112.67.249.81-180.169.119.62': 0.0,\n",
       " '150.138.105.143-202.108.88.19': 0.0,\n",
       " '182.91.255.63-58.246.164.177': 0.006756756756756757,\n",
       " '60.13.100.48-140.206.54.68': 0.0,\n",
       " '111.42.84.72-117.131.49.151': 0.0,\n",
       " '111.42.84.72-117.184.157.95': 0.0,\n",
       " '111.27.126.90-117.131.49.151': 0.0,\n",
       " '36.99.184.121-124.232.174.223': 0.0,\n",
       " '111.42.84.72-218.205.188.16': 0.0,\n",
       " '60.13.100.48-58.246.164.177': 0.0,\n",
       " '218.60.20.86-123.127.121.186': 0.0,\n",
       " '113.201.239.228-123.127.121.21': 0.0,\n",
       " '119.6.234.51-112.64.230.51': 0.0,\n",
       " '113.207.0.11-202.108.88.19': 0.0,\n",
       " '183.214.0.163-211.142.197.65': 0.0,\n",
       " '61.164.117.143-182.106.174.225': 0.0,\n",
       " '61.164.117.143-122.228.17.102': 0.0,\n",
       " '112.67.249.81-180.169.80.58': 0.0,\n",
       " '113.194.59.163-211.95.81.51': 0.0,\n",
       " '113.194.59.163-118.212.74.98': 0.0,\n",
       " '111.29.28.159-112.47.27.20': 0.0008680555555555555,\n",
       " '61.164.117.143-58.220.70.58': 0.0,\n",
       " '124.236.25.233-180.169.80.76': 0.006622516556291391,\n",
       " '124.236.25.233-219.142.91.186': 0.0,\n",
       " '124.236.25.233-103.254.189.29': 0.0,\n",
       " '117.180.226.17-117.131.49.151': 0.0,\n",
       " '116.131.160.141-110.242.21.37': 0.0,\n",
       " '111.174.13.139-111.174.8.178': 0.0,\n",
       " '111.42.84.72-111.43.178.191': 0.0,\n",
       " '150.138.105.143-150.138.104.37': 0.0,\n",
       " '119.6.234.51-113.207.4.13': 0.0,\n",
       " '116.131.160.141-111.200.33.56': 0.0,\n",
       " '116.131.160.141-221.193.246.133': 0.0,\n",
       " '116.131.160.141-202.99.30.221': 0.0,\n",
       " '113.201.239.228-116.177.234.57': 0.0,\n",
       " '119.6.234.51-14.205.40.182': 0.0,\n",
       " '113.125.206.78-116.236.244.251': 0.0,\n",
       " '113.125.206.78-180.169.119.69': 0.0,\n",
       " '119.6.234.51-112.64.230.61': 0.0,\n",
       " '113.125.206.78-61.129.111.44': 0.0,\n",
       " '112.67.249.81-180.169.119.69': 0.0,\n",
       " '111.42.84.72-111.27.127.43': 0.0,\n",
       " '111.31.114.94-39.155.173.20': 0.0,\n",
       " '113.194.59.163-58.246.164.177': 0.006993006993006993,\n",
       " '116.131.160.141-114.255.206.166': 0.0,\n",
       " '113.125.206.78-180.169.119.62': 0.0,\n",
       " '111.42.84.72-218.205.182.38': 0.0,\n",
       " '113.142.165.143-118.213.93.199': 0.0,\n",
       " '221.178.32.205-117.131.49.151': 0.0,\n",
       " '42.49.116.141-112.64.230.61': 0.0,\n",
       " '117.180.226.17-111.51.75.108': 0.0,\n",
       " '117.180.226.17-39.155.173.26': 0.0,\n",
       " '124.236.25.233-219.142.91.83': 0.0,\n",
       " '42.49.116.141-110.53.72.36': 0.002967359050445104,\n",
       " '182.96.95.83-61.129.111.44': 0.0,\n",
       " '150.138.105.143-115.223.7.201': 0.0,\n",
       " '113.194.59.163-112.64.230.61': 0.0,\n",
       " '113.194.59.163-118.212.74.159': 0.001375515818431912,\n",
       " '112.29.202.106-120.204.111.141': 0.0,\n",
       " '117.180.226.17-111.19.227.153': 0.0,\n",
       " '111.31.114.94-111.6.241.2': 0.0,\n",
       " '42.49.116.141-112.64.230.51': 0.0,\n",
       " '112.29.202.106-223.111.139.100': 0.0,\n",
       " '42.157.197.76-103.126.1.226': 0.0,\n",
       " '42.101.79.20-219.142.91.83': 0.0,\n",
       " '125.74.23.163-219.142.91.186': 0.0,\n",
       " '125.74.23.163-118.213.93.199': 0.0,\n",
       " '42.81.152.37-60.247.99.50': 0.0,\n",
       " '42.81.152.37-60.247.99.91': 0.0,\n",
       " '42.81.152.37-103.254.188.51': 0.0,\n",
       " '42.157.197.76-14.29.116.16': 0.0,\n",
       " '42.157.197.76-121.12.91.108': 0.0,\n",
       " '42.101.79.20-60.247.99.136': 0.0,\n",
       " '42.81.152.37-60.247.99.136': 0.007246376811594203,\n",
       " '42.81.152.37-113.24.195.103': 0.0,\n",
       " '111.22.49.94-111.7.109.55': 0.0,\n",
       " '125.74.23.163-180.169.80.76': 0.0,\n",
       " '118.213.93.172-218.95.139.31': 0.0,\n",
       " '42.81.152.37-42.81.147.86': 0.0,\n",
       " '42.49.116.141-110.52.56.139': 0.0033783783783783786,\n",
       " '42.49.116.141-211.95.81.48': 0.0,\n",
       " '118.213.93.172-60.247.99.50': 0.006535947712418301,\n",
       " '183.201.236.121-218.205.182.38': 0.0,\n",
       " '60.221.209.103-114.255.206.166': 0.0,\n",
       " '60.221.209.103-123.127.121.186': 0.0,\n",
       " '60.221.209.103-123.127.121.21': 0.0,\n",
       " '60.221.209.103-111.161.123.186': 0.0,\n",
       " '60.221.209.103-60.221.184.11': 0.0,\n",
       " '111.22.49.94-120.204.111.44': 0.0,\n",
       " '111.22.49.94-111.6.241.2': 0.0,\n",
       " '111.22.49.94-211.142.197.65': 0.0,\n",
       " '110.188.68.204-180.169.80.55': 0.0,\n",
       " '121.57.82.55-60.247.99.91': 0.0,\n",
       " '121.57.82.55-27.152.189.96': 0.0,\n",
       " '222.132.143.148-211.95.81.196': 0.0,\n",
       " '222.132.143.148-123.127.121.186': 0.0,\n",
       " '222.132.143.148-202.99.30.221': 0.0,\n",
       " '222.132.143.148-112.81.238.245': 0.0,\n",
       " '222.132.143.148-118.212.74.159': 0.0,\n",
       " '222.132.143.148-123.127.121.56': 0.0,\n",
       " '36.136.93.64-36.136.93.3': 0.0,\n",
       " '36.136.93.64-120.240.100.161': 0.0,\n",
       " '36.250.86.42-211.95.81.48': 0.0,\n",
       " '36.136.93.64-117.131.49.151': 0.0,\n",
       " '36.250.86.42-112.64.230.51': 0.0,\n",
       " '110.188.68.204-27.148.154.14': 0.003472222222222222,\n",
       " '118.213.93.172-60.247.99.136': 0.0,\n",
       " '121.57.82.55-219.142.91.83': 0.0,\n",
       " '221.178.32.205-39.155.173.20': 0.0,\n",
       " '221.178.32.205-218.205.182.38': 0.0,\n",
       " '36.250.86.42-112.64.230.61': 0.0,\n",
       " '42.101.79.20-123.184.58.198': 0.0,\n",
       " '111.19.227.144-218.205.182.40': 0.0,\n",
       " '111.19.227.144-218.205.182.38': 0.0,\n",
       " '111.19.227.144-111.19.227.153': 0.0,\n",
       " '123.125.10.50-221.193.246.133': 0.0,\n",
       " '111.22.49.94-117.184.157.10': 0.0,\n",
       " '111.22.49.94-117.131.49.151': 0.0,\n",
       " '180.130.108.149-14.205.40.182': 0.0,\n",
       " '111.22.49.94-117.184.157.7': 0.0,\n",
       " '118.213.93.172-180.169.80.76': 0.006802721088435374,\n",
       " '118.213.93.172-219.142.91.83': 0.0,\n",
       " '223.113.216.104-120.221.23.14': 0.006666666666666667,\n",
       " '180.130.108.149-112.64.230.141': 0.013605442176870748,\n",
       " '117.187.214.237-111.10.29.157': 0.0,\n",
       " '113.6.77.12-113.8.150.120': 0.0,\n",
       " '223.113.216.104-120.204.111.141': 0.006329113924050633,\n",
       " '223.113.216.104-117.184.126.13': 0.0,\n",
       " '111.31.114.94-218.205.182.38': 0.0,\n",
       " '180.130.108.149-180.130.108.15': 0.0,\n",
       " '113.194.59.163-112.64.230.51': 0.0,\n",
       " '111.31.114.94-39.155.173.26': 0.0,\n",
       " '180.130.108.149-112.64.230.51': 0.0,\n",
       " '112.48.167.83-117.131.49.177': 0.0,\n",
       " '112.48.167.83-120.204.111.44': 0.0,\n",
       " '112.48.167.83-117.131.49.151': 0.0,\n",
       " '42.243.147.52-180.169.119.141': 0.0,\n",
       " '42.243.147.52-61.129.111.47': 0.0,\n",
       " '42.243.147.52-180.169.119.69': 0.0,\n",
       " '42.243.147.52-118.123.235.47': 0.0,\n",
       " '42.243.147.52-218.63.8.120': 0.0,\n",
       " '42.243.147.52-183.66.107.44': 0.0,\n",
       " '42.243.147.52-180.169.119.62': 0.0,\n",
       " '112.50.111.66-112.47.27.20': 0.0009025270758122744,\n",
       " '222.246.138.134-116.236.244.251': 0.0,\n",
       " '222.246.138.134-113.240.70.141': 0.0033783783783783786,\n",
       " '222.246.138.134-180.169.80.55': 0.0,\n",
       " '183.216.189.8-117.131.49.151': 0.0,\n",
       " '111.6.241.196-111.6.241.2': 0.0,\n",
       " '106.3.215.12-140.206.239.45': 0.018050541516245487,\n",
       " '120.221.66.167-223.111.139.100': 0.0,\n",
       " '36.136.93.64-117.184.157.7': 0.0,\n",
       " '106.3.215.12-58.246.164.177': 0.028985507246376812,\n",
       " '106.3.215.12-140.206.54.68': 0.0,\n",
       " '183.66.107.126-61.129.111.66': 0.0,\n",
       " '211.95.52.190-118.212.74.159': 0.0,\n",
       " '211.95.52.190-112.64.230.51': 0.0,\n",
       " '117.180.226.17-218.205.182.38': 0.0,\n",
       " '117.180.226.17-117.184.157.95': 0.0,\n",
       " '183.66.107.126-219.142.91.186': 0.0,\n",
       " '183.66.107.126-60.247.99.91': 0.0,\n",
       " '183.66.107.126-218.63.8.88': 0.0,\n",
       " '183.66.107.126-60.247.99.136': 0.0,\n",
       " '183.66.107.126-219.142.91.83': 0.0,\n",
       " '211.95.52.190-112.64.230.61': 0.0,\n",
       " '211.95.52.190-140.206.54.68': 0.0,\n",
       " '117.149.145.89-117.131.49.177': 0.0,\n",
       " '211.95.52.190-58.246.164.177': 0.0,\n",
       " '211.95.52.190-211.95.81.51': 0.0,\n",
       " '117.149.145.89-117.184.126.16': 0.0,\n",
       " '117.149.145.89-120.204.111.44': 0.0,\n",
       " '117.149.145.89-223.111.139.100': 0.0,\n",
       " '117.149.145.89-112.15.3.28': 0.0,\n",
       " '117.149.145.89-36.156.38.147': 0.0,\n",
       " '117.149.145.89-117.131.49.151': 0.0,\n",
       " '117.149.145.89-223.111.17.145': 0.0,\n",
       " '221.180.208.131-221.180.208.159': 0.0013123359580052493,\n",
       " '36.104.136.183-61.129.111.66': 0.0,\n",
       " '111.161.116.140-123.127.121.21': 0.0,\n",
       " '111.161.116.140-111.202.83.90': 0.0,\n",
       " '211.95.52.190-118.212.74.98': 0.001669449081803005,\n",
       " '183.66.107.126-119.84.87.107': 0.0,\n",
       " '183.66.107.126-183.66.110.217': 0.0,\n",
       " '117.156.244.206-111.51.75.108': 0.005952380952380952,\n",
       " '106.74.11.79-123.127.121.116': 0.0,\n",
       " '221.180.208.131-39.155.173.26': 0.0,\n",
       " '36.104.136.183-60.247.99.56': 0.0,\n",
       " '221.180.208.131-117.131.49.151': 0.0,\n",
       " '117.187.214.237-120.204.111.44': 0.0,\n",
       " '117.187.214.237-117.184.157.7': 0.0,\n",
       " '106.74.11.79-123.127.121.56': 0.0,\n",
       " '180.95.228.155-116.177.234.57': 0.0,\n",
       " '125.77.139.20-180.169.119.62': 0.0,\n",
       " '61.163.109.145-125.44.105.19': 0.0,\n",
       " '113.62.126.138-219.142.91.83': 0.0,\n",
       " '61.163.109.145-123.127.121.116': 0.0,\n",
       " '36.99.184.121-36.99.198.133': 0.0,\n",
       " '116.178.68.198-140.206.54.93': 0.0,\n",
       " '113.62.126.138-219.142.91.146': 0.0,\n",
       " '218.95.139.6-60.247.99.91': 0.0,\n",
       " '116.178.68.198-123.127.121.116': 0.0,\n",
       " '112.67.249.81-117.27.241.153': 0.0,\n",
       " '113.125.206.78-119.84.87.107': 0.0,\n",
       " '211.142.197.29-117.184.157.95': 0.0,\n",
       " '211.142.197.29-218.205.182.40': 0.0,\n",
       " '218.95.139.6-218.95.139.32': 0.0018050541516245488,\n",
       " '36.104.136.183-219.142.91.146': 0.0,\n",
       " '182.91.255.63-211.95.81.51': 0.0,\n",
       " '36.104.136.183-42.101.79.17': 0.0,\n",
       " '103.254.188.26-61.129.111.66': 0.0,\n",
       " '103.254.188.26-219.142.91.113': 0.0,\n",
       " '103.254.188.26-103.254.191.194': 0.0,\n",
       " '103.254.188.26-103.254.191.34': 0.0,\n",
       " '103.254.188.26-103.254.188.51': 0.0,\n",
       " '125.77.139.20-180.169.80.58': 0.0,\n",
       " '125.77.139.20-27.148.141.126': 0.0,\n",
       " '116.178.68.198-123.127.121.21': 0.0,\n",
       " '116.178.68.198-123.127.121.56': 0.0,\n",
       " '112.67.249.81-222.79.76.102': 0.0,\n",
       " '60.13.100.48-211.95.81.48': 0.0,\n",
       " '111.42.84.72-39.155.173.20': 0.0,\n",
       " '111.29.28.159-120.204.111.44': 0.0,\n",
       " '111.42.84.72-39.155.173.26': 0.0,\n",
       " '113.207.0.11-211.95.81.196': 0.006896551724137931,\n",
       " '218.60.20.86-139.215.227.112': 0.0,\n",
       " '111.42.84.72-221.180.208.159': 0.0,\n",
       " '112.67.249.81-112.67.249.76': 0.0,\n",
       " '112.67.249.81-180.169.80.55': 0.0,\n",
       " '112.81.238.118-112.240.60.102': 0.0,\n",
       " '218.60.20.86-202.108.88.19': 0.0,\n",
       " '123.125.10.50-202.108.88.19': 0.0,\n",
       " '60.13.100.48-112.64.230.61': 0.0,\n",
       " '36.104.136.183-123.184.58.198': 0.0,\n",
       " '36.104.136.183-36.104.136.191': 0.0016666666666666668,\n",
       " '182.91.255.63-112.64.230.61': 0.0,\n",
       " '111.174.13.139-124.232.174.223': 0.0,\n",
       " '111.174.13.139-61.129.111.44': 0.0,\n",
       " '111.174.13.139-180.169.119.62': 0.0,\n",
       " '123.125.10.50-111.202.83.90': 0.002564102564102564,\n",
       " '113.207.0.11-114.255.206.166': 0.0,\n",
       " '113.125.206.78-180.169.119.141': 0.006756756756756757,\n",
       " '113.125.206.78-180.169.80.58': 0.0,\n",
       " '113.125.206.78-119.84.87.18': 0.0,\n",
       " '113.125.206.78-180.169.80.55': 0.0,\n",
       " '36.104.136.183-219.142.91.186': 0.0,\n",
       " '113.125.206.78-183.66.110.217': 0.0,\n",
       " '123.244.41.72-219.142.91.83': 0.0,\n",
       " '61.132.231.90-61.132.231.40': 0.0,\n",
       " '123.125.10.50-140.206.54.93': 0.0,\n",
       " '113.201.239.228-123.127.121.186': 0.0,\n",
       " '124.236.25.233-60.247.99.136': 0.0,\n",
       " '113.24.194.115-219.142.91.83': 0.0,\n",
       " '112.29.202.106-111.12.223.168': 0.0,\n",
       " '113.142.165.143-117.33.164.240': 0.0,\n",
       " '112.29.202.106-117.184.126.13': 0.0,\n",
       " '112.29.202.106-117.131.49.151': 0.0,\n",
       " '111.12.180.126-218.205.182.38': 0.0,\n",
       " '113.194.59.163-140.206.54.68': 0.0,\n",
       " '123.103.115.81-60.247.99.50': 0.0,\n",
       " '101.227.98.94-180.169.119.141': 0.006329113924050633,\n",
       " '111.174.13.139-61.129.111.47': 0.0,\n",
       " '111.29.28.159-117.184.126.13': 0.0,\n",
       " '111.174.13.139-223.151.245.72': 0.0,\n",
       " '119.6.234.51-58.246.164.177': 0.0,\n",
       " '119.6.234.51-140.206.54.71': 0.0,\n",
       " '61.132.231.90-180.169.80.58': 0.0,\n",
       " '61.132.231.90-58.220.73.193': 0.0,\n",
       " '61.132.231.90-61.129.111.44': 0.0,\n",
       " '218.60.20.86-211.95.81.196': 0.0,\n",
       " '42.101.79.20-61.129.111.66': 0.006666666666666667,\n",
       " '222.218.186.60-27.152.189.96': 0.0,\n",
       " '123.103.115.81-103.254.188.51': 0.0,\n",
       " '123.244.41.72-61.129.111.66': 0.007246376811594203,\n",
       " '222.218.186.60-180.169.80.55': 0.0,\n",
       " '123.244.41.72-123.184.58.198': 0.0,\n",
       " '111.174.13.139-180.169.119.141': 0.005847953216374269,\n",
       " '111.29.28.159-117.131.49.177': 0.0,\n",
       " '125.74.23.163-117.33.164.240': 0.0,\n",
       " '222.132.143.148-113.194.58.133': 0.0,\n",
       " '222.132.143.148-114.255.206.166': 0.0,\n",
       " '42.49.116.141-58.246.164.177': 0.0,\n",
       " '112.29.202.106-120.204.111.44': 0.0,\n",
       " '123.103.115.81-103.254.191.194': 0.0070921985815602835,\n",
       " '113.142.165.143-103.126.1.226': 0.0,\n",
       " '123.244.41.72-36.104.136.191': 0.0,\n",
       " '59.80.43.51-180.130.108.15': 0.0,\n",
       " '59.80.43.51-59.80.43.60': 0.00196078431372549,\n",
       " '59.80.43.51-211.95.81.48': 0.0,\n",
       " '59.80.43.51-119.6.234.42': 0.0,\n",
       " '61.242.183.130-110.52.56.139': 0.0026845637583892616,\n",
       " '112.29.202.106-223.111.198.87': 0.0,\n",
       " '111.12.180.126-117.184.157.95': 0.0,\n",
       " '42.81.152.37-219.142.91.113': 0.0,\n",
       " '182.96.95.83-106.225.224.118': 0.0,\n",
       " '123.244.41.72-60.247.99.136': 0.0,\n",
       " '116.172.75.50-114.255.206.166': 0.0,\n",
       " '61.242.183.130-112.64.230.51': 0.0,\n",
       " '182.96.95.83-180.169.119.62': 0.0,\n",
       " '111.29.28.159-117.131.49.151': 0.0,\n",
       " '111.31.114.94-117.131.126.141': 0.0,\n",
       " '111.31.114.94-111.62.90.170': 0.0,\n",
       " '111.31.114.94-117.131.49.151': 0.0,\n",
       " '182.96.95.83-61.180.32.112': 0.0,\n",
       " '111.12.180.126-111.12.223.168': 0.0,\n",
       " '117.187.214.237-117.131.49.177': 0.0,\n",
       " '117.187.214.237-221.178.32.218': 0.0,\n",
       " '111.31.114.94-183.201.234.75': 0.0,\n",
       " '116.172.75.50-123.127.121.21': 0.0,\n",
       " '116.172.75.50-180.95.228.254': 0.0017241379310344827,\n",
       " '116.172.75.50-116.177.234.57': 0.0,\n",
       " '222.132.143.148-123.127.121.21': 0.0,\n",
       " '222.132.143.148-202.108.88.19': 0.0,\n",
       " '36.136.93.64-112.47.27.20': 0.006944444444444444,\n",
       " '116.172.75.50-43.242.167.132': 0.0,\n",
       " '112.29.202.106-117.184.126.16': 0.0,\n",
       " '113.24.194.115-219.142.91.113': 0.0,\n",
       " '111.62.172.60-111.62.90.170': 0.0,\n",
       " '123.125.10.50-106.74.11.40': 0.0,\n",
       " '116.172.75.50-140.206.54.93': 0.0,\n",
       " '110.188.68.204-180.169.119.69': 0.0,\n",
       " '101.227.98.94-180.169.119.69': 0.0,\n",
       " '110.188.68.204-180.169.119.62': 0.0,\n",
       " '116.172.75.50-123.127.121.186': 0.0,\n",
       " '116.172.75.50-202.108.88.19': 0.0,\n",
       " '183.201.236.121-39.155.173.20': 0.0,\n",
       " '36.250.86.42-36.249.126.203': 0.0,\n",
       " '111.22.49.94-120.204.111.141': 0.00684931506849315,\n",
       " '113.6.77.12-123.127.121.186': 0.0,\n",
       " '113.6.77.12-123.127.121.21': 0.0,\n",
       " '113.6.77.12-122.142.16.162': 0.0,\n",
       " '118.213.93.172-60.247.99.56': 0.0,\n",
       " '223.113.216.104-39.170.86.48': 0.07567567567567568,\n",
       " '113.6.77.12-123.127.121.56': 0.0,\n",
       " '113.6.77.12-211.95.81.196': 0.0,\n",
       " '36.250.86.42-112.64.230.141': 0.0,\n",
       " '223.113.216.104-117.184.157.10': 0.0,\n",
       " '223.113.216.104-117.184.157.7': 0.0,\n",
       " '180.130.108.149-211.95.81.48': 0.0,\n",
       " '121.57.82.55-180.169.80.76': 0.0,\n",
       " '183.216.189.8-112.15.3.28': 0.0,\n",
       " '120.221.66.167-223.111.17.145': 0.0,\n",
       " '101.227.98.94-180.169.80.58': 0.0,\n",
       " '113.142.165.143-218.95.139.32': 0.0,\n",
       " '223.86.68.104-117.131.49.177': 0.0,\n",
       " '223.86.68.104-117.184.126.16': 0.0,\n",
       " '223.86.68.104-120.204.111.44': 0.0,\n",
       " '223.86.68.104-221.178.32.218': 0.0035971223021582736,\n",
       " '223.86.68.104-111.10.29.157': 0.0,\n",
       " '223.86.68.104-117.184.126.13': 0.0,\n",
       " '223.86.68.104-117.131.49.151': 0.0,\n",
       " '111.47.221.239-120.226.49.245': 0.0034662045060658577,\n",
       " '112.67.249.81-116.236.244.251': 0.007194244604316547,\n",
       " '111.161.116.140-123.127.121.186': 0.0,\n",
       " '111.161.116.140-106.74.11.40': 0.0,\n",
       " '49.71.73.122-58.220.70.58': 0.0,\n",
       " '106.74.11.79-202.108.88.19': 0.0,\n",
       " '111.161.116.140-202.108.88.19': 0.0,\n",
       " '111.47.221.239-211.142.197.65': 0.00684931506849315,\n",
       " '49.71.73.122-61.129.111.44': 0.0,\n",
       " '113.201.239.228-123.127.121.56': 0.0,\n",
       " '111.132.37.134-120.204.111.44': 0.0,\n",
       " '111.27.126.90-117.184.157.95': 0.0,\n",
       " '125.77.139.20-180.169.80.55': 0.0,\n",
       " '36.99.184.121-60.247.99.50': 0.0,\n",
       " '211.142.197.29-39.155.173.26': 0.0,\n",
       " '116.178.68.198-211.95.81.196': 0.007042253521126761,\n",
       " '111.27.126.90-218.205.182.40': 0.0,\n",
       " '111.27.126.90-218.205.188.16': 0.0,\n",
       " '120.240.97.95-120.204.111.141': 0.007462686567164179,\n",
       " '36.99.184.121-60.247.99.136': 0.0,\n",
       " '113.125.206.78-183.66.107.44': 0.0,\n",
       " '120.240.97.95-111.29.28.12': 0.0,\n",
       " '180.95.228.155-211.95.81.196': 0.0,\n",
       " '180.95.228.155-123.127.121.21': 0.0,\n",
       " '180.95.228.155-113.201.242.22': 0.0,\n",
       " '180.95.228.155-123.127.121.56': 0.0,\n",
       " '113.194.59.163-140.206.54.71': 0.0,\n",
       " '61.164.117.143-115.223.11.3': 0.0,\n",
       " '111.19.227.144-117.131.126.141': 0.0,\n",
       " '112.81.238.118-112.64.230.141': 0.006802721088435374,\n",
       " '112.81.238.118-112.64.230.61': 0.0,\n",
       " '112.81.238.118-222.132.143.158': 0.0,\n",
       " '112.81.238.118-112.81.238.245': 0.0,\n",
       " '112.81.238.118-113.194.58.133': 0.0,\n",
       " '123.125.10.50-123.127.121.56': 0.0,\n",
       " '113.125.206.78-61.129.111.47': 0.0,\n",
       " '36.147.17.79-117.131.49.151': 0.0,\n",
       " '182.91.255.63-140.206.54.68': 0.0,\n",
       " '182.91.255.63-112.64.230.51': 0.0,\n",
       " '119.6.234.51-59.80.43.60': 0.0,\n",
       " '61.132.231.90-122.228.17.11': 0.0,\n",
       " '119.6.234.51-119.6.234.42': 0.0021691973969631237,\n",
       " '119.6.234.51-140.206.54.68': 0.0,\n",
       " '113.24.194.115-180.169.80.76': 0.007462686567164179,\n",
       " '123.125.10.50-114.255.206.166': 0.0,\n",
       " '124.236.25.233-60.247.99.56': 0.0,\n",
       " '42.157.197.76-121.12.91.107': 0.0,\n",
       " '183.201.236.121-117.131.49.151': 0.0,\n",
       " '42.49.116.141-116.162.189.41': 0.0,\n",
       " '36.147.17.79-36.147.17.81': 0.0008680555555555555,\n",
       " '36.147.17.79-117.184.157.7': 0.0,\n",
       " '119.6.234.51-112.64.230.141': 0.007246376811594203,\n",
       " '111.31.114.94-36.156.38.147': 0.0,\n",
       " '42.49.116.141-140.206.54.71': 0.0,\n",
       " '42.49.116.141-112.64.230.141': 0.006666666666666667,\n",
       " '123.244.41.72-219.142.91.113': 0.0,\n",
       " '42.81.152.37-219.142.91.186': 0.0,\n",
       " '111.12.180.126-111.51.75.108': 0.0,\n",
       " '111.12.180.126-218.205.188.16': 0.0,\n",
       " '112.48.167.83-117.184.126.16': 0.0,\n",
       " '112.48.167.83-112.47.27.20': 0.0,\n",
       " '112.48.167.83-117.184.157.7': 0.006289308176100629,\n",
       " '121.57.82.55-219.142.91.186': 0.0,\n",
       " '121.57.82.55-60.247.99.136': 0.0,\n",
       " '180.130.108.149-140.206.54.71': 0.0,\n",
       " '180.130.108.149-112.64.230.61': 0.0,\n",
       " '223.113.216.104-120.204.111.44': 0.0,\n",
       " '223.113.216.104-183.216.189.61': 0.0,\n",
       " '223.113.216.104-117.131.49.151': 0.0,\n",
       " '117.145.179.251-218.205.182.40': 0.0,\n",
       " '117.145.179.251-218.205.182.38': 0.0,\n",
       " '222.246.138.134-180.169.119.69': 0.0,\n",
       " '111.31.114.94-218.205.188.16': 0.0,\n",
       " '42.243.147.52-116.236.244.251': 0.012903225806451613,\n",
       " '42.243.147.52-180.169.80.58': 0.0,\n",
       " '183.216.189.8-112.17.30.232': 0.0,\n",
       " '117.145.179.251-221.181.52.87': 0.0014005602240896359,\n",
       " '117.145.179.251-117.131.49.151': 0.0,\n",
       " '183.216.189.8-120.204.111.44': 0.0,\n",
       " '222.246.138.134-180.169.80.58': 0.0,\n",
       " '222.246.138.134-124.232.174.223': 0.0017857142857142857,\n",
       " '120.221.66.167-112.17.30.232': 0.0,\n",
       " '120.221.66.167-223.111.198.87': 0.0,\n",
       " '120.221.66.167-117.131.49.151': 0.0,\n",
       " '101.227.98.94-58.220.73.196': 0.0,\n",
       " '112.50.111.66-120.204.111.141': 0.006802721088435374,\n",
       " '117.184.37.79-117.184.157.7': 0.0,\n",
       " '111.174.13.139-180.169.119.69': 0.0,\n",
       " '120.221.66.167-117.184.157.95': 0.0,\n",
       " '120.221.66.167-39.155.173.20': 0.0,\n",
       " '120.221.66.167-218.205.182.38': 0.0,\n",
       " '120.221.66.167-39.155.173.26': 0.0,\n",
       " '112.50.111.66-120.204.111.44': 0.0,\n",
       " '42.101.79.20-42.101.79.17': 0.003401360544217687,\n",
       " '211.95.52.190-211.95.81.48': 0.0,\n",
       " '211.95.52.190-140.206.54.71': 0.0,\n",
       " '125.74.23.163-60.247.99.56': 0.0,\n",
       " '117.149.145.89-120.221.23.14': 0.0,\n",
       " '61.242.183.130-112.64.230.61': 0.0,\n",
       " '61.242.183.130-61.242.183.196': 0.0,\n",
       " '211.95.52.190-113.194.58.133': 0.0,\n",
       " '150.138.105.143-202.99.30.221': 0.0,\n",
       " '59.80.43.51-112.64.230.61': 0.0,\n",
       " '211.142.197.29-211.142.197.65': 0.0,\n",
       " '111.132.37.134-117.161.202.123': 0.0,\n",
       " '125.77.139.20-180.169.119.141': 0.0,\n",
       " '116.178.68.198-111.200.33.56': 0.0,\n",
       " '125.77.139.20-27.152.189.96': 0.0,\n",
       " '110.188.68.204-116.236.244.251': 0.013071895424836602,\n",
       " '182.91.255.63-112.64.230.141': 0.0,\n",
       " '124.236.25.233-124.236.25.236': 0.0,\n",
       " '150.138.105.143-103.126.1.226': 0.0,\n",
       " '60.13.100.48-112.64.230.141': 0.0,\n",
       " '180.95.228.155-123.127.121.116': 0.0,\n",
       " '117.180.226.17-218.205.182.40': 0.0,\n",
       " '61.164.117.143-115.223.7.201': 0.0,\n",
       " '112.67.249.81-61.129.111.47': 0.0,\n",
       " '61.132.231.90-116.236.244.251': 0.013422818791946308,\n",
       " '60.13.100.48-211.95.81.51': 0.0,\n",
       " '124.236.25.233-61.129.111.66': 0.007352941176470588,\n",
       " '124.236.25.233-60.247.99.91': 0.0,\n",
       " '111.19.227.144-39.155.173.26': 0.0,\n",
       " '111.174.13.139-113.240.70.141': 0.0,\n",
       " '111.174.13.139-180.169.80.55': 0.0,\n",
       " '123.125.10.50-211.95.81.196': 0.0072992700729927005,\n",
       " '117.180.226.17-218.205.188.16': 0.0,\n",
       " '112.29.202.106-117.184.157.7': 0.0,\n",
       " '113.24.194.115-60.247.99.56': 0.0,\n",
       " '123.103.115.81-219.142.91.186': 0.0,\n",
       " '112.29.202.106-117.131.49.177': 0.006622516556291391,\n",
       " '60.221.209.103-140.206.54.93': 0.0,\n",
       " '61.164.117.143-180.169.80.55': 0.0,\n",
       " '218.60.20.86-140.206.54.93': 0.0078125,\n",
       " '42.101.79.20-180.169.80.76': 0.0,\n",
       " '36.147.17.79-117.184.157.10': 0.0,\n",
       " '112.29.202.106-120.221.23.14': 0.0,\n",
       " '113.201.239.228-140.206.54.93': 0.0,\n",
       " '221.178.32.205-111.10.29.157': 0.003472222222222222,\n",
       " '221.178.32.205-39.155.173.26': 0.0,\n",
       " '123.244.41.72-180.169.80.76': 0.0,\n",
       " '42.49.116.141-211.95.81.51': 0.0,\n",
       " '113.142.165.143-218.95.139.31': 0.0,\n",
       " '113.142.165.143-202.108.88.19': 0.0,\n",
       " '123.244.41.72-60.247.99.50': 0.0,\n",
       " '111.12.180.126-117.131.126.141': 0.0,\n",
       " '182.96.95.83-61.129.111.47': 0.0,\n",
       " '182.96.95.83-180.169.119.69': 0.0,\n",
       " '42.81.152.37-42.81.61.39': 0.0,\n",
       " '182.96.95.83-182.106.175.12': 0.0,\n",
       " '113.6.77.12-123.127.121.116': 0.0,\n",
       " '118.213.93.172-219.142.91.186': 0.0,\n",
       " '111.12.180.126-39.155.173.20': 0.0,\n",
       " '222.132.143.148-111.200.33.56': 0.0,\n",
       " '222.132.143.148-222.132.143.158': 0.0,\n",
       " '110.188.68.204-180.169.80.58': 0.0,\n",
       " '223.113.216.104-223.111.13.147': 0.006211180124223602,\n",
       " '113.6.77.12-202.108.88.19': 0.0,\n",
       " '121.57.82.55-42.81.147.86': 0.0,\n",
       " '223.113.216.104-117.184.126.16': 0.0,\n",
       " '117.145.179.251-117.131.126.141': 0.0,\n",
       " '117.145.179.251-39.155.173.20': 0.0,\n",
       " '117.145.179.251-117.145.179.15': 0.0,\n",
       " '36.136.93.64-117.184.126.16': 0.0,\n",
       " '183.216.189.8-223.111.17.145': 0.0,\n",
       " '183.216.189.8-183.216.189.61': 0.0,\n",
       " '42.101.79.20-36.104.136.191': 0.003472222222222222,\n",
       " '120.221.66.167-120.221.23.14': 0.0024390243902439024,\n",
       " '120.221.66.167-218.205.188.16': 0.0,\n",
       " '183.66.107.126-180.169.80.76': 0.0,\n",
       " '42.101.79.20-60.247.99.91': 0.0,\n",
       " '106.3.215.12-112.64.230.61': 0.013888888888888888,\n",
       " '106.3.215.12-112.64.230.51': 0.020833333333333332,\n",
       " '117.180.226.17-117.131.126.141': 0.0,\n",
       " '183.66.107.126-219.142.91.146': 0.0,\n",
       " '183.66.107.126-118.123.235.47': 0.0,\n",
       " '125.74.23.163-219.142.91.83': 0.0,\n",
       " '117.149.145.89-117.184.157.10': 0.0,\n",
       " '112.81.238.118-140.206.54.71': 0.0,\n",
       " '36.104.136.183-219.142.91.113': 0.0,\n",
       " '125.74.23.163-219.142.91.113': 0.0,\n",
       " '111.161.116.140-140.206.54.93': 0.0,\n",
       " '117.187.214.237-117.184.126.13': 0.0,\n",
       " '111.47.221.239-117.184.157.10': 0.0,\n",
       " '111.132.37.134-111.62.90.170': 0.0,\n",
       " '111.27.126.90-39.155.173.26': 0.0,\n",
       " '218.95.139.6-60.247.99.136': 0.0,\n",
       " '218.95.139.6-219.142.91.83': 0.0,\n",
       " '61.163.109.145-211.95.81.196': 0.0,\n",
       " '111.42.84.72-117.131.126.141': 0.007407407407407408,\n",
       " '180.95.228.155-114.255.206.166': 0.0,\n",
       " '180.95.228.155-202.108.88.19': 0.0,\n",
       " '111.19.227.144-218.205.188.16': 0.0,\n",
       " '61.132.231.90-180.169.119.141': 0.007194244604316547,\n",
       " '112.81.238.118-118.212.74.98': 0.0,\n",
       " '111.42.84.72-111.42.180.222': 0.0,\n",
       " '113.201.239.228-180.95.228.254': 0.0,\n",
       " '119.6.234.51-180.130.108.15': 0.0,\n",
       " '61.132.231.90-180.169.119.62': 0.0,\n",
       " '113.201.239.228-111.200.33.56': 0.0,\n",
       " '61.164.117.143-116.236.244.251': 0.0,\n",
       " '61.164.117.143-180.169.119.69': 0.0,\n",
       " '61.164.117.143-180.169.119.62': 0.0,\n",
       " '113.207.0.11-111.200.33.56': 0.0,\n",
       " '42.101.79.20-60.247.99.56': 0.0,\n",
       " '112.29.202.106-223.111.13.147': 0.009174311926605505,\n",
       " '36.250.86.42-58.246.164.177': 0.0,\n",
       " '36.250.86.42-140.206.54.71': 0.0,\n",
       " '121.57.82.55-60.247.99.50': 0.0,\n",
       " '36.136.93.64-183.240.117.188': 0.0,\n",
       " '180.130.108.149-211.95.81.51': 0.0,\n",
       " '121.57.82.55-61.129.111.66': 0.0,\n",
       " '36.136.93.64-117.184.157.10': 0.0,\n",
       " '42.243.147.52-218.63.8.88': 0.0,\n",
       " '42.243.147.52-183.66.110.217': 0.0,\n",
       " '36.136.93.64-120.204.111.141': 0.013986013986013986,\n",
       " '36.136.93.64-120.204.111.44': 0.0,\n",
       " '106.3.215.12-112.64.230.141': 0.006666666666666667,\n",
       " '106.3.215.12-211.95.81.51': 0.006756756756756757,\n",
       " '106.3.215.12-112.81.238.245': 0.023411371237458192,\n",
       " '117.149.145.89-117.184.157.7': 0.0,\n",
       " '111.12.180.126-117.131.49.151': 0.0,\n",
       " '120.221.66.167-183.216.189.61': 0.0,\n",
       " '183.66.107.126-60.247.99.56': 0.0,\n",
       " '117.149.145.89-120.204.111.141': 0.006666666666666667,\n",
       " '223.86.68.104-120.204.111.141': 0.0,\n",
       " '223.86.68.104-117.184.157.10': 0.0,\n",
       " '223.86.68.104-36.147.17.81': 0.0,\n",
       " '111.161.116.140-60.221.184.11': 0.0,\n",
       " '183.66.107.126-183.66.107.44': 0.0,\n",
       " '49.71.73.122-180.169.119.141': 0.0,\n",
       " '49.71.73.122-58.220.70.56': 0.0,\n",
       " '111.47.221.239-120.204.111.141': 0.0,\n",
       " '218.95.139.6-61.129.111.66': 0.014598540145985401,\n",
       " '111.47.221.239-117.184.126.13': 0.0,\n",
       " '113.62.126.138-113.62.123.16': 0.0,\n",
       " '59.80.43.51-112.64.230.141': 0.024390243902439025,\n",
       " '111.27.126.90-111.43.178.191': 0.0,\n",
       " '36.99.184.121-60.247.99.91': 0.0,\n",
       " '61.163.109.145-123.127.121.21': 0.0,\n",
       " '61.163.109.145-123.127.121.56': 0.0,\n",
       " '103.254.188.26-42.81.61.39': 0.0,\n",
       " '125.77.139.20-116.236.244.251': 0.0,\n",
       " '125.77.139.20-61.129.111.47': 0.0,\n",
       " '125.77.139.20-222.79.78.178': 0.0,\n",
       " '110.188.68.204-180.169.119.141': 0.0,\n",
       " '218.60.20.86-123.127.121.56': 0.0,\n",
       " '124.236.25.233-60.247.99.50': 0.0,\n",
       " '124.236.25.233-219.142.91.113': 0.0,\n",
       " '116.131.160.141-123.127.121.21': 0.0,\n",
       " '61.132.231.90-122.228.17.102': 0.0,\n",
       " '111.31.114.94-218.205.182.40': 0.0,\n",
       " '116.131.160.141-123.127.121.116': 0.0,\n",
       " '113.194.59.163-112.64.230.141': 0.0,\n",
       " '42.157.197.76-121.12.91.94': 0.0,\n",
       " '183.201.236.121-117.131.126.141': 0.0,\n",
       " '42.81.152.37-61.129.111.66': 0.0,\n",
       " '42.81.152.37-219.142.91.83': 0.0,\n",
       " '111.174.13.139-180.169.80.58': 0.0,\n",
       " '101.227.98.94-101.227.98.207': 0.0,\n",
       " '61.164.117.143-180.169.119.141': 0.006578947368421052,\n",
       " '61.164.117.143-180.169.80.58': 0.0,\n",
       " '61.132.231.90-61.129.111.47': 0.0,\n",
       " '119.6.234.51-211.95.81.51': 0.0,\n",
       " '123.103.115.81-42.81.61.39': 0.0,\n",
       " '183.201.236.121-111.62.90.170': 0.002793296089385475,\n",
       " '183.201.236.121-218.205.188.16': 0.0,\n",
       " '222.218.186.60-61.129.111.44': 0.0,\n",
       " '221.178.32.205-218.205.188.16': 0.0,\n",
       " '117.187.214.237-117.184.157.10': 0.0,\n",
       " '123.103.115.81-103.254.189.29': 0.0,\n",
       " '42.81.152.37-219.142.91.146': 0.0,\n",
       " '111.31.114.94-117.184.157.95': 0.0,\n",
       " '111.29.28.159-117.184.157.10': 0.0,\n",
       " '42.49.116.141-140.206.54.68': 0.0,\n",
       " '60.221.209.103-202.108.88.19': 0.0,\n",
       " '222.218.186.60-180.169.119.69': 0.0,\n",
       " '121.57.82.55-219.142.91.113': 0.0,\n",
       " '222.132.143.148-140.206.54.93': 0.007246376811594203,\n",
       " '112.29.202.106-117.184.157.10': 0.0,\n",
       " '118.213.93.172-219.142.91.146': 0.0,\n",
       " '111.22.49.94-117.184.126.16': 0.0,\n",
       " '111.22.49.94-117.131.49.177': 0.007042253521126761,\n",
       " '118.213.93.172-61.129.111.66': 0.0,\n",
       " '113.6.77.12-139.215.227.112': 0.0,\n",
       " '223.113.216.104-117.149.139.184': 0.0,\n",
       " '180.130.108.149-58.246.164.177': 0.0070921985815602835,\n",
       " '223.113.216.104-112.17.30.232': 0.0,\n",
       " '36.250.86.42-211.95.81.51': 0.0,\n",
       " '101.227.98.94-180.169.80.55': 0.0,\n",
       " '101.227.98.94-180.169.119.62': 0.0,\n",
       " '222.246.138.134-180.169.119.141': 0.007194244604316547,\n",
       " '222.246.138.134-180.169.119.62': 0.0,\n",
       " '112.50.111.66-117.184.157.7': 0.0,\n",
       " '111.32.130.195-111.62.90.170': 0.006944444444444444,\n",
       " '117.184.37.79-117.184.126.13': 0.0,\n",
       " '106.3.215.12-140.206.54.71': 0.03571428571428571,\n",
       " '117.149.145.89-117.184.126.13': 0.0,\n",
       " '125.74.23.163-60.247.99.136': 0.0,\n",
       " '42.101.79.20-219.142.91.186': 0.0,\n",
       " '183.66.107.126-219.142.91.113': 0.0,\n",
       " '49.71.73.122-115.223.7.201': 0.0,\n",
       " '113.62.126.138-219.142.91.186': 0.0,\n",
       " '111.27.126.90-117.131.126.141': 0.013157894736842105,\n",
       " '113.62.126.138-60.247.99.91': 0.0,\n",
       " '113.62.126.138-60.247.99.56': 0.0,\n",
       " '36.156.38.108-117.131.49.177': 0.0,\n",
       " '36.104.136.183-60.247.99.136': 0.0,\n",
       " '60.13.100.48-140.206.54.71': 0.0,\n",
       " '112.81.238.118-58.246.164.177': 0.0,\n",
       " '182.96.95.83-180.169.80.55': 0.0,\n",
       " '60.221.209.103-211.95.81.196': 0.0,\n",
       " '61.164.117.143-61.129.111.44': 0.0,\n",
       " '36.147.17.79-117.184.126.13': 0.0,\n",
       " '36.147.17.79-117.184.126.16': 0.0,\n",
       " '61.164.117.143-122.228.17.11': 0.0,\n",
       " '113.207.0.11-123.127.121.186': 0.0,\n",
       " '116.131.160.141-211.95.81.196': 0.007194244604316547,\n",
       " '116.131.160.141-101.28.252.16': 0.0,\n",
       " '42.49.116.141-116.162.181.144': 0.0,\n",
       " '36.147.17.79-117.131.49.177': 0.0,\n",
       " '123.103.115.81-180.169.80.76': 0.0,\n",
       " '36.147.17.79-120.204.111.44': 0.0,\n",
       " '123.103.115.81-103.254.191.34': 0.0,\n",
       " '113.6.77.12-114.255.206.166': 0.0,\n",
       " '61.242.183.130-58.246.164.177': 0.007042253521126761,\n",
       " '60.221.209.103-124.167.217.13': 0.0,\n",
       " '113.24.194.115-60.247.99.50': 0.0,\n",
       " '123.103.115.81-60.247.99.91': 0.0,\n",
       " '123.103.115.81-60.247.99.136': 0.0,\n",
       " '113.24.194.115-60.247.99.136': 0.0,\n",
       " '123.103.115.81-219.142.91.83': 0.0,\n",
       " '111.19.227.144-117.131.49.151': 0.0,\n",
       " '113.6.77.12-202.99.30.221': 0.0,\n",
       " '117.145.179.251-218.205.188.16': 0.0,\n",
       " '218.60.20.99-111.200.33.56': 0.0,\n",
       " '218.60.20.99-123.127.121.116': 0.0,\n",
       " '218.60.20.99-202.108.88.19': 0.0,\n",
       " '101.227.98.94-61.129.111.47': 0.0,\n",
       " '36.136.93.64-117.184.126.13': 0.006896551724137931,\n",
       " '106.3.215.12-211.95.81.48': 0.014598540145985401,\n",
       " '218.60.20.99-140.206.54.93': 0.0,\n",
       " '183.66.107.126-60.247.99.50': 0.0,\n",
       " '223.86.68.104-117.184.157.7': 0.0,\n",
       " '116.178.68.198-114.255.206.166': 0.0,\n",
       " '180.95.228.155-140.206.54.93': 0.0,\n",
       " '36.156.38.108-120.204.111.44': 0.0,\n",
       " '36.156.38.108-39.170.86.48': 0.0,\n",
       " '36.156.38.108-223.111.13.147': 0.0,\n",
       " '116.178.68.198-202.108.88.19': 0.0,\n",
       " '113.207.0.11-140.206.54.93': 0.006993006993006993,\n",
       " '113.207.0.11-14.205.40.182': 0.003472222222222222,\n",
       " '117.180.226.17-39.155.173.20': 0.0,\n",
       " '112.81.238.118-118.212.74.159': 0.0,\n",
       " '112.67.249.81-61.129.111.44': 0.0,\n",
       " '61.164.117.143-61.180.32.112': 0.0,\n",
       " '182.91.255.63-211.95.81.48': 0.0,\n",
       " '36.104.136.183-60.247.99.50': 0.0,\n",
       " '123.244.41.72-60.247.99.56': 0.0,\n",
       " '113.24.194.115-61.129.111.66': 0.006493506493506494,\n",
       " '123.125.10.50-123.127.121.116': 0.0,\n",
       " '42.81.152.37-124.236.25.236': 0.0,\n",
       " '183.201.236.121-117.161.202.123': 0.0,\n",
       " '61.164.117.143-61.129.111.47': 0.0,\n",
       " '111.29.28.159-117.184.157.7': 0.0,\n",
       " '183.201.236.121-39.155.173.26': 0.0,\n",
       " '112.29.202.106-112.17.30.232': 0.0,\n",
       " '113.201.239.228-211.95.81.196': 0.0,\n",
       " '111.31.114.94-222.35.77.123': 0.0,\n",
       " '59.80.43.51-113.207.4.13': 0.0,\n",
       " '116.172.75.50-123.127.121.116': 0.0,\n",
       " '116.172.75.50-202.99.30.221': 0.0,\n",
       " '111.19.227.144-39.155.173.20': 0.0,\n",
       " '116.172.75.50-211.95.81.196': 0.007575757575757576,\n",
       " '116.172.75.50-111.200.33.56': 0.0070921985815602835,\n",
       " '117.145.179.251-39.155.173.26': 0.0,\n",
       " '222.246.138.134-61.129.111.47': 0.0,\n",
       " '36.136.93.64-117.131.49.177': 0.013793103448275862,\n",
       " '112.50.111.66-117.184.157.10': 0.0,\n",
       " '112.50.111.66-117.184.126.13': 0.0,\n",
       " '218.60.20.99-211.95.81.196': 0.0,\n",
       " '61.132.231.90-180.169.119.69': 0.0,\n",
       " '42.101.79.20-219.142.91.113': 0.0,\n",
       " '117.149.145.89-223.111.13.147': 0.0,\n",
       " '36.104.136.183-219.142.91.83': 0.0,\n",
       " '111.161.116.140-124.167.217.13': 0.0,\n",
       " '222.218.186.60-180.169.119.62': 0.0,\n",
       " '221.180.208.131-218.205.182.38': 0.0,\n",
       " '111.161.116.140-123.127.121.56': 0.0,\n",
       " '111.132.37.134-111.132.38.197': 0.003472222222222222,\n",
       " '218.95.139.6-180.169.80.76': 0.013245033112582781,\n",
       " '49.71.73.122-180.169.80.58': 0.0,\n",
       " '222.218.186.60-116.236.244.251': 0.0,\n",
       " '218.95.139.6-60.247.99.50': 0.0,\n",
       " '113.62.126.138-219.142.91.113': 0.0,\n",
       " '36.156.38.108-117.184.157.10': 0.0,\n",
       " '36.156.38.108-183.216.189.61': 0.0,\n",
       " '36.156.38.108-117.184.157.7': 0.0,\n",
       " '42.81.152.37-180.169.80.76': 0.0,\n",
       " '117.187.214.237-117.184.126.16': 0.0,\n",
       " '222.132.143.148-124.134.127.17': 0.0,\n",
       " '36.147.17.79-120.204.111.141': 0.007575757575757576,\n",
       " '42.101.79.20-219.142.91.146': 0.0,\n",
       " '222.132.143.148-118.212.74.98': 0.0,\n",
       " '111.22.49.94-117.184.126.13': 0.0,\n",
       " '223.113.216.104-117.131.49.177': 0.007692307692307693,\n",
       " '112.48.167.83-117.184.157.10': 0.0,\n",
       " '218.60.20.99-139.215.227.112': 0.0,\n",
       " '218.60.20.99-123.127.121.56': 0.0,\n",
       " '125.74.23.163-219.142.91.146': 0.0,\n",
       " '117.149.145.89-183.216.189.61': 0.0,\n",
       " '36.104.136.183-180.169.80.76': 0.0,\n",
       " '112.81.238.118-211.95.81.51': 0.0,\n",
       " '49.71.73.122-180.169.119.69': 0.0,\n",
       " '36.99.184.121-60.247.99.56': 0.0,\n",
       " '36.99.184.121-219.142.91.186': 0.0,\n",
       " '103.254.188.26-219.142.91.146': 0.0,\n",
       " '113.62.126.138-61.129.111.66': 1.0,\n",
       " '103.254.188.26-103.254.189.29': 0.0,\n",
       " '112.67.249.81-222.79.78.178': 0.0,\n",
       " '113.207.0.11-202.99.30.221': 0.0,\n",
       " '116.131.160.141-123.127.121.186': 0.0,\n",
       " '116.131.160.141-123.127.121.56': 0.0,\n",
       " '222.218.186.60-180.169.80.58': 0.0,\n",
       " '60.221.209.103-111.200.33.56': 0.0,\n",
       " '222.218.186.60-150.138.104.37': 0.0,\n",
       " '123.103.115.81-60.247.99.56': 0.0,\n",
       " '36.250.86.42-140.206.54.68': 0.0,\n",
       " '221.178.32.205-117.184.157.95': 0.0,\n",
       " '116.172.75.50-123.127.121.56': 0.0,\n",
       " '112.48.167.83-117.184.126.13': 0.0,\n",
       " '120.221.66.167-218.205.182.40': 0.0,\n",
       " '221.180.208.131-117.184.157.95': 0.0,\n",
       " '112.81.238.118-112.64.230.51': 0.0,\n",
       " '221.180.208.131-39.155.173.20': 0.0,\n",
       " '111.161.116.140-211.95.81.196': 0.0,\n",
       " '111.132.37.134-183.201.234.75': 0.0,\n",
       " '111.27.126.90-111.42.180.222': 0.0,\n",
       " '103.254.188.26-219.142.91.83': 0.0,\n",
       " '113.194.59.163-211.95.81.48': 0.0,\n",
       " '123.125.10.50-111.200.33.56': 0.0,\n",
       " '101.227.98.94-45.124.125.17': 0.0,\n",
       " '222.218.186.60-61.129.111.47': 0.0,\n",
       " '113.142.165.143-202.99.30.221': 0.0,\n",
       " '111.12.180.126-39.155.173.26': 0.0,\n",
       " '121.57.82.55-60.247.99.56': 0.0,\n",
       " '183.201.236.121-218.205.182.40': 0.0,\n",
       " '113.6.77.12-140.206.54.93': 0.007575757575757576,\n",
       " '121.57.82.55-103.254.191.194': 0.0,\n",
       " '121.57.82.55-219.142.91.146': 0.0,\n",
       " '222.246.138.134-61.129.111.44': 0.0,\n",
       " '120.221.66.167-117.131.126.141': 0.0,\n",
       " '112.81.238.118-140.206.54.68': 0.0,\n",
       " '61.163.109.145-114.255.206.166': 0.0,\n",
       " '36.156.38.108-117.149.139.184': 0.0,\n",
       " '36.156.38.108-117.184.126.13': 0.0,\n",
       " '103.254.188.26-180.169.80.76': 0.006369426751592357,\n",
       " '180.95.228.155-111.200.33.56': 0.0,\n",
       " '113.207.0.11-123.127.121.21': 0.0,\n",
       " '113.207.0.11-59.80.43.60': 0.0,\n",
       " '124.236.25.233-219.142.91.146': 0.0,\n",
       " '183.201.236.121-117.184.157.95': 0.0070921985815602835,\n",
       " '42.81.152.37-60.247.99.56': 0.0,\n",
       " '123.125.10.50-123.127.121.186': 0.0,\n",
       " '61.132.231.90-58.220.70.58': 0.0,\n",
       " '222.132.143.148-123.127.121.116': 0.0,\n",
       " '123.244.41.72-219.142.91.186': 0.0,\n",
       " '59.80.43.51-140.206.54.68': 0.0,\n",
       " '182.96.95.83-116.236.244.251': 0.006622516556291391,\n",
       " '182.96.95.83-182.106.174.225': 0.0,\n",
       " '61.242.183.130-140.206.54.68': 0.0,\n",
       " '117.187.214.237-120.204.111.141': 0.0,\n",
       " '61.242.183.130-140.206.54.71': 0.0,\n",
       " '113.24.194.115-219.142.91.186': 0.0,\n",
       " '111.132.37.134-117.131.49.177': 0.008,\n",
       " '116.131.160.141-202.108.88.19': 0.0,\n",
       " '123.244.41.72-60.247.99.91': 0.0,\n",
       " '59.80.43.51-140.206.54.71': 0.0,\n",
       " '182.96.95.83-180.169.80.58': 0.0,\n",
       " '182.96.95.83-61.180.32.113': 0.0,\n",
       " '118.213.93.172-60.247.99.91': 0.0,\n",
       " '60.221.209.103-222.163.80.181': 0.0,\n",
       " '110.188.68.204-61.129.111.44': 0.0,\n",
       " '111.12.180.126-218.205.182.40': 0.0,\n",
       " '117.145.179.251-117.184.157.95': 0.0,\n",
       " '112.50.111.66-117.184.126.16': 0.0,\n",
       " '117.149.145.89-223.111.198.87': 0.0,\n",
       " '36.104.136.183-60.247.99.91': 0.0,\n",
       " '221.180.208.131-117.131.126.141': 0.0,\n",
       " '112.81.238.118-211.95.81.48': 0.0,\n",
       " '113.201.239.228-123.127.121.116': 0.0,\n",
       " '111.132.37.134-117.184.157.7': 0.0,\n",
       " '61.163.109.145-123.127.121.186': 0.0,\n",
       " '218.95.139.6-219.142.91.186': 0.0,\n",
       " '111.19.227.144-117.184.157.95': 0.0,\n",
       " '111.31.114.94-117.161.202.123': 0.0,\n",
       " '111.29.28.159-120.204.111.141': 0.0,\n",
       " '123.103.115.81-124.236.25.236': 0.0,\n",
       " '182.96.95.83-180.169.119.141': 0.0,\n",
       " '61.242.183.130-211.95.81.48': 0.0,\n",
       " '61.242.183.130-211.95.81.51': 0.0,\n",
       " '101.227.98.94-61.129.111.44': 0.0,\n",
       " '49.71.73.122-116.236.244.251': 0.014388489208633094,\n",
       " '49.71.73.122-180.169.80.55': 0.0,\n",
       " '218.60.20.86-202.99.30.221': 0.0,\n",
       " '42.157.197.76-121.12.91.109': 0.0,\n",
       " '125.74.23.163-61.129.111.66': 0.014388489208633094,\n",
       " '60.221.209.103-123.127.121.116': 0.0,\n",
       " '222.132.143.148-112.240.60.102': 0.0,\n",
       " '42.101.79.20-60.247.99.50': 0.0,\n",
       " '211.95.52.190-112.64.230.141': 0.0,\n",
       " '111.47.221.239-117.184.157.7': 0.0,\n",
       " '111.132.37.134-117.184.126.16': 0.008333333333333333,\n",
       " '36.99.184.121-61.129.111.66': 0.0,\n",
       " '150.138.105.143-150.138.105.27': 0.0,\n",
       " '218.60.20.86-111.200.33.56': 0.0,\n",
       " '180.95.228.155-123.127.121.186': 0.0,\n",
       " '218.60.20.86-114.255.206.166': 0.0,\n",
       " '111.31.114.94-183.242.79.12': 0.0,\n",
       " '123.125.10.50-60.221.184.11': 0.0,\n",
       " '123.103.115.81-219.142.91.113': 0.0,\n",
       " '42.243.147.52-61.129.111.44': 0.0,\n",
       " '113.207.0.11-123.127.121.56': 0.0,\n",
       " '125.74.23.163-60.247.99.91': 0.0,\n",
       " '180.95.228.155-202.99.30.221': 0.0,\n",
       " '113.207.0.11-123.127.121.116': 0.0,\n",
       " '119.6.234.51-211.95.81.48': 0.0,\n",
       " '116.131.160.141-140.206.54.93': 0.0,\n",
       " '118.213.93.172-219.142.91.113': 0.0,\n",
       " '61.242.183.130-112.64.230.141': 0.0,\n",
       " '123.103.115.81-219.142.91.146': 0.006944444444444444,\n",
       " '110.188.68.204-61.129.111.47': 0.0,\n",
       " '183.66.107.126-119.84.87.18': 0.0,\n",
       " '111.132.37.134-117.184.126.13': 0.008064516129032258,\n",
       " '123.244.41.72-219.142.91.146': 0.0,\n",
       " '112.50.111.66-117.131.49.177': 0.0,\n",
       " '113.62.126.138-60.247.99.50': 0.0,\n",
       " '222.218.186.60-180.169.119.141': 0.007518796992481203,\n",
       " '103.254.188.26-219.142.91.186': 0.0,\n",
       " '112.67.249.81-27.152.189.96': 0.0,\n",
       " '61.132.231.90-180.169.80.55': 0.0,\n",
       " '111.174.13.139-116.236.244.251': 0.017094017094017096,\n",
       " '59.80.43.51-112.64.230.51': 0.0,\n",
       " '123.103.115.81-61.129.111.66': 0.0,\n",
       " '113.6.77.12-111.200.33.56': 0.0,\n",
       " '49.71.73.122-49.79.233.100': 0.0,\n",
       " '49.71.73.122-106.225.224.118': 0.0,\n",
       " '113.125.206.78-218.63.8.120': 0.0,\n",
       " '125.74.23.163-60.247.99.50': 0.0,\n",
       " '106.74.11.79-140.206.54.93': 0.0,\n",
       " '36.156.38.108-120.204.111.141': 0.007751937984496124,\n",
       " '36.156.38.108-117.184.126.16': 0.0,\n",
       " '36.156.38.108-117.131.49.151': 0.0,\n",
       " '36.156.38.108-112.17.30.232': 0.0,\n",
       " '112.48.167.83-120.204.111.141': 0.006944444444444444,\n",
       " '120.221.66.167-223.111.13.147': 0.0,\n",
       " '59.80.43.51-58.246.164.177': 0.01639344262295082,\n",
       " '59.80.43.51-211.95.81.51': 0.0,\n",
       " '101.227.98.94-116.236.244.251': 0.0,\n",
       " '112.29.202.106-223.111.17.145': 0.007936507936507936,\n",
       " '36.156.38.108-120.221.23.14': 0.0,\n",
       " '27.152.188.101-222.79.76.102': 0.0,\n",
       " '27.152.188.101-180.169.119.62': 0.0,\n",
       " ...}"
      ]
     },
     "execution_count": 36,
     "metadata": {},
     "output_type": "execute_result"
    }
   ],
   "source": [
    "data.calFailedRate()"
   ]
  },
  {
   "cell_type": "code",
   "execution_count": 45,
   "id": "naughty-burning",
   "metadata": {},
   "outputs": [],
   "source": [
    "from tomography import mcmc\n",
    "# 收敛步数\n",
    "m = 100\n",
    "# 迭代步数\n",
    "n = 1000\n",
    "proposal_dist = mcmc.ProposalDistribution()\n",
    "accepted_dist = mcmc.AcceptedDistribution()\n",
    "MCMC = mcmc.MetropolisHastings(statusCnt, proposal_dist, accepted_dist,m,n)"
   ]
  },
  {
   "cell_type": "code",
   "execution_count": 46,
   "id": "weird-peripheral",
   "metadata": {},
   "outputs": [
    {
     "name": "stderr",
     "output_type": "stream",
     "text": [
      "  0%|          | 0/1000 [00:00<?, ?it/s]/root/jupyter_space/icbc/project/tomography/mcmc.py:200: RuntimeWarning: overflow encountered in double_scalars\n",
      "  alpha *= (xj_prime/x[j])**measures[pair][0]\n",
      "100%|██████████| 1000/1000 [02:02<00:00,  8.15it/s]\n"
     ]
    }
   ],
   "source": [
    "# 随机游走\n",
    "samples = MCMC.solve()"
   ]
  },
  {
   "cell_type": "code",
   "execution_count": 47,
   "id": "increased-stations",
   "metadata": {},
   "outputs": [
    {
     "data": {
      "text/plain": [
       "[(0.0062102978404611035, '219.151.33.128/26'),\n",
       " (0.6415515985413124, '106.128.0.0/10'),\n",
       " (0.65781840334566, '27.85.230.0/24'),\n",
       " (0.6614655190241714, '62.0.0.0/8'),\n",
       " (0.661523591452097, '27.86.46.0/24'),\n",
       " (0.6622290284630432, '27.85.227.0/24'),\n",
       " (0.6640468601677889, '27.85.136.0/24'),\n",
       " (0.6737788831428934, '218.30.48.0/20'),\n",
       " (0.7254853302261306, '61.40.0.0/14'),\n",
       " (0.7315201214580282, '111.236.0.0/14')]"
      ]
     },
     "execution_count": 47,
     "metadata": {},
     "output_type": "execute_result"
    }
   ],
   "source": [
    "MCMC.topK(samples,k=10)\n",
    "# [(0.0062102978404611035, '219.151.33.128/26'),\n",
    "#  (0.6415515985413124, '106.128.0.0/10'),\n",
    "#  (0.65781840334566, '27.85.230.0/24'),\n",
    "#  (0.6614655190241714, '62.0.0.0/8'),\n",
    "#  (0.661523591452097, '27.86.46.0/24'),\n",
    "#  (0.6622290284630432, '27.85.227.0/24'),\n",
    "#  (0.6640468601677889, '27.85.136.0/24'),\n",
    "#  (0.6737788831428934, '218.30.48.0/20'),\n",
    "#  (0.7254853302261306, '61.40.0.0/14'),\n",
    "#  (0.7315201214580282, '111.236.0.0/14')]"
   ]
  },
  {
   "cell_type": "code",
   "execution_count": 48,
   "id": "separate-blood",
   "metadata": {},
   "outputs": [
    {
     "data": {
      "image/png": "[encoded data removed]",
      "text/plain": [
       "<Figure size 432x288 with 1 Axes>"
      ]
     },
     "metadata": {
      "needs_background": "light"
     },
     "output_type": "display_data"
    }
   ],
   "source": [
    "MCMC.visualize(samples)"
   ]
  },
  {
   "cell_type": "code",
   "execution_count": 83,
   "id": "industrial-volunteer",
   "metadata": {},
   "outputs": [],
   "source": [
    "pathFR = data.calFailedRate()"
   ]
  },
  {
   "cell_type": "code",
   "execution_count": 84,
   "id": "incomplete-cathedral",
   "metadata": {
    "scrolled": true
   },
   "outputs": [
    {
     "name": "stdout",
     "output_type": "stream",
     "text": [
      "{'118.213.93.172-218.95.139.32': 0.0, '221.178.32.205-117.131.126.141': 0.006944444444444444, '221.178.32.205-218.205.182.40': 0.0, '221.178.32.205-223.86.68.122': 0.0, '113.24.194.115-60.247.99.91': 0.0, '113.24.194.115-113.24.195.103': 0.0008680555555555555, '113.24.194.115-219.142.91.146': 0.0, '111.47.221.239-120.204.111.44': 0.0, '113.201.239.228-113.201.242.22': 0.0, '111.47.221.239-120.226.55.11': 0.0, '112.67.249.81-180.169.119.141': 0.0, '111.161.116.140-111.200.33.56': 0.0, '111.161.116.140-111.161.123.186': 0.0, '117.156.244.206-111.12.223.168': 0.0, '111.161.116.140-111.161.123.176': 0.0, '49.71.73.122-58.220.73.193': 0.0, '113.201.239.228-114.255.206.166': 0.0, '117.156.244.206-117.131.49.151': 0.0, '111.161.116.140-114.255.206.166': 0.0, '111.47.221.239-117.131.49.177': 0.0, '111.47.221.239-117.184.126.16': 0.0, '111.47.221.239-117.131.49.151': 0.0, '49.71.73.122-180.169.119.62': 0.0, '36.99.184.121-223.151.245.72': 0.0, '113.201.239.228-202.108.88.19': 0.0, '180.95.228.155-180.95.228.254': 0.0, '42.157.197.76-202.99.30.221': 0.0, '36.99.184.121-219.142.91.83': 0.0, '125.77.139.20-61.129.111.44': 0.0, '42.243.147.52-119.84.87.107': 0.0, '211.142.197.29-111.6.241.2': 0.00099601593625498, '211.142.197.29-218.205.188.16': 0.0, '103.254.188.26-60.247.99.50': 0.0, '36.99.184.121-113.240.70.141': 0.0, '116.178.68.198-116.178.68.149': 0.0, '113.62.126.138-60.247.99.136': 0.0, '113.62.126.138-218.95.139.31': 0.0010141987829614604, '111.132.37.134-120.204.111.141': 0.018518518518518517, '111.132.37.134-111.62.90.176': 0.005376344086021506, '111.132.37.134-111.31.17.174': 0.0, '111.132.37.134-117.131.49.151': 0.0, '111.27.126.90-39.155.173.20': 0.007194244604316547, '111.27.126.90-218.205.182.38': 0.0, '60.13.100.48-60.13.100.64': 0.0008680555555555555, '218.95.139.6-219.142.91.113': 0.0, '103.254.188.26-60.247.99.136': 0.0, '218.95.139.6-219.142.91.146': 0.0, '218.95.139.6-60.247.99.56': 0.0, '113.62.126.138-180.169.80.76': 1.0, '103.254.188.26-60.247.99.56': 0.0, '103.254.188.26-124.236.25.236': 0.0, '120.240.97.95-117.131.49.177': 0.0, '120.240.97.95-120.204.111.44': 0.0, '120.240.97.95-117.131.49.151': 0.0, '111.132.37.134-117.184.157.10': 0.0, '111.27.126.90-111.27.127.43': 0.0, '120.240.97.95-120.240.100.161': 0.0, '42.243.147.52-118.112.241.103': 0.0, '42.243.147.52-180.169.80.55': 0.0, '60.13.100.48-112.64.230.51': 0.0, '113.207.0.11-113.207.4.13': 0.0, '112.67.249.81-117.27.241.13': 0.0, '36.99.184.121-180.169.80.76': 0.0, '36.99.184.121-219.142.91.113': 0.0, '36.99.184.121-219.142.91.146': 0.0, '113.125.206.78-218.63.8.88': 0.0, '218.95.139.6-218.95.139.31': 0.0, '218.95.139.6-117.33.164.240': 0.0, '182.91.255.63-182.91.255.13': 0.0008680555555555555, '61.163.109.145-140.206.54.93': 0.0, '211.142.197.29-117.131.126.141': 0.0, '211.142.197.29-39.155.173.20': 0.0, '61.163.109.145-202.99.30.221': 0.0, '211.142.197.29-218.205.182.38': 0.0, '61.163.109.145-218.29.49.118': 0.0034904013961605585, '61.163.109.145-219.157.114.23': 0.0, '61.163.109.145-202.108.88.19': 0.0, '211.142.197.29-117.131.49.151': 0.0, '182.91.255.63-140.206.54.71': 0.0, '103.254.188.26-60.247.99.91': 0.0, '120.240.97.95-117.184.157.10': 0.0, '125.77.139.20-180.169.119.69': 0.0, '125.77.139.20-222.79.76.102': 0.0, '125.77.139.20-222.79.66.78': 0.0, '125.77.139.20-117.27.241.153': 0.0, '120.240.97.95-117.184.157.7': 0.0, '116.178.68.198-123.127.121.186': 0.0, '116.178.68.198-202.99.30.221': 0.0, '112.67.249.81-180.169.119.62': 0.0, '150.138.105.143-202.108.88.19': 0.0, '182.91.255.63-58.246.164.177': 0.006756756756756757, '60.13.100.48-140.206.54.68': 0.0, '111.42.84.72-117.131.49.151': 0.0, '111.42.84.72-117.184.157.95': 0.0, '111.27.126.90-117.131.49.151': 0.0, '36.99.184.121-124.232.174.223': 0.0, '111.42.84.72-218.205.188.16': 0.0, '60.13.100.48-58.246.164.177': 0.0, '218.60.20.86-123.127.121.186': 0.0, '113.201.239.228-123.127.121.21': 0.0, '119.6.234.51-112.64.230.51': 0.0, '113.207.0.11-202.108.88.19': 0.0, '183.214.0.163-211.142.197.65': 0.0, '61.164.117.143-182.106.174.225': 0.0, '61.164.117.143-122.228.17.102': 0.0, '112.67.249.81-180.169.80.58': 0.0, '113.194.59.163-211.95.81.51': 0.0, '113.194.59.163-118.212.74.98': 0.0, '111.29.28.159-112.47.27.20': 0.0008680555555555555, '61.164.117.143-58.220.70.58': 0.0, '124.236.25.233-180.169.80.76': 0.006622516556291391, '124.236.25.233-219.142.91.186': 0.0, '124.236.25.233-103.254.189.29': 0.0, '117.180.226.17-117.131.49.151': 0.0, '116.131.160.141-110.242.21.37': 0.0, '111.174.13.139-111.174.8.178': 0.0, '111.42.84.72-111.43.178.191': 0.0, '150.138.105.143-150.138.104.37': 0.0, '119.6.234.51-113.207.4.13': 0.0, '116.131.160.141-111.200.33.56': 0.0, '116.131.160.141-221.193.246.133': 0.0, '116.131.160.141-202.99.30.221': 0.0, '113.201.239.228-116.177.234.57': 0.0, '119.6.234.51-14.205.40.182': 0.0, '113.125.206.78-116.236.244.251': 0.0, '113.125.206.78-180.169.119.69': 0.0, '119.6.234.51-112.64.230.61': 0.0, '113.125.206.78-61.129.111.44': 0.0, '112.67.249.81-180.169.119.69': 0.0, '111.42.84.72-111.27.127.43': 0.0, '111.31.114.94-39.155.173.20': 0.0, '113.194.59.163-58.246.164.177': 0.006993006993006993, '116.131.160.141-114.255.206.166': 0.0, '113.125.206.78-180.169.119.62': 0.0, '111.42.84.72-218.205.182.38': 0.0, '113.142.165.143-118.213.93.199': 0.0, '221.178.32.205-117.131.49.151': 0.0, '42.49.116.141-112.64.230.61': 0.0, '117.180.226.17-111.51.75.108': 0.0, '117.180.226.17-39.155.173.26': 0.0, '124.236.25.233-219.142.91.83': 0.0, '42.49.116.141-110.53.72.36': 0.002967359050445104, '182.96.95.83-61.129.111.44': 0.0, '150.138.105.143-115.223.7.201': 0.0, '113.194.59.163-112.64.230.61': 0.0, '113.194.59.163-118.212.74.159': 0.001375515818431912, '112.29.202.106-120.204.111.141': 0.0, '117.180.226.17-111.19.227.153': 0.0, '111.31.114.94-111.6.241.2': 0.0, '42.49.116.141-112.64.230.51': 0.0, '112.29.202.106-223.111.139.100': 0.0, '42.157.197.76-103.126.1.226': 0.0, '42.101.79.20-219.142.91.83': 0.0, '125.74.23.163-219.142.91.186': 0.0, '125.74.23.163-118.213.93.199': 0.0, '42.81.152.37-60.247.99.50': 0.0, '42.81.152.37-60.247.99.91': 0.0, '42.81.152.37-103.254.188.51': 0.0, '42.157.197.76-14.29.116.16': 0.0, '42.157.197.76-121.12.91.108': 0.0, '42.101.79.20-60.247.99.136': 0.0, '42.81.152.37-60.247.99.136': 0.007246376811594203, '42.81.152.37-113.24.195.103': 0.0, '111.22.49.94-111.7.109.55': 0.0, '125.74.23.163-180.169.80.76': 0.0, '118.213.93.172-218.95.139.31': 0.0, '42.81.152.37-42.81.147.86': 0.0, '42.49.116.141-110.52.56.139': 0.0033783783783783786, '42.49.116.141-211.95.81.48': 0.0, '118.213.93.172-60.247.99.50': 0.006535947712418301, '183.201.236.121-218.205.182.38': 0.0, '60.221.209.103-114.255.206.166': 0.0, '60.221.209.103-123.127.121.186': 0.0, '60.221.209.103-123.127.121.21': 0.0, '60.221.209.103-111.161.123.186': 0.0, '60.221.209.103-60.221.184.11': 0.0, '111.22.49.94-120.204.111.44': 0.0, '111.22.49.94-111.6.241.2': 0.0, '111.22.49.94-211.142.197.65': 0.0, '110.188.68.204-180.169.80.55': 0.0, '121.57.82.55-60.247.99.91': 0.0, '121.57.82.55-27.152.189.96': 0.0, '222.132.143.148-211.95.81.196': 0.0, '222.132.143.148-123.127.121.186': 0.0, '222.132.143.148-202.99.30.221': 0.0, '222.132.143.148-112.81.238.245': 0.0, '222.132.143.148-118.212.74.159': 0.0, '222.132.143.148-123.127.121.56': 0.0, '36.136.93.64-36.136.93.3': 0.0, '36.136.93.64-120.240.100.161': 0.0, '36.250.86.42-211.95.81.48': 0.0, '36.136.93.64-117.131.49.151': 0.0, '36.250.86.42-112.64.230.51': 0.0, '110.188.68.204-27.148.154.14': 0.003472222222222222, '118.213.93.172-60.247.99.136': 0.0, '121.57.82.55-219.142.91.83': 0.0, '221.178.32.205-39.155.173.20': 0.0, '221.178.32.205-218.205.182.38': 0.0, '36.250.86.42-112.64.230.61': 0.0, '42.101.79.20-123.184.58.198': 0.0, '111.19.227.144-218.205.182.40': 0.0, '111.19.227.144-218.205.182.38': 0.0, '111.19.227.144-111.19.227.153': 0.0, '123.125.10.50-221.193.246.133': 0.0, '111.22.49.94-117.184.157.10': 0.0, '111.22.49.94-117.131.49.151': 0.0, '180.130.108.149-14.205.40.182': 0.0, '111.22.49.94-117.184.157.7': 0.0, '118.213.93.172-180.169.80.76': 0.006802721088435374, '118.213.93.172-219.142.91.83': 0.0, '223.113.216.104-120.221.23.14': 0.006666666666666667, '180.130.108.149-112.64.230.141': 0.013605442176870748, '117.187.214.237-111.10.29.157': 0.0, '113.6.77.12-113.8.150.120': 0.0, '223.113.216.104-120.204.111.141': 0.006329113924050633, '223.113.216.104-117.184.126.13': 0.0, '111.31.114.94-218.205.182.38': 0.0, '180.130.108.149-180.130.108.15': 0.0, '113.194.59.163-112.64.230.51': 0.0, '111.31.114.94-39.155.173.26': 0.0, '180.130.108.149-112.64.230.51': 0.0, '112.48.167.83-117.131.49.177': 0.0, '112.48.167.83-120.204.111.44': 0.0, '112.48.167.83-117.131.49.151': 0.0, '42.243.147.52-180.169.119.141': 0.0, '42.243.147.52-61.129.111.47': 0.0, '42.243.147.52-180.169.119.69': 0.0, '42.243.147.52-118.123.235.47': 0.0, '42.243.147.52-218.63.8.120': 0.0, '42.243.147.52-183.66.107.44': 0.0, '42.243.147.52-180.169.119.62': 0.0, '112.50.111.66-112.47.27.20': 0.0009025270758122744, '222.246.138.134-116.236.244.251': 0.0, '222.246.138.134-113.240.70.141': 0.0033783783783783786, '222.246.138.134-180.169.80.55': 0.0, '183.216.189.8-117.131.49.151': 0.0, '111.6.241.196-111.6.241.2': 0.0, '106.3.215.12-140.206.239.45': 0.018050541516245487, '120.221.66.167-223.111.139.100': 0.0, '36.136.93.64-117.184.157.7': 0.0, '106.3.215.12-58.246.164.177': 0.028985507246376812, '106.3.215.12-140.206.54.68': 0.0, '183.66.107.126-61.129.111.66': 0.0, '211.95.52.190-118.212.74.159': 0.0, '211.95.52.190-112.64.230.51': 0.0, '117.180.226.17-218.205.182.38': 0.0, '117.180.226.17-117.184.157.95': 0.0, '183.66.107.126-219.142.91.186': 0.0, '183.66.107.126-60.247.99.91': 0.0, '183.66.107.126-218.63.8.88': 0.0, '183.66.107.126-60.247.99.136': 0.0, '183.66.107.126-219.142.91.83': 0.0, '211.95.52.190-112.64.230.61': 0.0, '211.95.52.190-140.206.54.68': 0.0, '117.149.145.89-117.131.49.177': 0.0, '211.95.52.190-58.246.164.177': 0.0, '211.95.52.190-211.95.81.51': 0.0, '117.149.145.89-117.184.126.16': 0.0, '117.149.145.89-120.204.111.44': 0.0, '117.149.145.89-223.111.139.100': 0.0, '117.149.145.89-112.15.3.28': 0.0, '117.149.145.89-36.156.38.147': 0.0, '117.149.145.89-117.131.49.151': 0.0, '117.149.145.89-223.111.17.145': 0.0, '221.180.208.131-221.180.208.159': 0.0013123359580052493, '36.104.136.183-61.129.111.66': 0.0, '111.161.116.140-123.127.121.21': 0.0, '111.161.116.140-111.202.83.90': 0.0, '211.95.52.190-118.212.74.98': 0.001669449081803005, '183.66.107.126-119.84.87.107': 0.0, '183.66.107.126-183.66.110.217': 0.0, '117.156.244.206-111.51.75.108': 0.005952380952380952, '106.74.11.79-123.127.121.116': 0.0, '221.180.208.131-39.155.173.26': 0.0, '36.104.136.183-60.247.99.56': 0.0, '221.180.208.131-117.131.49.151': 0.0, '117.187.214.237-120.204.111.44': 0.0, '117.187.214.237-117.184.157.7': 0.0, '106.74.11.79-123.127.121.56': 0.0, '180.95.228.155-116.177.234.57': 0.0, '125.77.139.20-180.169.119.62': 0.0, '61.163.109.145-125.44.105.19': 0.0, '113.62.126.138-219.142.91.83': 0.0, '61.163.109.145-123.127.121.116': 0.0, '36.99.184.121-36.99.198.133': 0.0, '116.178.68.198-140.206.54.93': 0.0, '113.62.126.138-219.142.91.146': 0.0, '218.95.139.6-60.247.99.91': 0.0, '116.178.68.198-123.127.121.116': 0.0, '112.67.249.81-117.27.241.153': 0.0, '113.125.206.78-119.84.87.107': 0.0, '211.142.197.29-117.184.157.95': 0.0, '211.142.197.29-218.205.182.40': 0.0, '218.95.139.6-218.95.139.32': 0.0018050541516245488, '36.104.136.183-219.142.91.146': 0.0, '182.91.255.63-211.95.81.51': 0.0, '36.104.136.183-42.101.79.17': 0.0, '103.254.188.26-61.129.111.66': 0.0, '103.254.188.26-219.142.91.113': 0.0, '103.254.188.26-103.254.191.194': 0.0, '103.254.188.26-103.254.191.34': 0.0, '103.254.188.26-103.254.188.51': 0.0, '125.77.139.20-180.169.80.58': 0.0, '125.77.139.20-27.148.141.126': 0.0, '116.178.68.198-123.127.121.21': 0.0, '116.178.68.198-123.127.121.56': 0.0, '112.67.249.81-222.79.76.102': 0.0, '60.13.100.48-211.95.81.48': 0.0, '111.42.84.72-39.155.173.20': 0.0, '111.29.28.159-120.204.111.44': 0.0, '111.42.84.72-39.155.173.26': 0.0, '113.207.0.11-211.95.81.196': 0.006896551724137931, '218.60.20.86-139.215.227.112': 0.0, '111.42.84.72-221.180.208.159': 0.0, '112.67.249.81-112.67.249.76': 0.0, '112.67.249.81-180.169.80.55': 0.0, '112.81.238.118-112.240.60.102': 0.0, '218.60.20.86-202.108.88.19': 0.0, '123.125.10.50-202.108.88.19': 0.0, '60.13.100.48-112.64.230.61': 0.0, '36.104.136.183-123.184.58.198': 0.0, '36.104.136.183-36.104.136.191': 0.0016666666666666668, '182.91.255.63-112.64.230.61': 0.0, '111.174.13.139-124.232.174.223': 0.0, '111.174.13.139-61.129.111.44': 0.0, '111.174.13.139-180.169.119.62': 0.0, '123.125.10.50-111.202.83.90': 0.002564102564102564, '113.207.0.11-114.255.206.166': 0.0, '113.125.206.78-180.169.119.141': 0.006756756756756757, '113.125.206.78-180.169.80.58': 0.0, '113.125.206.78-119.84.87.18': 0.0, '113.125.206.78-180.169.80.55': 0.0, '36.104.136.183-219.142.91.186': 0.0, '113.125.206.78-183.66.110.217': 0.0, '123.244.41.72-219.142.91.83': 0.0, '61.132.231.90-61.132.231.40': 0.0, '123.125.10.50-140.206.54.93': 0.0, '113.201.239.228-123.127.121.186': 0.0, '124.236.25.233-60.247.99.136': 0.0, '113.24.194.115-219.142.91.83': 0.0, '112.29.202.106-111.12.223.168': 0.0, '113.142.165.143-117.33.164.240': 0.0, '112.29.202.106-117.184.126.13': 0.0, '112.29.202.106-117.131.49.151': 0.0, '111.12.180.126-218.205.182.38': 0.0, '113.194.59.163-140.206.54.68': 0.0, '123.103.115.81-60.247.99.50': 0.0, '101.227.98.94-180.169.119.141': 0.006329113924050633, '111.174.13.139-61.129.111.47': 0.0, '111.29.28.159-117.184.126.13': 0.0, '111.174.13.139-223.151.245.72': 0.0, '119.6.234.51-58.246.164.177': 0.0, '119.6.234.51-140.206.54.71': 0.0, '61.132.231.90-180.169.80.58': 0.0, '61.132.231.90-58.220.73.193': 0.0, '61.132.231.90-61.129.111.44': 0.0, '218.60.20.86-211.95.81.196': 0.0, '42.101.79.20-61.129.111.66': 0.006666666666666667, '222.218.186.60-27.152.189.96': 0.0, '123.103.115.81-103.254.188.51': 0.0, '123.244.41.72-61.129.111.66': 0.007246376811594203, '222.218.186.60-180.169.80.55': 0.0, '123.244.41.72-123.184.58.198': 0.0, '111.174.13.139-180.169.119.141': 0.005847953216374269, '111.29.28.159-117.131.49.177': 0.0, '125.74.23.163-117.33.164.240': 0.0, '222.132.143.148-113.194.58.133': 0.0, '222.132.143.148-114.255.206.166': 0.0, '42.49.116.141-58.246.164.177': 0.0, '112.29.202.106-120.204.111.44': 0.0, '123.103.115.81-103.254.191.194': 0.0070921985815602835, '113.142.165.143-103.126.1.226': 0.0, '123.244.41.72-36.104.136.191': 0.0, '59.80.43.51-180.130.108.15': 0.0, '59.80.43.51-59.80.43.60': 0.00196078431372549, '59.80.43.51-211.95.81.48': 0.0, '59.80.43.51-119.6.234.42': 0.0, '61.242.183.130-110.52.56.139': 0.0026845637583892616, '112.29.202.106-223.111.198.87': 0.0, '111.12.180.126-117.184.157.95': 0.0, '42.81.152.37-219.142.91.113': 0.0, '182.96.95.83-106.225.224.118': 0.0, '123.244.41.72-60.247.99.136': 0.0, '116.172.75.50-114.255.206.166': 0.0, '61.242.183.130-112.64.230.51': 0.0, '182.96.95.83-180.169.119.62': 0.0, '111.29.28.159-117.131.49.151': 0.0, '111.31.114.94-117.131.126.141': 0.0, '111.31.114.94-111.62.90.170': 0.0, '111.31.114.94-117.131.49.151': 0.0, '182.96.95.83-61.180.32.112': 0.0, '111.12.180.126-111.12.223.168': 0.0, '117.187.214.237-117.131.49.177': 0.0, '117.187.214.237-221.178.32.218': 0.0, '111.31.114.94-183.201.234.75': 0.0, '116.172.75.50-123.127.121.21': 0.0, '116.172.75.50-180.95.228.254': 0.0017241379310344827, '116.172.75.50-116.177.234.57': 0.0, '222.132.143.148-123.127.121.21': 0.0, '222.132.143.148-202.108.88.19': 0.0, '36.136.93.64-112.47.27.20': 0.006944444444444444, '116.172.75.50-43.242.167.132': 0.0, '112.29.202.106-117.184.126.16': 0.0, '113.24.194.115-219.142.91.113': 0.0, '111.62.172.60-111.62.90.170': 0.0, '123.125.10.50-106.74.11.40': 0.0, '116.172.75.50-140.206.54.93': 0.0, '110.188.68.204-180.169.119.69': 0.0, '101.227.98.94-180.169.119.69': 0.0, '110.188.68.204-180.169.119.62': 0.0, '116.172.75.50-123.127.121.186': 0.0, '116.172.75.50-202.108.88.19': 0.0, '183.201.236.121-39.155.173.20': 0.0, '36.250.86.42-36.249.126.203': 0.0, '111.22.49.94-120.204.111.141': 0.00684931506849315, '113.6.77.12-123.127.121.186': 0.0, '113.6.77.12-123.127.121.21': 0.0, '113.6.77.12-122.142.16.162': 0.0, '118.213.93.172-60.247.99.56': 0.0, '223.113.216.104-39.170.86.48': 0.07567567567567568, '113.6.77.12-123.127.121.56': 0.0, '113.6.77.12-211.95.81.196': 0.0, '36.250.86.42-112.64.230.141': 0.0, '223.113.216.104-117.184.157.10': 0.0, '223.113.216.104-117.184.157.7': 0.0, '180.130.108.149-211.95.81.48': 0.0, '121.57.82.55-180.169.80.76': 0.0, '183.216.189.8-112.15.3.28': 0.0, '120.221.66.167-223.111.17.145': 0.0, '101.227.98.94-180.169.80.58': 0.0, '113.142.165.143-218.95.139.32': 0.0, '223.86.68.104-117.131.49.177': 0.0, '223.86.68.104-117.184.126.16': 0.0, '223.86.68.104-120.204.111.44': 0.0, '223.86.68.104-221.178.32.218': 0.0035971223021582736, '223.86.68.104-111.10.29.157': 0.0, '223.86.68.104-117.184.126.13': 0.0, '223.86.68.104-117.131.49.151': 0.0, '111.47.221.239-120.226.49.245': 0.0034662045060658577, '112.67.249.81-116.236.244.251': 0.007194244604316547, '111.161.116.140-123.127.121.186': 0.0, '111.161.116.140-106.74.11.40': 0.0, '49.71.73.122-58.220.70.58': 0.0, '106.74.11.79-202.108.88.19': 0.0, '111.161.116.140-202.108.88.19': 0.0, '111.47.221.239-211.142.197.65': 0.00684931506849315, '49.71.73.122-61.129.111.44': 0.0, '113.201.239.228-123.127.121.56': 0.0, '111.132.37.134-120.204.111.44': 0.0, '111.27.126.90-117.184.157.95': 0.0, '125.77.139.20-180.169.80.55': 0.0, '36.99.184.121-60.247.99.50': 0.0, '211.142.197.29-39.155.173.26': 0.0, '116.178.68.198-211.95.81.196': 0.007042253521126761, '111.27.126.90-218.205.182.40': 0.0, '111.27.126.90-218.205.188.16': 0.0, '120.240.97.95-120.204.111.141': 0.007462686567164179, '36.99.184.121-60.247.99.136': 0.0, '113.125.206.78-183.66.107.44': 0.0, '120.240.97.95-111.29.28.12': 0.0, '180.95.228.155-211.95.81.196': 0.0, '180.95.228.155-123.127.121.21': 0.0, '180.95.228.155-113.201.242.22': 0.0, '180.95.228.155-123.127.121.56': 0.0, '113.194.59.163-140.206.54.71': 0.0, '61.164.117.143-115.223.11.3': 0.0, '111.19.227.144-117.131.126.141': 0.0, '112.81.238.118-112.64.230.141': 0.006802721088435374, '112.81.238.118-112.64.230.61': 0.0, '112.81.238.118-222.132.143.158': 0.0, '112.81.238.118-112.81.238.245': 0.0, '112.81.238.118-113.194.58.133': 0.0, '123.125.10.50-123.127.121.56': 0.0, '113.125.206.78-61.129.111.47': 0.0, '36.147.17.79-117.131.49.151': 0.0, '182.91.255.63-140.206.54.68': 0.0, '182.91.255.63-112.64.230.51': 0.0, '119.6.234.51-59.80.43.60': 0.0, '61.132.231.90-122.228.17.11': 0.0, '119.6.234.51-119.6.234.42': 0.0021691973969631237, '119.6.234.51-140.206.54.68': 0.0, '113.24.194.115-180.169.80.76': 0.007462686567164179, '123.125.10.50-114.255.206.166': 0.0, '124.236.25.233-60.247.99.56': 0.0, '42.157.197.76-121.12.91.107': 0.0, '183.201.236.121-117.131.49.151': 0.0, '42.49.116.141-116.162.189.41': 0.0, '36.147.17.79-36.147.17.81': 0.0008680555555555555, '36.147.17.79-117.184.157.7': 0.0, '119.6.234.51-112.64.230.141': 0.007246376811594203, '111.31.114.94-36.156.38.147': 0.0, '42.49.116.141-140.206.54.71': 0.0, '42.49.116.141-112.64.230.141': 0.006666666666666667, '123.244.41.72-219.142.91.113': 0.0, '42.81.152.37-219.142.91.186': 0.0, '111.12.180.126-111.51.75.108': 0.0, '111.12.180.126-218.205.188.16': 0.0, '112.48.167.83-117.184.126.16': 0.0, '112.48.167.83-112.47.27.20': 0.0, '112.48.167.83-117.184.157.7': 0.006289308176100629, '121.57.82.55-219.142.91.186': 0.0, '121.57.82.55-60.247.99.136': 0.0, '180.130.108.149-140.206.54.71': 0.0, '180.130.108.149-112.64.230.61': 0.0, '223.113.216.104-120.204.111.44': 0.0, '223.113.216.104-183.216.189.61': 0.0, '223.113.216.104-117.131.49.151': 0.0, '117.145.179.251-218.205.182.40': 0.0, '117.145.179.251-218.205.182.38': 0.0, '222.246.138.134-180.169.119.69': 0.0, '111.31.114.94-218.205.188.16': 0.0, '42.243.147.52-116.236.244.251': 0.012903225806451613, '42.243.147.52-180.169.80.58': 0.0, '183.216.189.8-112.17.30.232': 0.0, '117.145.179.251-221.181.52.87': 0.0014005602240896359, '117.145.179.251-117.131.49.151': 0.0, '183.216.189.8-120.204.111.44': 0.0, '222.246.138.134-180.169.80.58': 0.0, '222.246.138.134-124.232.174.223': 0.0017857142857142857, '120.221.66.167-112.17.30.232': 0.0, '120.221.66.167-223.111.198.87': 0.0, '120.221.66.167-117.131.49.151': 0.0, '101.227.98.94-58.220.73.196': 0.0, '112.50.111.66-120.204.111.141': 0.006802721088435374, '117.184.37.79-117.184.157.7': 0.0, '111.174.13.139-180.169.119.69': 0.0, '120.221.66.167-117.184.157.95': 0.0, '120.221.66.167-39.155.173.20': 0.0, '120.221.66.167-218.205.182.38': 0.0, '120.221.66.167-39.155.173.26': 0.0, '112.50.111.66-120.204.111.44': 0.0, '42.101.79.20-42.101.79.17': 0.003401360544217687, '211.95.52.190-211.95.81.48': 0.0, '211.95.52.190-140.206.54.71': 0.0, '125.74.23.163-60.247.99.56': 0.0, '117.149.145.89-120.221.23.14': 0.0, '61.242.183.130-112.64.230.61': 0.0, '61.242.183.130-61.242.183.196': 0.0, '211.95.52.190-113.194.58.133': 0.0, '150.138.105.143-202.99.30.221': 0.0, '59.80.43.51-112.64.230.61': 0.0, '211.142.197.29-211.142.197.65': 0.0, '111.132.37.134-117.161.202.123': 0.0, '125.77.139.20-180.169.119.141': 0.0, '116.178.68.198-111.200.33.56': 0.0, '125.77.139.20-27.152.189.96': 0.0, '110.188.68.204-116.236.244.251': 0.013071895424836602, '182.91.255.63-112.64.230.141': 0.0, '124.236.25.233-124.236.25.236': 0.0, '150.138.105.143-103.126.1.226': 0.0, '60.13.100.48-112.64.230.141': 0.0, '180.95.228.155-123.127.121.116': 0.0, '117.180.226.17-218.205.182.40': 0.0, '61.164.117.143-115.223.7.201': 0.0, '112.67.249.81-61.129.111.47': 0.0, '61.132.231.90-116.236.244.251': 0.013422818791946308, '60.13.100.48-211.95.81.51': 0.0, '124.236.25.233-61.129.111.66': 0.007352941176470588, '124.236.25.233-60.247.99.91': 0.0, '111.19.227.144-39.155.173.26': 0.0, '111.174.13.139-113.240.70.141': 0.0, '111.174.13.139-180.169.80.55': 0.0, '123.125.10.50-211.95.81.196': 0.0072992700729927005, '117.180.226.17-218.205.188.16': 0.0, '112.29.202.106-117.184.157.7': 0.0, '113.24.194.115-60.247.99.56': 0.0, '123.103.115.81-219.142.91.186': 0.0, '112.29.202.106-117.131.49.177': 0.006622516556291391, '60.221.209.103-140.206.54.93': 0.0, '61.164.117.143-180.169.80.55': 0.0, '218.60.20.86-140.206.54.93': 0.0078125, '42.101.79.20-180.169.80.76': 0.0, '36.147.17.79-117.184.157.10': 0.0, '112.29.202.106-120.221.23.14': 0.0, '113.201.239.228-140.206.54.93': 0.0, '221.178.32.205-111.10.29.157': 0.003472222222222222, '221.178.32.205-39.155.173.26': 0.0, '123.244.41.72-180.169.80.76': 0.0, '42.49.116.141-211.95.81.51': 0.0, '113.142.165.143-218.95.139.31': 0.0, '113.142.165.143-202.108.88.19': 0.0, '123.244.41.72-60.247.99.50': 0.0, '111.12.180.126-117.131.126.141': 0.0, '182.96.95.83-61.129.111.47': 0.0, '182.96.95.83-180.169.119.69': 0.0, '42.81.152.37-42.81.61.39': 0.0, '182.96.95.83-182.106.175.12': 0.0, '113.6.77.12-123.127.121.116': 0.0, '118.213.93.172-219.142.91.186': 0.0, '111.12.180.126-39.155.173.20': 0.0, '222.132.143.148-111.200.33.56': 0.0, '222.132.143.148-222.132.143.158': 0.0, '110.188.68.204-180.169.80.58': 0.0, '223.113.216.104-223.111.13.147': 0.006211180124223602, '113.6.77.12-202.108.88.19': 0.0, '121.57.82.55-42.81.147.86': 0.0, '223.113.216.104-117.184.126.16': 0.0, '117.145.179.251-117.131.126.141': 0.0, '117.145.179.251-39.155.173.20': 0.0, '117.145.179.251-117.145.179.15': 0.0, '36.136.93.64-117.184.126.16': 0.0, '183.216.189.8-223.111.17.145': 0.0, '183.216.189.8-183.216.189.61': 0.0, '42.101.79.20-36.104.136.191': 0.003472222222222222, '120.221.66.167-120.221.23.14': 0.0024390243902439024, '120.221.66.167-218.205.188.16': 0.0, '183.66.107.126-180.169.80.76': 0.0, '42.101.79.20-60.247.99.91': 0.0, '106.3.215.12-112.64.230.61': 0.013888888888888888, '106.3.215.12-112.64.230.51': 0.020833333333333332, '117.180.226.17-117.131.126.141': 0.0, '183.66.107.126-219.142.91.146': 0.0, '183.66.107.126-118.123.235.47': 0.0, '125.74.23.163-219.142.91.83': 0.0, '117.149.145.89-117.184.157.10': 0.0, '112.81.238.118-140.206.54.71': 0.0, '36.104.136.183-219.142.91.113': 0.0, '125.74.23.163-219.142.91.113': 0.0, '111.161.116.140-140.206.54.93': 0.0, '117.187.214.237-117.184.126.13': 0.0, '111.47.221.239-117.184.157.10': 0.0, '111.132.37.134-111.62.90.170': 0.0, '111.27.126.90-39.155.173.26': 0.0, '218.95.139.6-60.247.99.136': 0.0, '218.95.139.6-219.142.91.83': 0.0, '61.163.109.145-211.95.81.196': 0.0, '111.42.84.72-117.131.126.141': 0.007407407407407408, '180.95.228.155-114.255.206.166': 0.0, '180.95.228.155-202.108.88.19': 0.0, '111.19.227.144-218.205.188.16': 0.0, '61.132.231.90-180.169.119.141': 0.007194244604316547, '112.81.238.118-118.212.74.98': 0.0, '111.42.84.72-111.42.180.222': 0.0, '113.201.239.228-180.95.228.254': 0.0, '119.6.234.51-180.130.108.15': 0.0, '61.132.231.90-180.169.119.62': 0.0, '113.201.239.228-111.200.33.56': 0.0, '61.164.117.143-116.236.244.251': 0.0, '61.164.117.143-180.169.119.69': 0.0, '61.164.117.143-180.169.119.62': 0.0, '113.207.0.11-111.200.33.56': 0.0, '42.101.79.20-60.247.99.56': 0.0, '112.29.202.106-223.111.13.147': 0.009174311926605505, '36.250.86.42-58.246.164.177': 0.0, '36.250.86.42-140.206.54.71': 0.0, '121.57.82.55-60.247.99.50': 0.0, '36.136.93.64-183.240.117.188': 0.0, '180.130.108.149-211.95.81.51': 0.0, '121.57.82.55-61.129.111.66': 0.0, '36.136.93.64-117.184.157.10': 0.0, '42.243.147.52-218.63.8.88': 0.0, '42.243.147.52-183.66.110.217': 0.0, '36.136.93.64-120.204.111.141': 0.013986013986013986, '36.136.93.64-120.204.111.44': 0.0, '106.3.215.12-112.64.230.141': 0.006666666666666667, '106.3.215.12-211.95.81.51': 0.006756756756756757, '106.3.215.12-112.81.238.245': 0.023411371237458192, '117.149.145.89-117.184.157.7': 0.0, '111.12.180.126-117.131.49.151': 0.0, '120.221.66.167-183.216.189.61': 0.0, '183.66.107.126-60.247.99.56': 0.0, '117.149.145.89-120.204.111.141': 0.006666666666666667, '223.86.68.104-120.204.111.141': 0.0, '223.86.68.104-117.184.157.10': 0.0, '223.86.68.104-36.147.17.81': 0.0, '111.161.116.140-60.221.184.11': 0.0, '183.66.107.126-183.66.107.44': 0.0, '49.71.73.122-180.169.119.141': 0.0, '49.71.73.122-58.220.70.56': 0.0, '111.47.221.239-120.204.111.141': 0.0, '218.95.139.6-61.129.111.66': 0.014598540145985401, '111.47.221.239-117.184.126.13': 0.0, '113.62.126.138-113.62.123.16': 0.0, '59.80.43.51-112.64.230.141': 0.024390243902439025, '111.27.126.90-111.43.178.191': 0.0, '36.99.184.121-60.247.99.91': 0.0, '61.163.109.145-123.127.121.21': 0.0, '61.163.109.145-123.127.121.56': 0.0, '103.254.188.26-42.81.61.39': 0.0, '125.77.139.20-116.236.244.251': 0.0, '125.77.139.20-61.129.111.47': 0.0, '125.77.139.20-222.79.78.178': 0.0, '110.188.68.204-180.169.119.141': 0.0, '218.60.20.86-123.127.121.56': 0.0, '124.236.25.233-60.247.99.50': 0.0, '124.236.25.233-219.142.91.113': 0.0, '116.131.160.141-123.127.121.21': 0.0, '61.132.231.90-122.228.17.102': 0.0, '111.31.114.94-218.205.182.40': 0.0, '116.131.160.141-123.127.121.116': 0.0, '113.194.59.163-112.64.230.141': 0.0, '42.157.197.76-121.12.91.94': 0.0, '183.201.236.121-117.131.126.141': 0.0, '42.81.152.37-61.129.111.66': 0.0, '42.81.152.37-219.142.91.83': 0.0, '111.174.13.139-180.169.80.58': 0.0, '101.227.98.94-101.227.98.207': 0.0, '61.164.117.143-180.169.119.141': 0.006578947368421052, '61.164.117.143-180.169.80.58': 0.0, '61.132.231.90-61.129.111.47': 0.0, '119.6.234.51-211.95.81.51': 0.0, '123.103.115.81-42.81.61.39': 0.0, '183.201.236.121-111.62.90.170': 0.002793296089385475, '183.201.236.121-218.205.188.16': 0.0, '222.218.186.60-61.129.111.44': 0.0, '221.178.32.205-218.205.188.16': 0.0, '117.187.214.237-117.184.157.10': 0.0, '123.103.115.81-103.254.189.29': 0.0, '42.81.152.37-219.142.91.146': 0.0, '111.31.114.94-117.184.157.95': 0.0, '111.29.28.159-117.184.157.10': 0.0, '42.49.116.141-140.206.54.68': 0.0, '60.221.209.103-202.108.88.19': 0.0, '222.218.186.60-180.169.119.69': 0.0, '121.57.82.55-219.142.91.113': 0.0, '222.132.143.148-140.206.54.93': 0.007246376811594203, '112.29.202.106-117.184.157.10': 0.0, '118.213.93.172-219.142.91.146': 0.0, '111.22.49.94-117.184.126.16': 0.0, '111.22.49.94-117.131.49.177': 0.007042253521126761, '118.213.93.172-61.129.111.66': 0.0, '113.6.77.12-139.215.227.112': 0.0, '223.113.216.104-117.149.139.184': 0.0, '180.130.108.149-58.246.164.177': 0.0070921985815602835, '223.113.216.104-112.17.30.232': 0.0, '36.250.86.42-211.95.81.51': 0.0, '101.227.98.94-180.169.80.55': 0.0, '101.227.98.94-180.169.119.62': 0.0, '222.246.138.134-180.169.119.141': 0.007194244604316547, '222.246.138.134-180.169.119.62': 0.0, '112.50.111.66-117.184.157.7': 0.0, '111.32.130.195-111.62.90.170': 0.006944444444444444, '117.184.37.79-117.184.126.13': 0.0, '106.3.215.12-140.206.54.71': 0.03571428571428571, '117.149.145.89-117.184.126.13': 0.0, '125.74.23.163-60.247.99.136': 0.0, '42.101.79.20-219.142.91.186': 0.0, '183.66.107.126-219.142.91.113': 0.0, '49.71.73.122-115.223.7.201': 0.0, '113.62.126.138-219.142.91.186': 0.0, '111.27.126.90-117.131.126.141': 0.013157894736842105, '113.62.126.138-60.247.99.91': 0.0, '113.62.126.138-60.247.99.56': 0.0, '36.156.38.108-117.131.49.177': 0.0, '36.104.136.183-60.247.99.136': 0.0, '60.13.100.48-140.206.54.71': 0.0, '112.81.238.118-58.246.164.177': 0.0, '182.96.95.83-180.169.80.55': 0.0, '60.221.209.103-211.95.81.196': 0.0, '61.164.117.143-61.129.111.44': 0.0, '36.147.17.79-117.184.126.13': 0.0, '36.147.17.79-117.184.126.16': 0.0, '61.164.117.143-122.228.17.11': 0.0, '113.207.0.11-123.127.121.186': 0.0, '116.131.160.141-211.95.81.196': 0.007194244604316547, '116.131.160.141-101.28.252.16': 0.0, '42.49.116.141-116.162.181.144': 0.0, '36.147.17.79-117.131.49.177': 0.0, '123.103.115.81-180.169.80.76': 0.0, '36.147.17.79-120.204.111.44': 0.0, '123.103.115.81-103.254.191.34': 0.0, '113.6.77.12-114.255.206.166': 0.0, '61.242.183.130-58.246.164.177': 0.007042253521126761, '60.221.209.103-124.167.217.13': 0.0, '113.24.194.115-60.247.99.50': 0.0, '123.103.115.81-60.247.99.91': 0.0, '123.103.115.81-60.247.99.136': 0.0, '113.24.194.115-60.247.99.136': 0.0, '123.103.115.81-219.142.91.83': 0.0, '111.19.227.144-117.131.49.151': 0.0, '113.6.77.12-202.99.30.221': 0.0, '117.145.179.251-218.205.188.16': 0.0, '218.60.20.99-111.200.33.56': 0.0, '218.60.20.99-123.127.121.116': 0.0, '218.60.20.99-202.108.88.19': 0.0, '101.227.98.94-61.129.111.47': 0.0, '36.136.93.64-117.184.126.13': 0.006896551724137931, '106.3.215.12-211.95.81.48': 0.014598540145985401, '218.60.20.99-140.206.54.93': 0.0, '183.66.107.126-60.247.99.50': 0.0, '223.86.68.104-117.184.157.7': 0.0, '116.178.68.198-114.255.206.166': 0.0, '180.95.228.155-140.206.54.93': 0.0, '36.156.38.108-120.204.111.44': 0.0, '36.156.38.108-39.170.86.48': 0.0, '36.156.38.108-223.111.13.147': 0.0, '116.178.68.198-202.108.88.19': 0.0, '113.207.0.11-140.206.54.93': 0.006993006993006993, '113.207.0.11-14.205.40.182': 0.003472222222222222, '117.180.226.17-39.155.173.20': 0.0, '112.81.238.118-118.212.74.159': 0.0, '112.67.249.81-61.129.111.44': 0.0, '61.164.117.143-61.180.32.112': 0.0, '182.91.255.63-211.95.81.48': 0.0, '36.104.136.183-60.247.99.50': 0.0, '123.244.41.72-60.247.99.56': 0.0, '113.24.194.115-61.129.111.66': 0.006493506493506494, '123.125.10.50-123.127.121.116': 0.0, '42.81.152.37-124.236.25.236': 0.0, '183.201.236.121-117.161.202.123': 0.0, '61.164.117.143-61.129.111.47': 0.0, '111.29.28.159-117.184.157.7': 0.0, '183.201.236.121-39.155.173.26': 0.0, '112.29.202.106-112.17.30.232': 0.0, '113.201.239.228-211.95.81.196': 0.0, '111.31.114.94-222.35.77.123': 0.0, '59.80.43.51-113.207.4.13': 0.0, '116.172.75.50-123.127.121.116': 0.0, '116.172.75.50-202.99.30.221': 0.0, '111.19.227.144-39.155.173.20': 0.0, '116.172.75.50-211.95.81.196': 0.007575757575757576, '116.172.75.50-111.200.33.56': 0.0070921985815602835, '117.145.179.251-39.155.173.26': 0.0, '222.246.138.134-61.129.111.47': 0.0, '36.136.93.64-117.131.49.177': 0.013793103448275862, '112.50.111.66-117.184.157.10': 0.0, '112.50.111.66-117.184.126.13': 0.0, '218.60.20.99-211.95.81.196': 0.0, '61.132.231.90-180.169.119.69': 0.0, '42.101.79.20-219.142.91.113': 0.0, '117.149.145.89-223.111.13.147': 0.0, '36.104.136.183-219.142.91.83': 0.0, '111.161.116.140-124.167.217.13': 0.0, '222.218.186.60-180.169.119.62': 0.0, '221.180.208.131-218.205.182.38': 0.0, '111.161.116.140-123.127.121.56': 0.0, '111.132.37.134-111.132.38.197': 0.003472222222222222, '218.95.139.6-180.169.80.76': 0.013245033112582781, '49.71.73.122-180.169.80.58': 0.0, '222.218.186.60-116.236.244.251': 0.0, '218.95.139.6-60.247.99.50': 0.0, '113.62.126.138-219.142.91.113': 0.0, '36.156.38.108-117.184.157.10': 0.0, '36.156.38.108-183.216.189.61': 0.0, '36.156.38.108-117.184.157.7': 0.0, '42.81.152.37-180.169.80.76': 0.0, '117.187.214.237-117.184.126.16': 0.0, '222.132.143.148-124.134.127.17': 0.0, '36.147.17.79-120.204.111.141': 0.007575757575757576, '42.101.79.20-219.142.91.146': 0.0, '222.132.143.148-118.212.74.98': 0.0, '111.22.49.94-117.184.126.13': 0.0, '223.113.216.104-117.131.49.177': 0.007692307692307693, '112.48.167.83-117.184.157.10': 0.0, '218.60.20.99-139.215.227.112': 0.0, '218.60.20.99-123.127.121.56': 0.0, '125.74.23.163-219.142.91.146': 0.0, '117.149.145.89-183.216.189.61': 0.0, '36.104.136.183-180.169.80.76': 0.0, '112.81.238.118-211.95.81.51': 0.0, '49.71.73.122-180.169.119.69': 0.0, '36.99.184.121-60.247.99.56': 0.0, '36.99.184.121-219.142.91.186': 0.0, '103.254.188.26-219.142.91.146': 0.0, '113.62.126.138-61.129.111.66': 1.0, '103.254.188.26-103.254.189.29': 0.0, '112.67.249.81-222.79.78.178': 0.0, '113.207.0.11-202.99.30.221': 0.0, '116.131.160.141-123.127.121.186': 0.0, '116.131.160.141-123.127.121.56': 0.0, '222.218.186.60-180.169.80.58': 0.0, '60.221.209.103-111.200.33.56': 0.0, '222.218.186.60-150.138.104.37': 0.0, '123.103.115.81-60.247.99.56': 0.0, '36.250.86.42-140.206.54.68': 0.0, '221.178.32.205-117.184.157.95': 0.0, '116.172.75.50-123.127.121.56': 0.0, '112.48.167.83-117.184.126.13': 0.0, '120.221.66.167-218.205.182.40': 0.0, '221.180.208.131-117.184.157.95': 0.0, '112.81.238.118-112.64.230.51': 0.0, '221.180.208.131-39.155.173.20': 0.0, '111.161.116.140-211.95.81.196': 0.0, '111.132.37.134-183.201.234.75': 0.0, '111.27.126.90-111.42.180.222': 0.0, '103.254.188.26-219.142.91.83': 0.0, '113.194.59.163-211.95.81.48': 0.0, '123.125.10.50-111.200.33.56': 0.0, '101.227.98.94-45.124.125.17': 0.0, '222.218.186.60-61.129.111.47': 0.0, '113.142.165.143-202.99.30.221': 0.0, '111.12.180.126-39.155.173.26': 0.0, '121.57.82.55-60.247.99.56': 0.0, '183.201.236.121-218.205.182.40': 0.0, '113.6.77.12-140.206.54.93': 0.007575757575757576, '121.57.82.55-103.254.191.194': 0.0, '121.57.82.55-219.142.91.146': 0.0, '222.246.138.134-61.129.111.44': 0.0, '120.221.66.167-117.131.126.141': 0.0, '112.81.238.118-140.206.54.68': 0.0, '61.163.109.145-114.255.206.166': 0.0, '36.156.38.108-117.149.139.184': 0.0, '36.156.38.108-117.184.126.13': 0.0, '103.254.188.26-180.169.80.76': 0.006369426751592357, '180.95.228.155-111.200.33.56': 0.0, '113.207.0.11-123.127.121.21': 0.0, '113.207.0.11-59.80.43.60': 0.0, '124.236.25.233-219.142.91.146': 0.0, '183.201.236.121-117.184.157.95': 0.0070921985815602835, '42.81.152.37-60.247.99.56': 0.0, '123.125.10.50-123.127.121.186': 0.0, '61.132.231.90-58.220.70.58': 0.0, '222.132.143.148-123.127.121.116': 0.0, '123.244.41.72-219.142.91.186': 0.0, '59.80.43.51-140.206.54.68': 0.0, '182.96.95.83-116.236.244.251': 0.006622516556291391, '182.96.95.83-182.106.174.225': 0.0, '61.242.183.130-140.206.54.68': 0.0, '117.187.214.237-120.204.111.141': 0.0, '61.242.183.130-140.206.54.71': 0.0, '113.24.194.115-219.142.91.186': 0.0, '111.132.37.134-117.131.49.177': 0.008, '116.131.160.141-202.108.88.19': 0.0, '123.244.41.72-60.247.99.91': 0.0, '59.80.43.51-140.206.54.71': 0.0, '182.96.95.83-180.169.80.58': 0.0, '182.96.95.83-61.180.32.113': 0.0, '118.213.93.172-60.247.99.91': 0.0, '60.221.209.103-222.163.80.181': 0.0, '110.188.68.204-61.129.111.44': 0.0, '111.12.180.126-218.205.182.40': 0.0, '117.145.179.251-117.184.157.95': 0.0, '112.50.111.66-117.184.126.16': 0.0, '117.149.145.89-223.111.198.87': 0.0, '36.104.136.183-60.247.99.91': 0.0, '221.180.208.131-117.131.126.141': 0.0, '112.81.238.118-211.95.81.48': 0.0, '113.201.239.228-123.127.121.116': 0.0, '111.132.37.134-117.184.157.7': 0.0, '61.163.109.145-123.127.121.186': 0.0, '218.95.139.6-219.142.91.186': 0.0, '111.19.227.144-117.184.157.95': 0.0, '111.31.114.94-117.161.202.123': 0.0, '111.29.28.159-120.204.111.141': 0.0, '123.103.115.81-124.236.25.236': 0.0, '182.96.95.83-180.169.119.141': 0.0, '61.242.183.130-211.95.81.48': 0.0, '61.242.183.130-211.95.81.51': 0.0, '101.227.98.94-61.129.111.44': 0.0, '49.71.73.122-116.236.244.251': 0.014388489208633094, '49.71.73.122-180.169.80.55': 0.0, '218.60.20.86-202.99.30.221': 0.0, '42.157.197.76-121.12.91.109': 0.0, '125.74.23.163-61.129.111.66': 0.014388489208633094, '60.221.209.103-123.127.121.116': 0.0, '222.132.143.148-112.240.60.102': 0.0, '42.101.79.20-60.247.99.50': 0.0, '211.95.52.190-112.64.230.141': 0.0, '111.47.221.239-117.184.157.7': 0.0, '111.132.37.134-117.184.126.16': 0.008333333333333333, '36.99.184.121-61.129.111.66': 0.0, '150.138.105.143-150.138.105.27': 0.0, '218.60.20.86-111.200.33.56': 0.0, '180.95.228.155-123.127.121.186': 0.0, '218.60.20.86-114.255.206.166': 0.0, '111.31.114.94-183.242.79.12': 0.0, '123.125.10.50-60.221.184.11': 0.0, '123.103.115.81-219.142.91.113': 0.0, '42.243.147.52-61.129.111.44': 0.0, '113.207.0.11-123.127.121.56': 0.0, '125.74.23.163-60.247.99.91': 0.0, '180.95.228.155-202.99.30.221': 0.0, '113.207.0.11-123.127.121.116': 0.0, '119.6.234.51-211.95.81.48': 0.0, '116.131.160.141-140.206.54.93': 0.0, '118.213.93.172-219.142.91.113': 0.0, '61.242.183.130-112.64.230.141': 0.0, '123.103.115.81-219.142.91.146': 0.006944444444444444, '110.188.68.204-61.129.111.47': 0.0, '183.66.107.126-119.84.87.18': 0.0, '111.132.37.134-117.184.126.13': 0.008064516129032258, '123.244.41.72-219.142.91.146': 0.0, '112.50.111.66-117.131.49.177': 0.0, '113.62.126.138-60.247.99.50': 0.0, '222.218.186.60-180.169.119.141': 0.007518796992481203, '103.254.188.26-219.142.91.186': 0.0, '112.67.249.81-27.152.189.96': 0.0, '61.132.231.90-180.169.80.55': 0.0, '111.174.13.139-116.236.244.251': 0.017094017094017096, '59.80.43.51-112.64.230.51': 0.0, '123.103.115.81-61.129.111.66': 0.0, '113.6.77.12-111.200.33.56': 0.0, '49.71.73.122-49.79.233.100': 0.0, '49.71.73.122-106.225.224.118': 0.0, '113.125.206.78-218.63.8.120': 0.0, '125.74.23.163-60.247.99.50': 0.0, '106.74.11.79-140.206.54.93': 0.0, '36.156.38.108-120.204.111.141': 0.007751937984496124, '36.156.38.108-117.184.126.16': 0.0, '36.156.38.108-117.131.49.151': 0.0, '36.156.38.108-112.17.30.232': 0.0, '112.48.167.83-120.204.111.141': 0.006944444444444444, '120.221.66.167-223.111.13.147': 0.0, '59.80.43.51-58.246.164.177': 0.01639344262295082, '59.80.43.51-211.95.81.51': 0.0, '101.227.98.94-116.236.244.251': 0.0, '112.29.202.106-223.111.17.145': 0.007936507936507936, '36.156.38.108-120.221.23.14': 0.0, '27.152.188.101-222.79.76.102': 0.0, '27.152.188.101-180.169.119.62': 0.0, '27.152.188.101-180.169.119.69': 0.0, '27.152.188.101-180.169.80.55': 0.0, '122.156.238.22-113.8.150.120': 0.0, '117.157.238.233-111.51.75.108': 0.0, '117.157.238.233-117.131.49.151': 0.0, '27.152.188.101-180.169.119.141': 0.009900990099009901, '117.157.238.233-218.205.182.38': 0.0, '117.157.238.233-111.12.223.168': 0.0, '120.240.97.95-183.232.10.42': 0.0, '27.152.188.101-222.79.78.178': 0.0, '223.87.86.89-111.10.29.157': 0.0, '111.62.90.90-111.62.90.170': 0.0, '101.70.156.3-112.81.238.245': 0.0, '101.70.156.3-140.206.239.45': 0.0, '111.62.90.90-218.205.182.38': 0.0, '111.62.90.90-117.131.49.151': 0.0, '36.156.38.108-223.111.207.102': 0.0, '223.113.216.104-223.111.207.102': 0.0}\n"
     ]
    }
   ],
   "source": [
    "print(pathFR)"
   ]
  },
  {
   "cell_type": "markdown",
   "id": "faced-comedy",
   "metadata": {},
   "source": [
    "### 6. 故障原因推断"
   ]
  },
  {
   "cell_type": "code",
   "execution_count": 86,
   "id": "saved-salem",
   "metadata": {},
   "outputs": [],
   "source": [
    "\"\"\"\n",
    "[('113.62.126.138-180.169.80.76', 1669133613, 1669218813, '9', 151),\n",
    " ('113.62.126.138-61.129.111.66', 1669133014, 1669219113, '9', 137),\n",
    " ('58.241.55.24-39.170.86.48', 1669160839, 1669161444, '9', 3)]\n",
    "\"\"\"\n",
    "from causetrace import cause\n",
    "Cause = cause.Inference('113.62.126.138','180.169.80.76', 1669133613, 1669218813)"
   ]
  },
  {
   "cell_type": "code",
   "execution_count": 87,
   "id": "coral-clark",
   "metadata": {},
   "outputs": [
    {
     "data": {
      "text/plain": [
       "{'60.247.99.136': [157, 0],\n",
       " '218.95.139.31': [971, 1],\n",
       " '180.169.80.76': [0, 151],\n",
       " '219.142.91.83': [138, 0],\n",
       " '219.142.91.146': [127, 0],\n",
       " '61.129.111.104': [0, 284],\n",
       " '113.62.123.16': [164, 0],\n",
       " '219.142.91.186': [148, 0],\n",
       " '60.247.99.91': [128, 0],\n",
       " '60.247.99.56': [146, 0],\n",
       " '219.142.91.113': [156, 0],\n",
       " '61.129.111.66': [0, 134],\n",
       " '60.247.99.50': [136, 0]}"
      ]
     },
     "execution_count": 87,
     "metadata": {},
     "output_type": "execute_result"
    }
   ],
   "source": [
    "# with open(\"POLL.json\") as f:\n",
    "#     poll = json.load(f)\n",
    "from database import database\n",
    "client = database.readdata(uri=\"POLL.json\")  # uri传入参数是你的json文件地址\n",
    "poll = client.filedata()\n",
    "Cause.monitorStat(poll)\n",
    "# {'60.247.99.136': [157, 0],\n",
    "#  '218.95.139.31': [971, 1],\n",
    "#  '180.169.80.76': [0, 151],\n",
    "#  '219.142.91.83': [138, 0],\n",
    "#  '219.142.91.146': [127, 0],\n",
    "#  '61.129.111.104': [0, 284],\n",
    "#  '113.62.123.16': [164, 0],\n",
    "#  '219.142.91.186': [148, 0],\n",
    "#  '60.247.99.91': [128, 0],\n",
    "#  '60.247.99.56': [146, 0],\n",
    "#  '219.142.91.113': [156, 0],\n",
    "#  '61.129.111.66': [0, 134],\n",
    "#  '60.247.99.50': [136, 0]}"
   ]
  },
  {
   "cell_type": "code",
   "execution_count": 57,
   "id": "double-judgment",
   "metadata": {},
   "outputs": [
    {
     "data": {
      "text/plain": [
       "{'113.62.126.138': [0, 151],\n",
       " '36.99.184.121': [159, 0],\n",
       " '124.236.25.233': [149, 1],\n",
       " '125.74.23.163': [147, 0],\n",
       " '118.213.93.172': [146, 1],\n",
       " '121.57.82.55': [126, 0],\n",
       " '113.24.194.115': [130, 1],\n",
       " '42.101.79.20': [135, 0],\n",
       " '123.244.41.72': [142, 0],\n",
       " '183.66.107.126': [151, 0],\n",
       " '49.119.126.63': [143, 0],\n",
       " '123.103.115.81': [152, 0],\n",
       " '42.157.197.76': [47, 0],\n",
       " '218.95.139.6': [147, 2],\n",
       " '42.81.152.37': [125, 0],\n",
       " '113.142.165.143': [78, 0],\n",
       " '36.104.136.183': [148, 0],\n",
       " '103.254.188.26': [154, 1],\n",
       " '150.138.105.143': [49, 0],\n",
       " '120.241.232.124': [1, 0],\n",
       " '111.132.37.134': [6, 0],\n",
       " '222.218.186.60': [3, 0]}"
      ]
     },
     "execution_count": 57,
     "metadata": {},
     "output_type": "execute_result"
    }
   ],
   "source": [
    "Cause.destStat(poll)\n",
    "# {'113.62.126.138': [0, 151],\n",
    "#  '36.99.184.121': [159, 0],\n",
    "#  '124.236.25.233': [149, 1],\n",
    "#  '125.74.23.163': [147, 0],\n",
    "#  '118.213.93.172': [146, 1],\n",
    "#  '121.57.82.55': [126, 0],\n",
    "#  '113.24.194.115': [130, 1],\n",
    "#  '42.101.79.20': [135, 0],\n",
    "#  '123.244.41.72': [142, 0],\n",
    "#  '183.66.107.126': [151, 0],\n",
    "#  '49.119.126.63': [143, 0],\n",
    "#  '123.103.115.81': [152, 0],\n",
    "#  '42.157.197.76': [47, 0],\n",
    "#  '218.95.139.6': [147, 2],\n",
    "#  '42.81.152.37': [125, 0],\n",
    "#  '113.142.165.143': [78, 0],\n",
    "#  '36.104.136.183': [148, 0],\n",
    "#  '103.254.188.26': [154, 1],\n",
    "#  '150.138.105.143': [49, 0],\n",
    "#  '120.241.232.124': [1, 0],\n",
    "#  '111.132.37.134': [6, 0],\n",
    "#  '222.218.186.60': [3, 0]}"
   ]
  },
  {
   "cell_type": "code",
   "execution_count": 58,
   "id": "sustainable-modern",
   "metadata": {},
   "outputs": [
    {
     "data": {
      "text/plain": [
       "{'113.62.126.138': [0, 284],\n",
       " '150.138.105.143': [284, 0],\n",
       " '42.81.152.37': [284, 0],\n",
       " '42.101.79.20': [284, 0],\n",
       " '113.24.194.115': [284, 0],\n",
       " '42.157.197.76': [284, 0],\n",
       " '218.95.139.6': [284, 0],\n",
       " '222.218.186.60': [251, 0],\n",
       " '111.132.37.134': [284, 0],\n",
       " '124.236.25.233': [284, 0],\n",
       " '36.104.136.183': [284, 0],\n",
       " '36.99.184.121': [284, 0],\n",
       " '118.213.93.172': [284, 0],\n",
       " '121.57.82.55': [284, 0],\n",
       " '123.244.41.72': [284, 0],\n",
       " '123.103.115.81': [284, 0],\n",
       " '125.74.23.163': [284, 0],\n",
       " '113.142.165.143': [284, 0],\n",
       " '103.254.188.26': [284, 0],\n",
       " '183.66.107.126': [284, 0]}"
      ]
     },
     "execution_count": 58,
     "metadata": {},
     "output_type": "execute_result"
    }
   ],
   "source": [
    "with open(\"NMAP.json\") as f:\n",
    "    nmap = json.load(f)\n",
    "Cause.destStat(nmap, datatype=\"nmap\")"
   ]
  },
  {
   "cell_type": "code",
   "execution_count": 59,
   "id": "protected-choice",
   "metadata": {},
   "outputs": [
    {
     "name": "stderr",
     "output_type": "stream",
     "text": [
      "100%|██████████| 1000/1000 [02:02<00:00,  8.19it/s]\n"
     ]
    },
    {
     "data": {
      "text/plain": [
       "[('219.151.33.128/26', 0.006538721131941464, 0, 0),\n",
       " ('219.151.32.0/27', 0.8795563085984011, 0, 0),\n",
       " ('0.0.0.0/0', 0.9206784525296922, 0, 1),\n",
       " ('101.80.0.0/12', 0.995385110853699, 0, 0),\n",
       " ('61.152.0.0/16', 0.9963467533322933, 0, 0),\n",
       " ('113.62.0.0/15', 0.9973079594409741, 1, 1),\n",
       " ('202.97.64.0/20', 0.9981783835413384, 0, 0),\n",
       " ('172.16.0.0/12', 0.9983131440130398, 0, 0),\n",
       " ('124.74.0.0/16', 0.9987039654913871, 0, 0),\n",
       " ('202.97.96.0/19', 0.9987156252589077, 0, 0),\n",
       " ('202.97.0.0/19', 0.9988530520567478, 0, 0),\n",
       " ('202.97.80.0/20', 0.9988789202287768, 0, 0),\n",
       " ('124.31.0.0/18', 0.9991476709170913, 0, 0),\n",
       " ('172.0.0.0/8', 0.9991802883077008, 0, 0)]"
      ]
     },
     "execution_count": 59,
     "metadata": {},
     "output_type": "execute_result"
    }
   ],
   "source": [
    "Cause.tomogrphyProb([\"POLL.json\"], m=100, n=1000)\n",
    "# [('219.151.33.128/26', 0.006538721131941464, 0, 0),\n",
    "#  ('219.151.32.0/27', 0.8795563085984011, 0, 0),\n",
    "#  ('0.0.0.0/0', 0.9206784525296922, 0, 1),\n",
    "#  ('101.80.0.0/12', 0.995385110853699, 0, 0),\n",
    "#  ('61.152.0.0/16', 0.9963467533322933, 0, 0),\n",
    "#  ('113.62.0.0/15', 0.9973079594409741, 1, 1),\n",
    "#  ('202.97.64.0/20', 0.9981783835413384, 0, 0),\n",
    "#  ('172.16.0.0/12', 0.9983131440130398, 0, 0),\n",
    "#  ('124.74.0.0/16', 0.9987039654913871, 0, 0),\n",
    "#  ('202.97.96.0/19', 0.9987156252589077, 0, 0),\n",
    "#  ('202.97.0.0/19', 0.9988530520567478, 0, 0),\n",
    "#  ('202.97.80.0/20', 0.9988789202287768, 0, 0),\n",
    "#  ('124.31.0.0/18', 0.9991476709170913, 0, 0),\n",
    "#  ('172.0.0.0/8', 0.9991802883077008, 0, 0)]"
   ]
  },
  {
   "cell_type": "code",
   "execution_count": 60,
   "id": "theoretical-variance",
   "metadata": {},
   "outputs": [
    {
     "name": "stdout",
     "output_type": "stream",
     "text": [
      "mtr=Start: Wed Nov 23 00:13:47 2022\n",
      "HOST: PSxzlsdxdc138  Loss%   Snt   Last   Avg  Best  Wrst StDev\n",
      "  1.|-- 113.62.126.129  0.0%    50    0.8  22.7   0.7 188.1  42.0\n",
      "  2.|-- 172.16.0.2      0.0%    50    0.1   0.2   0.1   1.1   0.0\n",
      "  3.|-- 172.16.1.5      0.0%    50    1.5   1.5   0.8   3.4   0.3\n",
      "  4.|-- 172.16.10.62   72.0%    50    0.5   1.8   0.5  17.1   4.3\n",
      "  5.|-- 124.31.0.237    2.0%    50    3.4   2.1   1.0  11.1   1.8\n",
      "  6.|-- 219.151.32.25  38.0%    50    1.0   1.9   0.8   3.0   0.5\n",
      "  7.|-- 202.97.95.229  26.0%    50   31.8  32.1  31.7  37.2   0.9\n",
      "  8.|-- 202.97.109.245 60.0%    50   56.4  57.4  56.3  67.6   3.1\n",
      "  9.|-- 202.97.66.61   94.0%    50   64.5  62.8  62.0  64.5   1.4\n",
      " 10.|-- 101.95.89.85   42.0%    50   65.1  64.1  61.3  67.4   1.5\n",
      " 11.|-- 101.95.89.82   54.0%    50   69.6  70.3  69.5  81.4   2.4\n",
      " 12.|-- 124.74.54.174   0.0%    50   64.3  64.4  64.2  64.9   0.0\n",
      " 13.|-- ???            100.0    50    0.0   0.0   0.0   0.0   0.0\n",
      "\n",
      "mtr=Start: Wed Nov 23 00:18:48 2022\n",
      "HOST: PSxzlsdxdc138  Loss%   Snt   Last   Avg  Best  Wrst StDev\n",
      "  1.|-- 113.62.126.129  0.0%    50    2.0  28.0   0.7 190.5  47.2\n",
      "  2.|-- 172.16.0.2      0.0%    50    0.3   0.4   0.1   4.3   0.7\n",
      "  3.|-- 172.16.1.5      0.0%    50    1.1   1.5   0.7   4.8   0.6\n",
      "  4.|-- 172.16.10.62   86.0%    50    0.6   0.6   0.5   0.7   0.0\n",
      "  5.|-- 124.31.0.237   40.0%    50    2.1   3.2   1.0  17.3   3.9\n",
      "  6.|-- 219.151.32.25  32.0%    50    1.1   2.2   0.8   4.2   0.7\n",
      "  7.|-- 202.97.95.229   4.0%    50   31.8  32.4  31.8  38.2   1.2\n",
      "  8.|-- 202.97.109.245 84.0%    50   56.4  56.8  56.4  58.0   0.4\n",
      "  9.|-- 202.97.66.61   86.0%    50   61.8  61.8  61.7  62.0   0.0\n",
      " 10.|-- 101.95.89.89   28.0%    50   63.8  64.2  61.3  66.5   1.3\n",
      " 11.|-- 101.95.89.82   42.0%    50   63.2  63.9  63.2  67.8   1.1\n",
      " 12.|-- 124.74.54.174   0.0%    50   64.3  64.5  64.2  67.4   0.4\n",
      " 13.|-- ???            100.0    50    0.0   0.0   0.0   0.0   0.0\n",
      "\n",
      "mtr=Start: Wed Nov 23 00:23:50 2022\n",
      "HOST: PSxzlsdxdc138  Loss%   Snt   Last   Avg  Best  Wrst StDev\n",
      "  1.|-- 113.62.126.129  0.0%    50    0.8  21.3   0.7 158.7  37.2\n",
      "  2.|-- 172.16.0.2      0.0%    50    0.2   0.3   0.1   3.0   0.4\n",
      "  3.|-- 172.16.1.5      0.0%    50    1.3   1.7   0.8   8.6   1.1\n",
      "  4.|-- 172.16.10.62   72.0%    50    0.7   0.6   0.5   0.8   0.0\n",
      "  5.|-- 124.31.0.237    0.0%    50    1.3   2.4   0.9   7.6   2.0\n",
      "  6.|-- 219.151.32.25  42.0%    50    0.9   1.9   0.8   3.5   0.6\n",
      "  7.|-- 202.97.95.229  18.0%    50   31.9  32.0  31.7  34.2   0.4\n",
      "  8.|-- 202.97.109.245 64.0%    50   61.3  57.1  56.3  61.3   1.2\n",
      "  9.|-- 202.97.66.61   86.0%    50   64.1  63.5  61.7  70.1   3.0\n",
      " 10.|-- 101.95.89.105  20.0%    50   65.6  64.9  61.4  69.8   1.7\n",
      " 11.|-- 101.95.89.82   46.0%    50   63.6  63.8  63.2  70.3   1.4\n",
      " 12.|-- 124.74.54.174   0.0%    50   64.3  64.5  64.1  69.6   0.7\n",
      " 13.|-- ???            100.0    50    0.0   0.0   0.0   0.0   0.0\n",
      "\n"
     ]
    }
   ],
   "source": [
    "with open(\"MTR.json\") as f:\n",
    "    mtr = json.load(f)\n",
    "for t in Cause.traceInfo(mtr)[:3]:\n",
    "    print(t)"
   ]
  },
  {
   "cell_type": "code",
   "execution_count": null,
   "id": "complimentary-broadway",
   "metadata": {},
   "outputs": [],
   "source": []
  }
 ],
 "metadata": {
  "kernelspec": {
   "display_name": "Python 3",
   "language": "python",
   "name": "python3"
  },
  "language_info": {
   "codemirror_mode": {
    "name": "ipython",
    "version": 3
   },
   "file_extension": ".py",
   "mimetype": "text/x-python",
   "name": "python",
   "nbconvert_exporter": "python",
   "pygments_lexer": "ipython3",
   "version": "3.6.8"
  }
 },
 "nbformat": 4,
 "nbformat_minor": 5
}
