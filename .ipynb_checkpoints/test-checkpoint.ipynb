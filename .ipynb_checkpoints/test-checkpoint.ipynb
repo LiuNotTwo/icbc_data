{
 "cells": [
  {
   "cell_type": "code",
   "execution_count": 8,
   "id": "timely-cocktail",
   "metadata": {},
   "outputs": [],
   "source": [
    "import socket\n",
    "whoisapi = ('whois.apnic.net', 43)\n",
    "s = socket.socket(socket.AF_INET6, socket.SOCK_STREAM)\n",
    "s.connect(whoisapi)\n"
   ]
  },
  {
   "cell_type": "code",
   "execution_count": 10,
   "id": "loved-easter",
   "metadata": {},
   "outputs": [
    {
     "data": {
      "text/plain": [
       "bytearray(b\"% [whois.apnic.net]\\n% Whois data copyright terms    http://www.apnic.net/db/dbcopyright.html\\n\\n% Information related to \\'114.114.0.0 - 114.114.255.255\\'\\n\\n% Abuse contact for \\'114.114.0.0 - 114.114.255.255\\' is \\'ipas@cnnic.cn\\'\\n\\ninetnum:        114.114.0.0 - 114.114.255.255\\nnetname:        XFInfo\\ndescr:          NanJing XinFeng Information Technologies, Inc.\\ndescr:          Room 207, Building 53, XiongMao Group, No.168 LongPanZhong Road\\ndescr:          Xuanwu District, Nanjing, Jiangsu, China\\ncountry:        CN\\nadmin-c:        ZZ2094-AP\\ntech-c:         YJ1777-AP\\nabuse-c:        AC1601-AP\\nstatus:         ALLOCATED PORTABLE\\nmnt-by:         MAINT-CNNIC-AP\\nmnt-lower:      MAINT-CN-XFINFO\\nmnt-routes:     MAINT-CHINANET-JS\\nmnt-routes:     MAINT-CNCGROUP-RR\\nmnt-irt:        IRT-CNNIC-CN\\nlast-modified:  2021-06-16T01:26:58Z\\nsource:         APNIC\\n\\nirt:            IRT-CNNIC-CN\\naddress:        Beijing, China\\ne-mail:         ipas@cnnic.cn\\nabuse-mailbox:  ipas@cnnic.cn\\nadmin-c:        IP50-AP\\ntech-c:         IP50-AP\\nauth:           # Filtered\\nremarks:        Please note that CNNIC is not an ISP and is not\\nremarks:        empowered to investigate complaints of network abuse.\\nremarks:        Please contact the tech-c or admin-c of the network.\\nmnt-by:         MAINT-CNNIC-AP\\nlast-modified:  2021-06-16T01:39:57Z\\nsource:         APNIC\\n\\nrole:           ABUSE CNNICCN\\naddress:        Beijing, China\\ncountry:        ZZ\\nphone:          +000000000\\ne-mail:         ipas@cnnic.cn\\nadmin-c:        IP50-AP\\ntech-c:         IP50-AP\\nnic-hdl:        AC1601-AP\\nremarks:        Generated from irt object IRT-CNNIC-CN\\nabuse-mailbox:  ipas@cnnic.cn\\nmnt-by:         APNIC-ABUSE\\nlast-modified:  2020-05-14T11:19:01Z\\nsource:         APNIC\\n\\nperson:         Yan Jian\\nnic-hdl:        YJ1777-AP\\ne-mail:         jyan@greatbit.com\\naddress:        Room 207, Building 53, XiongMao Group, No.168 LongPanZhong Road,\\naddress:        Xuanwu District, Nanjing, Jiangsu Province, China\\nphone:          +86-25-84819393\\nfax-no:         +86-25-84819797-803\\ncountry:        CN\\nmnt-by:         MAINT-CNNIC-AP\\nlast-modified:  2010-08-06T01:54:01Z\\nsource:         APNIC\\n\\nperson:         Zhao Zhenping\\nnic-hdl:        ZZ2094-AP\\ne-mail:         ping@greatbit.com\\naddress:        Room 207, Building 53, XiongMao Group, No.168 LongPanZhong Road,\\naddress:        Xuanwu District, Nanjing, Jiangsu Province, China\\nphone:          +86-25-84819393-830\\nfax-no:         +86-25-84819797-803\\ncountry:        CN\\nmnt-by:         MAINT-CNNIC-AP\\nlast-modified:  2010-08-06T01:54:01Z\\nsource:         APNIC\\n\\n% Information related to \\'114.114.112.0/21AS4837\\'\\n\\nroute:          114.114.112.0/21\\ndescr:          China Unicom Shandong Province network\\ndescr:          Addresses from CNNIC\\ncountry:        CN\\norigin:         AS4837\\nmnt-by:         MAINT-CNCGROUP-RR\\nlast-modified:  2011-04-12T07:52:02Z\\nsource:         APNIC\\n\\n% This query was served by the APNIC Whois Service version 1.88.16 (WHOIS-AU3)\\n\\n\\n\")"
      ]
     },
     "execution_count": 10,
     "metadata": {},
     "output_type": "execute_result"
    }
   ],
   "source": [
    "ip=\"114.114.114.114\"\n",
    "s.send((ip + '\\r\\n').encode())\n",
    "result = bytearray()\n",
    "while True:\n",
    "    data = s.recv(10000)\n",
    "    if not len(data):\n",
    "        break\n",
    "    result.extend(data)\n",
    "    \n",
    "str(result)"
   ]
  },
  {
   "cell_type": "code",
   "execution_count": 1,
   "id": "central-original",
   "metadata": {},
   "outputs": [],
   "source": [
    "from cachedipinfo import fastwhois"
   ]
  },
  {
   "cell_type": "code",
   "execution_count": 2,
   "id": "engaged-sucking",
   "metadata": {},
   "outputs": [],
   "source": [
    "a = fastwhois.fastwhois()\n",
    "b = fastwhois.fastwhois()"
   ]
  },
  {
   "cell_type": "code",
   "execution_count": 3,
   "id": "authentic-judges",
   "metadata": {},
   "outputs": [
    {
     "data": {
      "text/plain": [
       "(140266330647216, 140266330647216)"
      ]
     },
     "execution_count": 3,
     "metadata": {},
     "output_type": "execute_result"
    }
   ],
   "source": [
    "id(a.localData), id(b.localData)"
   ]
  },
  {
   "cell_type": "code",
   "execution_count": 4,
   "id": "immune-issue",
   "metadata": {},
   "outputs": [
    {
     "data": {
      "text/plain": [
       "{'2402:f000:2:3001:a255:5616:4cd7:b102': {'ip_seg': '2402:f000::/32',\n",
       "  'net_name': 'CERNET2-TSINGHUA6-20080418',\n",
       "  'geo': '中国\\t北京市'},\n",
       " '183.172.53.106': {'ip_seg': '183.172.0.0/14',\n",
       "  'net_name': 'BJR-CERNET',\n",
       "  'inetnum': '183.172.0.0-183.175.255.255',\n",
       "  'geo': '北京市'},\n",
       " '8.8.8.8': {'ip_seg': '8.0.0.0/8',\n",
       "  'net_name': 'IANA-NETBLOCK-8',\n",
       "  'inetnum': '8.0.0.0-8.255.255.255',\n",
       "  'geo': '美国'},\n",
       " '2001:da8:1001:7:211:65:193:11': {'ip_seg': '',\n",
       "  'net_name': 'CNGI-CERNET2-CN-20031110',\n",
       "  'geo': '中国\\t江苏省\\t南京市'}}"
      ]
     },
     "execution_count": 4,
     "metadata": {},
     "output_type": "execute_result"
    }
   ],
   "source": [
    "a.localData"
   ]
  },
  {
   "cell_type": "code",
   "execution_count": 7,
   "id": "minimal-given",
   "metadata": {},
   "outputs": [
    {
     "data": {
      "text/plain": [
       "{'2402:f000:2:3001:a255:5616:4cd7:b102': {'ip_seg': '2402:f000::/32',\n",
       "  'net_name': 'CERNET2-TSINGHUA6-20080418',\n",
       "  'geo': '中国\\t北京市'},\n",
       " '183.172.53.106': {'ip_seg': '183.172.0.0/14',\n",
       "  'net_name': 'BJR-CERNET',\n",
       "  'inetnum': '183.172.0.0-183.175.255.255',\n",
       "  'geo': '北京市'},\n",
       " '8.8.8.8': {'ip_seg': '8.0.0.0/8',\n",
       "  'net_name': 'IANA-NETBLOCK-8',\n",
       "  'inetnum': '8.0.0.0-8.255.255.255',\n",
       "  'geo': '美国'},\n",
       " '2001:da8:1001:7:211:65:193:11': {'ip_seg': '',\n",
       "  'net_name': 'CNGI-CERNET2-CN-20031110',\n",
       "  'geo': '中国\\t江苏省\\t南京市'},\n",
       " '114.114.114.114': {'ip_seg': '114.114.112.0/21',\n",
       "  'net_name': 'XFInfo',\n",
       "  'inetnum': '114.114.0.0-114.114.255.255',\n",
       "  'geo': '江苏省南京市'}}"
      ]
     },
     "execution_count": 7,
     "metadata": {},
     "output_type": "execute_result"
    }
   ],
   "source": [
    "b.localData"
   ]
  },
  {
   "cell_type": "code",
   "execution_count": 23,
   "id": "hydraulic-drinking",
   "metadata": {},
   "outputs": [],
   "source": [
    "class A:\n",
    "    a = 1\n",
    "    def add(self):\n",
    "        self.a += 1"
   ]
  },
  {
   "cell_type": "code",
   "execution_count": 6,
   "id": "conventional-newfoundland",
   "metadata": {},
   "outputs": [
    {
     "data": {
      "text/plain": [
       "{'ip_seg': '114.114.112.0/21',\n",
       " 'net_name': 'XFInfo',\n",
       " 'inetnum': '114.114.0.0-114.114.255.255',\n",
       " 'geo': '江苏省南京市'}"
      ]
     },
     "execution_count": 6,
     "metadata": {},
     "output_type": "execute_result"
    }
   ],
   "source": [
    "a.query(\"114.114.114.114\")"
   ]
  },
  {
   "cell_type": "code",
   "execution_count": 8,
   "id": "rolled-interstate",
   "metadata": {},
   "outputs": [
    {
     "data": {
      "text/plain": [
       "{'ip_seg': '8.0.0.0/8',\n",
       " 'net_name': 'IANA-NETBLOCK-8',\n",
       " 'inetnum': '8.0.0.0-8.255.255.255',\n",
       " 'geo': '美国'}"
      ]
     },
     "execution_count": 8,
     "metadata": {},
     "output_type": "execute_result"
    }
   ],
   "source": [
    "a.query(\"8.8.8.8\")"
   ]
  },
  {
   "cell_type": "code",
   "execution_count": 3,
   "id": "furnished-worse",
   "metadata": {},
   "outputs": [
    {
     "data": {
      "text/plain": [
       "{'ip_seg': '8.0.0.0/8',\n",
       " 'net_name': 'IANA-NETBLOCK-8',\n",
       " 'inetnum': '8.0.0.0-8.255.255.255',\n",
       " 'geo': '美国'}"
      ]
     },
     "execution_count": 3,
     "metadata": {},
     "output_type": "execute_result"
    }
   ],
   "source": [
    "a.query(\"8.8.8.8\")"
   ]
  },
  {
   "cell_type": "code",
   "execution_count": 4,
   "id": "hairy-brunswick",
   "metadata": {},
   "outputs": [
    {
     "data": {
      "text/plain": [
       "{'ip_seg': '183.172.0.0/14',\n",
       " 'net_name': 'BJR-CERNET',\n",
       " 'inetnum': '183.172.0.0-183.175.255.255',\n",
       " 'geo': '北京市'}"
      ]
     },
     "execution_count": 4,
     "metadata": {},
     "output_type": "execute_result"
    }
   ],
   "source": [
    "a.query(\"183.172.53.106\")"
   ]
  },
  {
   "cell_type": "code",
   "execution_count": 11,
   "id": "conditional-drove",
   "metadata": {},
   "outputs": [
    {
     "data": {
      "text/plain": [
       "{'ip_seg': '183.172.0.0/14',\n",
       " 'net_name': 'BJR-CERNET',\n",
       " 'inetnum': '183.172.0.0-183.175.255.255',\n",
       " 'geo': '北京市'}"
      ]
     },
     "execution_count": 11,
     "metadata": {},
     "output_type": "execute_result"
    }
   ],
   "source": [
    "a.query(\"183.172.53.106\")"
   ]
  },
  {
   "cell_type": "code",
   "execution_count": 1,
   "id": "coral-lightweight",
   "metadata": {},
   "outputs": [],
   "source": [
    "from nettopo import topobuild\n",
    "a = topobuild.topobuild()"
   ]
  },
  {
   "cell_type": "code",
   "execution_count": 2,
   "id": "peripheral-wheat",
   "metadata": {},
   "outputs": [],
   "source": [
    "mtr = {'monitor': '183.201.234.102',\n",
    " 'port': '443',\n",
    " 'route_info': 'bXRyPVN0YXJ0OiBXZWQgTm92ICA5IDIzOjU3OjUzIDIwMjIKSE9TVDogVk0tVFlOLTAxV0ViMTAyIExvc3MlICAgU250ICAgTGFzdCAgIEF2ZyAgQmVzdCAgV3JzdCBTdERldgogIDEufC0tIDE4My4yMDEuMjM0LjEgICAgMC4wJSAgICA1MCAgICAxLjcgICA3LjMgICAxLjQgIDM4LjYgICA3LjIKICAyLnwtLSAxNzIuMTYuMS40MSAgICAgIDAuMCUgICAgNTAgICAgMS45ICAgNy43ICAgMS4zICAyOS44ICAgNy42CiAgMy58LS0gMTgzLjIwMy4xMTAuMTUzICA4LjAlICAgIDUwICAgIDIuOCAgIDYuNiAgIDIuMiAgMjUuMSAgIDYuNAogIDQufC0tIDE4My4yMDMuMTEwLjE3ICAgMC4wJSAgICA1MCAgICA4LjcgIDEwLjQgICAxLjIgMTExLjkgIDE5LjEKICA1LnwtLSAyMjEuMTgzLjU5LjExNyAgIDAuMCUgICAgNTAgICAgNS43ICAgNi4xICAgMS40ICAyMS4xICAgNS43CiAgNi58LS0gMjIxLjE4My40Mi4xMzMgICAwLjAlICAgIDUwICAgMjcuNSAgMzguMSAgMjcuNSAxOTYuOCAgMjYuMgogIDcufC0tIDIyMS4xODMuNzkuMTIyICAgMC4wJSAgICA1MCAgIDI4LjIgIDMyLjIgIDI3LjIgIDU2LjMgICA2LjIKICA4LnwtLSAyMjMuMTExLjQuNiAgICAgIDQuMCUgICAgNTAgICAyOC43ICAzNi45ICAyOC42IDE5My4zICAyNS40CiAgOS58LS0gPz8/ICAgICAgICAgICAgIDEwMC4wICAgIDUwICAgIDAuMCAgIDAuMCAgIDAuMCAgIDAuMCAgIDAuMAo=',\n",
    " 'dest_ip': '223.111.17.145',\n",
    " 'host': 'mall.icbc.com.cn',\n",
    " 'collect_time': '1668009472000',\n",
    " 'collect_date': '2022-11-09',\n",
    " 'error_type': 'nmap_fail: filtered'}"
   ]
  },
  {
   "cell_type": "code",
   "execution_count": 3,
   "id": "complicated-shelter",
   "metadata": {},
   "outputs": [],
   "source": [
    "a.mtr2topo(mtr)"
   ]
  },
  {
   "cell_type": "code",
   "execution_count": 4,
   "id": "contemporary-entrepreneur",
   "metadata": {},
   "outputs": [
    {
     "data": {
      "text/plain": [
       "{'223.111.4.6': 1668009472000,\n",
       " '221.183.79.122': 1668009472000,\n",
       " '183.203.110.17': 1668009472000,\n",
       " '183.203.110.153': 1668009472000,\n",
       " '221.183.59.117': 1668009472000,\n",
       " '172.16.1.41': 1668009472000,\n",
       " '221.183.42.133': 1668009472000,\n",
       " '183.201.234.1': 1668009472000}"
      ]
     },
     "execution_count": 4,
     "metadata": {},
     "output_type": "execute_result"
    }
   ],
   "source": [
    "a.query(monitor='183.201.234.102', dest='223.111.17.145')"
   ]
  },
  {
   "cell_type": "code",
   "execution_count": null,
   "id": "delayed-thickness",
   "metadata": {},
   "outputs": [],
   "source": []
  },
  {
   "cell_type": "code",
   "execution_count": 14,
   "id": "discrete-control",
   "metadata": {},
   "outputs": [],
   "source": [
    "import json\n",
    "from collections import Counter\n",
    "\n",
    "import numpy as np\n",
    "\n",
    "\n",
    "# 节点类\n",
    "class Node:\n",
    "    def __init__(self, node_type, class_name, feature_name=None,\n",
    "                 info_gain_ratio_value=0.0):\n",
    "        # 结点类型（internal或leaf）\n",
    "        self.node_type = node_type\n",
    "        # 特征名\n",
    "        self.feature_name = feature_name\n",
    "        # 类别名\n",
    "        self.class_name = class_name\n",
    "        # 子结点树\n",
    "        self.child_nodes = []\n",
    "        # Gini指数值\n",
    "        self.info_gain_ratio_value = info_gain_ratio_value\n",
    "\n",
    "    def __repr__(self):\n",
    "        return json.dumps(self, indent=3, default=lambda obj: obj.__dict__, ensure_ascii=False)\n",
    "\n",
    "    def add_sub_tree(self, key, sub_tree):\n",
    "        self.child_nodes.append({\"condition\": key, \"sub_tree\": sub_tree})\n"
   ]
  },
  {
   "cell_type": "code",
   "execution_count": 65,
   "id": "novel-harvey",
   "metadata": {},
   "outputs": [],
   "source": [
    "class MyDecisionTree:\n",
    "    def __init__(self, epsilon):\n",
    "        self.epsilon = epsilon\n",
    "        self.tree = None\n",
    "\n",
    "    def fit(self, train_set, y, feature_names):\n",
    "        features_indices = list(range(len(feature_names)))\n",
    "        self.tree = self._fit(train_set, y, features_indices, feature_names)\n",
    "        return self\n",
    "\n",
    "    # C4.5算法\n",
    "    def _fit(self, train_data, y, features_indices, feature_labels):\n",
    "        LEAF = 'leaf'\n",
    "        INTERNAL = 'internal'\n",
    "        class_num = len(np.unique(y))\n",
    "\n",
    "        # （1）如果训练数据集所有实例都属于同一类Ck\n",
    "        label_set = set(y)\n",
    "        if len(label_set) == 1:\n",
    "            # 将Ck作为该结点的类\n",
    "            return Node(node_type=LEAF, class_name=label_set.pop())\n",
    "\n",
    "        # （2）如果特征集为空\n",
    "        # 计算每一个类出现的个数\n",
    "        class_len = Counter(y).most_common()\n",
    "        (max_class, max_len) = class_len[0]\n",
    "\n",
    "        if len(features_indices) == 0:\n",
    "            # 将实例数最大的类Ck作为该结点的类\n",
    "            return Node(LEAF, class_name=max_class)\n",
    "\n",
    "        # （3）按式(5.10)计算信息增益，并选择信息增益最大的特征\n",
    "        max_feature = 0\n",
    "        max_gda = 0\n",
    "        D = y.copy()\n",
    "        # 计算特征集A中各特征\n",
    "        for feature in features_indices:\n",
    "            # 选择训练集中的第feature列（即第feature个特征）\n",
    "            A = np.array(train_data[:, feature].flat)\n",
    "            # 计算信息增益\n",
    "            gda = self._calc_ent_grap(A, D)\n",
    "            if self._calc_ent(A) != 0:\n",
    "                # 计算信息增益比\n",
    "                gda /= self._calc_ent(A)\n",
    "            # 选择信息增益最大的特征Ag\n",
    "            if gda > max_gda:\n",
    "                max_gda, max_feature = gda, feature\n",
    "        \n",
    "\n",
    "        # （4）如果Ag信息增益小于阈值\n",
    "        if max_gda < self.epsilon:\n",
    "            # 将训练集中实例数最大的类Ck作为该结点的类\n",
    "            return Node(LEAF, class_name=max_class)\n",
    "\n",
    "        max_feature_label = feature_labels[max_feature]\n",
    "\n",
    "        # （6）移除已选特征Ag\n",
    "        sub_feature_indecs = np.setdiff1d(features_indices, max_feature)\n",
    "        sub_feature_labels = feature_labels\n",
    "\n",
    "        # （5）构建非空子集\n",
    "        # 构建结点\n",
    "        feature_name = feature_labels[max_feature]\n",
    "        tree = Node(INTERNAL, class_name=None, feature_name=feature_name,\n",
    "                    info_gain_ratio_value=max_gda)\n",
    "\n",
    "        max_feature_col = np.array(train_data[:, max_feature].flat)\n",
    "        # 将类按照对应的实例数递减顺序排列\n",
    "        feature_value_list = [x[0] for x in Counter(max_feature_col).most_common()]\n",
    "        # 遍历Ag的每一个可能值ai\n",
    "        for feature_value in feature_value_list:\n",
    "            index = []\n",
    "            for i in range(len(y)):\n",
    "                if train_data[i][max_feature] == feature_value:\n",
    "                    index.append(i)\n",
    "\n",
    "            # 递归调用步（1）~步（5），得到子树\n",
    "            sub_train_set = train_data[index]\n",
    "            sub_train_label = y[index]\n",
    "            sub_tree = self._fit(sub_train_set, sub_train_label, sub_feature_indecs, sub_feature_labels)\n",
    "            # 在结点中，添加其子结点构成的树\n",
    "            tree.add_sub_tree(feature_value, sub_tree)\n",
    "\n",
    "        return tree\n",
    "\n",
    "    # 计算数据集x的经验熵H(x)\n",
    "    def _calc_ent(self, x):\n",
    "        x_value_list = set([x[i] for i in range(x.shape[0])])\n",
    "        ent = 0.0\n",
    "        for x_value in x_value_list:\n",
    "            p = float(x[x == x_value].shape[0]) / x.shape[0]\n",
    "            logp = np.log2(p)\n",
    "            ent -= p * logp\n",
    "\n",
    "        return ent\n",
    "\n",
    "    # 计算条件熵H(y/x)\n",
    "    def _calc_condition_ent(self, x, y):\n",
    "        x_value_list = set([x[i] for i in range(x.shape[0])])\n",
    "        ent = 0.0\n",
    "        for x_value in x_value_list:\n",
    "            sub_y = y[x == x_value]\n",
    "            temp_ent = self._calc_ent(sub_y)\n",
    "            ent += (float(sub_y.shape[0]) / y.shape[0]) * temp_ent\n",
    "\n",
    "        return ent\n",
    "\n",
    "    # 计算信息增益\n",
    "    def _calc_ent_grap(self, x, y):\n",
    "        base_ent = self._calc_ent(y)\n",
    "        condition_ent = self._calc_condition_ent(x, y)\n",
    "        ent_grap = base_ent - condition_ent\n",
    "        #print(ent_grap)\n",
    "\n",
    "        return ent_grap\n",
    "\n",
    "    def __repr__(self):\n",
    "        return str(self.tree)\n"
   ]
  },
  {
   "cell_type": "code",
   "execution_count": 66,
   "id": "floral-country",
   "metadata": {},
   "outputs": [
    {
     "data": {
      "text/plain": [
       "{\n",
       "   \"node_type\": \"internal\",\n",
       "   \"feature_name\": \"有自己的房子\",\n",
       "   \"class_name\": null,\n",
       "   \"child_nodes\": [\n",
       "      {\n",
       "         \"condition\": \"否\",\n",
       "         \"sub_tree\": {\n",
       "            \"node_type\": \"internal\",\n",
       "            \"feature_name\": \"有工作\",\n",
       "            \"class_name\": null,\n",
       "            \"child_nodes\": [\n",
       "               {\n",
       "                  \"condition\": \"否\",\n",
       "                  \"sub_tree\": {\n",
       "                     \"node_type\": \"leaf\",\n",
       "                     \"feature_name\": null,\n",
       "                     \"class_name\": \"否\",\n",
       "                     \"child_nodes\": [],\n",
       "                     \"info_gain_ratio_value\": 0.0\n",
       "                  }\n",
       "               },\n",
       "               {\n",
       "                  \"condition\": \"是\",\n",
       "                  \"sub_tree\": {\n",
       "                     \"node_type\": \"leaf\",\n",
       "                     \"feature_name\": null,\n",
       "                     \"class_name\": \"是\",\n",
       "                     \"child_nodes\": [],\n",
       "                     \"info_gain_ratio_value\": 0.0\n",
       "                  }\n",
       "               }\n",
       "            ],\n",
       "            \"info_gain_ratio_value\": 0.9182958340544896\n",
       "         }\n",
       "      },\n",
       "      {\n",
       "         \"condition\": \"是\",\n",
       "         \"sub_tree\": {\n",
       "            \"node_type\": \"leaf\",\n",
       "            \"feature_name\": null,\n",
       "            \"class_name\": \"是\",\n",
       "            \"child_nodes\": [],\n",
       "            \"info_gain_ratio_value\": 0.0\n",
       "         }\n",
       "      }\n",
       "   ],\n",
       "   \"info_gain_ratio_value\": 0.4199730940219749\n",
       "}"
      ]
     },
     "execution_count": 66,
     "metadata": {},
     "output_type": "execute_result"
    }
   ],
   "source": [
    "# 表5.1的训练数据集\n",
    "feature_names = np.array([\"年龄\", \"有工作\", \"有自己的房子\", \"信贷情况\"])\n",
    "X_train = np.array([\n",
    "    [\"青年\", \"否\", \"否\", \"一般\"],\n",
    "    [\"青年\", \"否\", \"否\", \"好\"],\n",
    "    [\"青年\", \"是\", \"否\", \"好\"],\n",
    "    [\"青年\", \"是\", \"是\", \"一般\"],\n",
    "    [\"青年\", \"否\", \"否\", \"一般\"],\n",
    "    [\"中年\", \"否\", \"否\", \"一般\"],\n",
    "    [\"中年\", \"否\", \"否\", \"好\"],\n",
    "    [\"中年\", \"是\", \"是\", \"好\"],\n",
    "    [\"中年\", \"否\", \"是\", \"非常好\"],\n",
    "    [\"中年\", \"否\", \"是\", \"非常好\"],\n",
    "    [\"老年\", \"否\", \"是\", \"非常好\"],\n",
    "    [\"老年\", \"否\", \"是\", \"好\"],\n",
    "    [\"老年\", \"是\", \"否\", \"好\"],\n",
    "    [\"老年\", \"是\", \"否\", \"非常好\"],\n",
    "    [\"老年\", \"否\", \"否\", \"一般\"]\n",
    "])\n",
    "y = np.array([\"否\", \"否\", \"是\", \"是\", \"否\",\n",
    "              \"否\", \"否\", \"是\", \"是\", \"是\",\n",
    "              \"是\", \"是\", \"是\", \"是\", \"否\"])\n",
    "\n",
    "dt_tree = MyDecisionTree(epsilon=0.1)\n",
    "dt_tree.fit(X_train, y, feature_names)\n",
    "dt_tree\n"
   ]
  },
  {
   "cell_type": "code",
   "execution_count": 41,
   "id": "joined-dictionary",
   "metadata": {},
   "outputs": [],
   "source": [
    "from sklearn.tree import DecisionTreeClassifier\n",
    "from sklearn import preprocessing\n",
    "import numpy as np\n",
    "import pandas as pd\n",
    "\n",
    "from sklearn import tree\n",
    "import graphviz\n",
    "\n",
    "features = [\"年龄\", \"有工作\", \"有自己的房子\", \"信贷情况\"]\n",
    "X_train = pd.DataFrame([\n",
    "    [\"青年\", \"否\", \"否\", \"一般\"],\n",
    "    [\"青年\", \"否\", \"否\", \"好\"],\n",
    "    [\"青年\", \"是\", \"否\", \"好\"],\n",
    "    [\"青年\", \"是\", \"是\", \"一般\"],\n",
    "    [\"青年\", \"否\", \"否\", \"一般\"],\n",
    "    [\"中年\", \"否\", \"否\", \"一般\"],\n",
    "    [\"中年\", \"否\", \"否\", \"好\"],\n",
    "    [\"中年\", \"是\", \"是\", \"好\"],\n",
    "    [\"中年\", \"否\", \"是\", \"非常好\"],\n",
    "    [\"中年\", \"否\", \"是\", \"非常好\"],\n",
    "    [\"老年\", \"否\", \"是\", \"非常好\"],\n",
    "    [\"老年\", \"否\", \"是\", \"好\"],\n",
    "    [\"老年\", \"是\", \"否\", \"好\"],\n",
    "    [\"老年\", \"是\", \"否\", \"非常好\"],\n",
    "    [\"老年\", \"否\", \"否\", \"一般\"]\n",
    "])\n",
    "y_train = pd.DataFrame([\"否\", \"否\", \"是\", \"是\", \"否\",\n",
    "                        \"否\", \"否\", \"是\", \"是\", \"是\",\n",
    "                        \"是\", \"是\", \"是\", \"是\", \"否\"])\n",
    "class_names = [str(k) for k in np.unique(y_train)]\n",
    "# 数据预处理\n",
    "le_x = preprocessing.LabelEncoder()\n",
    "le_x.fit(np.unique(X_train))\n",
    "X_train = X_train.apply(le_x.transform)\n",
    "# 调用sklearn的DecisionTreeClassifier建立决策树模型\n",
    "model_tree = DecisionTreeClassifier()\n",
    "# 训练模型\n",
    "model_tree.fit(X_train, y_train)\n",
    "\n",
    "# 导出决策树的可视化文件，文件格式是dot\n",
    "dot_data = tree.export_graphviz(model_tree, out_file=None,\n",
    "                                feature_names=features,\n",
    "                                class_names=class_names,\n",
    "                                filled=True, rounded=True,\n",
    "                                special_characters=True)\n",
    "# 使用graphviz包，对决策树进行展示\n",
    "graph = graphviz.Source(dot_data)\n"
   ]
  },
  {
   "cell_type": "code",
   "execution_count": 42,
   "id": "needed-spring",
   "metadata": {},
   "outputs": [
    {
     "data": {
      "text/plain": [
       "'Source.gv.pdf'"
      ]
     },
     "execution_count": 42,
     "metadata": {},
     "output_type": "execute_result"
    }
   ],
   "source": [
    "graph.view()"
   ]
  },
  {
   "cell_type": "code",
   "execution_count": 53,
   "id": "affecting-nancy",
   "metadata": {},
   "outputs": [],
   "source": [
    "xx = np.setdiff1d([1,2,3,4], 3)"
   ]
  },
  {
   "cell_type": "code",
   "execution_count": 54,
   "id": "engaging-effectiveness",
   "metadata": {},
   "outputs": [
    {
     "data": {
      "text/plain": [
       "array([1, 2, 4])"
      ]
     },
     "execution_count": 54,
     "metadata": {},
     "output_type": "execute_result"
    }
   ],
   "source": [
    "xx"
   ]
  },
  {
   "cell_type": "code",
   "execution_count": null,
   "id": "respected-smart",
   "metadata": {},
   "outputs": [],
   "source": []
  }
 ],
 "metadata": {
  "kernelspec": {
   "display_name": "Python 3",
   "language": "python",
   "name": "python3"
  },
  "language_info": {
   "codemirror_mode": {
    "name": "ipython",
    "version": 3
   },
   "file_extension": ".py",
   "mimetype": "text/x-python",
   "name": "python",
   "nbconvert_exporter": "python",
   "pygments_lexer": "ipython3",
   "version": "3.6.8"
  }
 },
 "nbformat": 4,
 "nbformat_minor": 5
}
